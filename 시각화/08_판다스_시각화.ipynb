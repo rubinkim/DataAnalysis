{
  "nbformat": 4,
  "nbformat_minor": 0,
  "metadata": {
    "colab": {
      "name": "08_판다스_시각화.ipynb",
      "provenance": [],
      "collapsed_sections": []
    },
    "kernelspec": {
      "name": "python3",
      "display_name": "Python 3"
    },
    "language_info": {
      "name": "python"
    }
  },
  "cells": [
    {
      "cell_type": "markdown",
      "metadata": {
        "id": "SPGVsu5ZSTiD"
      },
      "source": [
        "# Pandas 데이터 시각화"
      ]
    },
    {
      "cell_type": "code",
      "metadata": {
        "colab": {
          "base_uri": "https://localhost:8080/"
        },
        "id": "udL59jBHQH5A",
        "outputId": "88a8e46a-b1a2-4241-f0c6-b81bb7f30842"
      },
      "source": [
        "!sudo apt-get install -y fonts-nanum > /dev/null\n",
        "!sudo fc-cache -fv > /dev/null\n",
        "!rm ~/.cache/matplotlib -rf > /dev/null"
      ],
      "execution_count": 1,
      "outputs": [
        {
          "output_type": "stream",
          "text": [
            "debconf: unable to initialize frontend: Dialog\n",
            "debconf: (No usable dialog-like program is installed, so the dialog based frontend cannot be used. at /usr/share/perl5/Debconf/FrontEnd/Dialog.pm line 76, <> line 1.)\n",
            "debconf: falling back to frontend: Readline\n",
            "debconf: unable to initialize frontend: Readline\n",
            "debconf: (This frontend requires a controlling tty.)\n",
            "debconf: falling back to frontend: Teletype\n",
            "dpkg-preconfigure: unable to re-open stdin: \n"
          ],
          "name": "stdout"
        }
      ]
    },
    {
      "cell_type": "code",
      "metadata": {
        "id": "BX8BTcWUQRC0"
      },
      "source": [
        "import numpy as np\n",
        "import pandas as pd\n",
        "import matplotlib as mpl\n",
        "import matplotlib.pyplot as plt\n",
        "import seaborn as sns"
      ],
      "execution_count": 4,
      "outputs": []
    },
    {
      "cell_type": "code",
      "metadata": {
        "id": "avrz60CgQlaW"
      },
      "source": [
        "mpl.rcParams['axes.unicode_minus'] = False\n",
        "plt.rc('font', family='NanumBarunGothic')"
      ],
      "execution_count": 5,
      "outputs": []
    },
    {
      "cell_type": "code",
      "metadata": {
        "colab": {
          "base_uri": "https://localhost:8080/",
          "height": 280
        },
        "id": "EADwZCLwQqDF",
        "outputId": "c748dc04-e3ec-484e-bb0f-f17f440ed1ec"
      },
      "source": [
        "plt.title('라인 플롯 예')\n",
        "plt.plot([0,1,4,9])\n",
        "plt.grid()\n",
        "plt.show()"
      ],
      "execution_count": 7,
      "outputs": [
        {
          "output_type": "display_data",
          "data": {
            "image/png": "[encoded data removed]",
            "text/plain": [
              "<Figure size 432x288 with 1 Axes>"
            ]
          },
          "metadata": {
            "tags": [],
            "needs_background": "light"
          }
        }
      ]
    },
    {
      "cell_type": "code",
      "metadata": {
        "id": "Uk0boTmhQtJM"
      },
      "source": [
        "iris = sns.load_dataset('iris')\n",
        "titanic = sns.load_dataset('titanic')\n",
        "tips = sns.load_dataset('tips')\n",
        "flights = sns.load_dataset('flights')\n"
      ],
      "execution_count": 8,
      "outputs": []
    },
    {
      "cell_type": "markdown",
      "metadata": {
        "id": "Jl-c6mAzS7PT"
      },
      "source": [
        "## 예시\n",
        "line, bar, pie, hist, kde, box, scatter, area"
      ]
    },
    {
      "cell_type": "markdown",
      "metadata": {
        "id": "Ax0ecTRQUdkn"
      },
      "source": [
        "### line chart"
      ]
    },
    {
      "cell_type": "code",
      "metadata": {
        "colab": {
          "base_uri": "https://localhost:8080/",
          "height": 204
        },
        "id": "TGxUc10-S3Tn",
        "outputId": "1498bf73-f230-463d-e312-8e99f9908cd9"
      },
      "source": [
        "np.random.seed(2021)\n",
        "df1 = pd.DataFrame(np.random.randn(100, 3),\n",
        "                   index=pd.date_range('1/1/2021', periods=100),\n",
        "                   columns=['A', 'B', 'C']).cumsum()\n",
        "df1.tail()"
      ],
      "execution_count": 28,
      "outputs": [
        {
          "output_type": "execute_result",
          "data": {
            "text/html": [
              "<div>\n",
              "<style scoped>\n",
              "    .dataframe tbody tr th:only-of-type {\n",
              "        vertical-align: middle;\n",
              "    }\n",
              "\n",
              "    .dataframe tbody tr th {\n",
              "        vertical-align: top;\n",
              "    }\n",
              "\n",
              "    .dataframe thead th {\n",
              "        text-align: right;\n",
              "    }\n",
              "</style>\n",
              "<table border=\"1\" class=\"dataframe\">\n",
              "  <thead>\n",
              "    <tr style=\"text-align: right;\">\n",
              "      <th></th>\n",
              "      <th>A</th>\n",
              "      <th>B</th>\n",
              "      <th>C</th>\n",
              "    </tr>\n",
              "  </thead>\n",
              "  <tbody>\n",
              "    <tr>\n",
              "      <th>2021-04-06</th>\n",
              "      <td>19.553541</td>\n",
              "      <td>11.530579</td>\n",
              "      <td>-8.757243</td>\n",
              "    </tr>\n",
              "    <tr>\n",
              "      <th>2021-04-07</th>\n",
              "      <td>20.909591</td>\n",
              "      <td>10.466816</td>\n",
              "      <td>-10.143565</td>\n",
              "    </tr>\n",
              "    <tr>\n",
              "      <th>2021-04-08</th>\n",
              "      <td>22.435144</td>\n",
              "      <td>11.674278</td>\n",
              "      <td>-7.474442</td>\n",
              "    </tr>\n",
              "    <tr>\n",
              "      <th>2021-04-09</th>\n",
              "      <td>22.546156</td>\n",
              "      <td>10.547727</td>\n",
              "      <td>-7.594791</td>\n",
              "    </tr>\n",
              "    <tr>\n",
              "      <th>2021-04-10</th>\n",
              "      <td>21.319639</td>\n",
              "      <td>9.825032</td>\n",
              "      <td>-8.213817</td>\n",
              "    </tr>\n",
              "  </tbody>\n",
              "</table>\n",
              "</div>"
            ],
            "text/plain": [
              "                    A          B          C\n",
              "2021-04-06  19.553541  11.530579  -8.757243\n",
              "2021-04-07  20.909591  10.466816 -10.143565\n",
              "2021-04-08  22.435144  11.674278  -7.474442\n",
              "2021-04-09  22.546156  10.547727  -7.594791\n",
              "2021-04-10  21.319639   9.825032  -8.213817"
            ]
          },
          "metadata": {
            "tags": []
          },
          "execution_count": 28
        }
      ]
    },
    {
      "cell_type": "code",
      "metadata": {
        "colab": {
          "base_uri": "https://localhost:8080/",
          "height": 306
        },
        "id": "RgmeR7V3TNKF",
        "outputId": "4b24cc22-2bd5-42bc-df24-d0a4ed0c319e"
      },
      "source": [
        "df1.plot()\n",
        "plt.title('라인 플롯')\n",
        "plt.xlabel('일자')\n",
        "plt.ylabel('데이터')\n",
        "plt.grid()\n",
        "plt.show()"
      ],
      "execution_count": 13,
      "outputs": [
        {
          "output_type": "display_data",
          "data": {
            "image/png": "[encoded data removed]",
            "text/plain": [
              "<Figure size 432x288 with 1 Axes>"
            ]
          },
          "metadata": {
            "tags": [],
            "needs_background": "light"
          }
        }
      ]
    },
    {
      "cell_type": "code",
      "metadata": {
        "colab": {
          "base_uri": "https://localhost:8080/"
        },
        "id": "zQVTxZE2TivB",
        "outputId": "317f1424-2805-453d-e971-c306441bffb8"
      },
      "source": [
        " np.random.randn(100, 3)"
      ],
      "execution_count": 25,
      "outputs": [
        {
          "output_type": "execute_result",
          "data": {
            "text/plain": [
              "array([[ 0.38417318,  0.83647461,  1.31463184],\n",
              "       [-1.34398534, -0.58182729, -0.59238583],\n",
              "       [ 0.29186324, -0.99028615, -0.27389121],\n",
              "       [ 0.95600915,  0.14189529, -0.5806097 ],\n",
              "       [-0.73475932, -0.97007202, -0.13890943],\n",
              "       [ 0.66550248, -1.58259194, -0.98049008],\n",
              "       [-0.53750607, -1.32857645,  0.878594  ],\n",
              "       [-0.22055441,  0.44068977,  0.69973888],\n",
              "       [-0.18154933,  1.87109284,  0.61404307],\n",
              "       [-0.81724303, -1.08864352,  0.80398121],\n",
              "       [ 1.19523417, -0.01146552,  0.23343722],\n",
              "       [-1.576667  ,  0.62188379, -1.21328967],\n",
              "       [-2.14360915,  1.31343337,  0.64783768],\n",
              "       [ 1.16014925, -1.63126822, -0.03428886],\n",
              "       [ 1.41702415, -1.03135455, -0.17010534],\n",
              "       [-0.00609236,  0.86387628,  1.17238709],\n",
              "       [-0.6914441 ,  0.0295551 ,  0.2011155 ],\n",
              "       [ 0.2132878 ,  0.88624586,  0.04886997],\n",
              "       [ 0.88327758,  0.65919495, -1.17254459],\n",
              "       [ 0.31177366, -1.43699763, -0.151088  ],\n",
              "       [-0.99412634,  0.81495268, -0.09735112],\n",
              "       [ 0.21956592, -0.10568017,  0.16441589],\n",
              "       [-1.24165574, -0.95066508, -0.41358392],\n",
              "       [-1.62658109, -0.116679  , -0.34360021],\n",
              "       [ 1.65210199,  0.48844069, -0.97246307],\n",
              "       [-0.58324361,  1.14238629,  1.74461983],\n",
              "       [-0.84109207, -0.4203053 , -1.52443011],\n",
              "       [-0.20102392,  0.03271448, -1.09380531],\n",
              "       [-0.60641662,  0.27653019, -0.04274745],\n",
              "       [ 0.07166194, -0.15410687,  0.97356258],\n",
              "       [ 0.25414126,  1.05879595,  0.78107037],\n",
              "       [-0.54635823,  1.54650131,  1.46080181],\n",
              "       [-0.40578878,  1.43086773, -0.21069973],\n",
              "       [-0.71425605, -0.39001469, -1.12363691],\n",
              "       [-0.79680479, -0.67386398, -0.2369378 ],\n",
              "       [ 0.81682211, -0.85001682,  0.77316875],\n",
              "       [ 0.33417035,  1.03533486, -0.53665376],\n",
              "       [ 0.51443378, -1.26670177, -0.40808224],\n",
              "       [ 0.40808453, -1.30409641, -0.76737038],\n",
              "       [-0.37076285, -1.80065998, -1.06737769],\n",
              "       [-0.1261404 ,  0.4594771 ,  0.85236292],\n",
              "       [ 0.30652867,  0.883799  , -0.11744223],\n",
              "       [-0.47305388,  0.58072793,  1.88723219],\n",
              "       [-0.55393436,  0.51869336,  0.07742329],\n",
              "       [-1.5313427 ,  0.74281248, -0.48434702],\n",
              "       [ 0.88518399,  0.089355  ,  0.64250899],\n",
              "       [ 1.59613679, -1.22869427,  0.1393659 ],\n",
              "       [-0.74097265,  0.07893833, -1.58730732],\n",
              "       [-0.04141167,  0.4676652 ,  2.2467043 ],\n",
              "       [-0.37958554, -0.49243673,  0.42652303],\n",
              "       [-0.37825877, -0.08124883, -0.68827697],\n",
              "       [-0.26473031,  2.21297061,  0.10567097],\n",
              "       [-0.22285691,  0.40809498, -0.33301199],\n",
              "       [ 0.57865527,  0.93836114,  0.41350806],\n",
              "       [ 1.51169216, -0.65265573, -1.23133217],\n",
              "       [ 1.24648683, -0.64402588, -0.29799678],\n",
              "       [-3.0663246 , -0.73077444, -0.200466  ],\n",
              "       [-0.75506598,  3.42526957, -0.91501093],\n",
              "       [ 0.65910168,  0.47102331,  1.05282785],\n",
              "       [ 0.44404478,  0.85914353, -0.776369  ],\n",
              "       [-0.37351724, -1.53562235,  0.20178569],\n",
              "       [-0.11016686, -0.19232803,  0.08044615],\n",
              "       [-0.88979422, -0.20075015, -1.31246388],\n",
              "       [-0.23276233, -1.51087601,  0.75087126],\n",
              "       [ 0.45705608,  0.16485133,  0.4443254 ],\n",
              "       [-0.34349934, -0.48812377, -0.60445985],\n",
              "       [-0.72321797,  0.26184428, -0.40424619],\n",
              "       [-0.51761993, -2.13187529, -0.63013353],\n",
              "       [ 0.25704767,  1.37077615,  1.71038234],\n",
              "       [-0.29680754, -0.95314827,  0.10645787],\n",
              "       [ 0.402295  ,  1.08828507,  0.98909523],\n",
              "       [ 1.08008362, -0.71583989, -0.73240449],\n",
              "       [ 0.60224466, -0.23652914,  2.90796314],\n",
              "       [ 1.04894104,  2.40895558,  1.32261009],\n",
              "       [ 0.52924783,  0.21490651,  1.58655878],\n",
              "       [-0.22493034,  0.35284928, -0.09853375],\n",
              "       [ 0.19143512, -0.46717167, -0.78954719],\n",
              "       [-1.41015172,  0.45243316, -1.70451096],\n",
              "       [-0.69508872, -0.29138624, -0.05711189],\n",
              "       [-0.24891199,  0.65789595, -1.66395978],\n",
              "       [ 2.22954107, -0.70685374,  1.70920239],\n",
              "       [ 0.78127625, -0.60218566, -1.48160769],\n",
              "       [ 0.9489042 , -2.29633325,  0.67472519],\n",
              "       [ 0.44780557,  0.69396351, -1.17210149],\n",
              "       [ 0.36087757,  1.54894827,  0.84454879],\n",
              "       [ 1.73052051, -0.50967666,  0.78121523],\n",
              "       [-0.28277808,  0.29600494, -0.69533431],\n",
              "       [-0.60842497, -0.45532062,  1.0111614 ],\n",
              "       [-0.6641986 , -1.25546535, -0.81927932],\n",
              "       [ 1.34656801, -0.7004642 ,  0.27503835],\n",
              "       [-0.38321949, -0.6613371 , -0.29332347],\n",
              "       [-0.62761992,  0.17839894, -0.92975032],\n",
              "       [ 0.81415175,  0.82437642, -0.92705224],\n",
              "       [ 1.57181107, -0.7809782 , -1.07504495],\n",
              "       [-0.86523403,  0.24636505, -0.98397528],\n",
              "       [-0.58715933,  0.59911216, -2.01609963],\n",
              "       [ 0.08617799,  0.3386272 , -0.37911829],\n",
              "       [-0.9615999 , -0.42383224, -0.92491748],\n",
              "       [ 1.01010697,  0.75532068,  0.8542725 ],\n",
              "       [ 0.70907623,  0.82063592,  0.12924242]])"
            ]
          },
          "metadata": {
            "tags": []
          },
          "execution_count": 25
        }
      ]
    },
    {
      "cell_type": "markdown",
      "metadata": {
        "id": "JeJZOmooUh_S"
      },
      "source": [
        "### bar chart"
      ]
    },
    {
      "cell_type": "code",
      "metadata": {
        "colab": {
          "base_uri": "https://localhost:8080/",
          "height": 294
        },
        "id": "QyYjNb5ZT2Et",
        "outputId": "438c7a02-0975-42e7-d341-5ed4502d4b7b"
      },
      "source": [
        "iris = sns.load_dataset(\"iris\")    # 붓꽃 데이터\n",
        "titanic = sns.load_dataset(\"titanic\")    # 타이타닉호 데이터\n",
        "\n",
        "iris.sepal_length[:20].plot(kind='bar', rot=0)\n",
        "plt.title(\"꽃받침의 길이 시각화\")\n",
        "plt.xlabel(\"Data\")\n",
        "plt.ylabel(\"꽃받침의 길이\")\n",
        "plt.show()"
      ],
      "execution_count": 32,
      "outputs": [
        {
          "output_type": "display_data",
          "data": {
            "image/png": "[encoded data removed]",
            "text/plain": [
              "<Figure size 432x288 with 1 Axes>"
            ]
          },
          "metadata": {
            "tags": [],
            "needs_background": "light"
          }
        }
      ]
    },
    {
      "cell_type": "code",
      "metadata": {
        "colab": {
          "base_uri": "https://localhost:8080/",
          "height": 294
        },
        "id": "bWqgh1IrUoIs",
        "outputId": "c87bf167-a6ae-4c0d-aff0-8cf6de5463af"
      },
      "source": [
        "iris.sepal_length[:20].plot(kind='barh', rot=0, color=plt.get_cmap('RdBu')(np.linspace(0.8, 0.2, 20)))\n",
        "plt.title(\"꽃받침의 길이 시각화\")\n",
        "plt.ylabel(\"Data\")\n",
        "plt.xlabel(\"꽃받침의 길이\")\n",
        "plt.show()"
      ],
      "execution_count": 31,
      "outputs": [
        {
          "output_type": "display_data",
          "data": {
            "image/png": "[encoded data removed]",
            "text/plain": [
              "<Figure size 432x288 with 1 Axes>"
            ]
          },
          "metadata": {
            "tags": [],
            "needs_background": "light"
          }
        }
      ]
    },
    {
      "cell_type": "code",
      "metadata": {
        "colab": {
          "base_uri": "https://localhost:8080/",
          "height": 294
        },
        "id": "QEs98Y7JU1Qp",
        "outputId": "31af8847-2589-4208-bc9a-c886f7bcb9a2"
      },
      "source": [
        "iris.sepal_length[:20].sort_values(ascending=True).plot(kind='barh', rot=0, color=plt.get_cmap('RdBu')(np.linspace(0.8, 0.2, 20)))\n",
        "plt.title(\"꽃받침의 길이 시각화\")\n",
        "plt.ylabel(\"Data\")\n",
        "plt.xlabel(\"꽃받침의 길이\")\n",
        "plt.show()"
      ],
      "execution_count": 30,
      "outputs": [
        {
          "output_type": "display_data",
          "data": {
            "image/png": "[encoded data removed]",
            "text/plain": [
              "<Figure size 432x288 with 1 Axes>"
            ]
          },
          "metadata": {
            "tags": [],
            "needs_background": "light"
          }
        }
      ]
    },
    {
      "cell_type": "code",
      "metadata": {
        "colab": {
          "base_uri": "https://localhost:8080/",
          "height": 269
        },
        "id": "UyH_qgdtWekE",
        "outputId": "dcbfd54c-261f-4d6c-dbbf-38b8ed360144"
      },
      "source": [
        "iris[:5].plot.bar(rot=0)\n",
        "plt.ylim(0, 8)\n",
        "plt.show()"
      ],
      "execution_count": 34,
      "outputs": [
        {
          "output_type": "display_data",
          "data": {
            "image/png": "[encoded data removed]",
            "text/plain": [
              "<Figure size 432x288 with 1 Axes>"
            ]
          },
          "metadata": {
            "tags": [],
            "needs_background": "light"
          }
        }
      ]
    },
    {
      "cell_type": "code",
      "metadata": {
        "colab": {
          "base_uri": "https://localhost:8080/",
          "height": 173
        },
        "id": "HBm_e-k7XH3a",
        "outputId": "9afd1cc6-4d79-417d-bedb-5610bc45f369"
      },
      "source": [
        "df2 = iris.groupby('species').mean()\n",
        "df2.columns.name = 'feature'\n",
        "df2"
      ],
      "execution_count": 40,
      "outputs": [
        {
          "output_type": "execute_result",
          "data": {
            "text/html": [
              "<div>\n",
              "<style scoped>\n",
              "    .dataframe tbody tr th:only-of-type {\n",
              "        vertical-align: middle;\n",
              "    }\n",
              "\n",
              "    .dataframe tbody tr th {\n",
              "        vertical-align: top;\n",
              "    }\n",
              "\n",
              "    .dataframe thead th {\n",
              "        text-align: right;\n",
              "    }\n",
              "</style>\n",
              "<table border=\"1\" class=\"dataframe\">\n",
              "  <thead>\n",
              "    <tr style=\"text-align: right;\">\n",
              "      <th>feature</th>\n",
              "      <th>sepal_length</th>\n",
              "      <th>sepal_width</th>\n",
              "      <th>petal_length</th>\n",
              "      <th>petal_width</th>\n",
              "    </tr>\n",
              "    <tr>\n",
              "      <th>species</th>\n",
              "      <th></th>\n",
              "      <th></th>\n",
              "      <th></th>\n",
              "      <th></th>\n",
              "    </tr>\n",
              "  </thead>\n",
              "  <tbody>\n",
              "    <tr>\n",
              "      <th>setosa</th>\n",
              "      <td>5.006</td>\n",
              "      <td>3.428</td>\n",
              "      <td>1.462</td>\n",
              "      <td>0.246</td>\n",
              "    </tr>\n",
              "    <tr>\n",
              "      <th>versicolor</th>\n",
              "      <td>5.936</td>\n",
              "      <td>2.770</td>\n",
              "      <td>4.260</td>\n",
              "      <td>1.326</td>\n",
              "    </tr>\n",
              "    <tr>\n",
              "      <th>virginica</th>\n",
              "      <td>6.588</td>\n",
              "      <td>2.974</td>\n",
              "      <td>5.552</td>\n",
              "      <td>2.026</td>\n",
              "    </tr>\n",
              "  </tbody>\n",
              "</table>\n",
              "</div>"
            ],
            "text/plain": [
              "feature     sepal_length  sepal_width  petal_length  petal_width\n",
              "species                                                         \n",
              "setosa             5.006        3.428         1.462        0.246\n",
              "versicolor         5.936        2.770         4.260        1.326\n",
              "virginica          6.588        2.974         5.552        2.026"
            ]
          },
          "metadata": {
            "tags": []
          },
          "execution_count": 40
        }
      ]
    },
    {
      "cell_type": "code",
      "metadata": {
        "colab": {
          "base_uri": "https://localhost:8080/",
          "height": 173
        },
        "id": "UrVixdTTXmeA",
        "outputId": "6e5539ba-5c46-4895-aa7c-774533059428"
      },
      "source": [
        "df20 = iris.pivot_table(index='species')\n",
        "df20"
      ],
      "execution_count": 38,
      "outputs": [
        {
          "output_type": "execute_result",
          "data": {
            "text/html": [
              "<div>\n",
              "<style scoped>\n",
              "    .dataframe tbody tr th:only-of-type {\n",
              "        vertical-align: middle;\n",
              "    }\n",
              "\n",
              "    .dataframe tbody tr th {\n",
              "        vertical-align: top;\n",
              "    }\n",
              "\n",
              "    .dataframe thead th {\n",
              "        text-align: right;\n",
              "    }\n",
              "</style>\n",
              "<table border=\"1\" class=\"dataframe\">\n",
              "  <thead>\n",
              "    <tr style=\"text-align: right;\">\n",
              "      <th></th>\n",
              "      <th>petal_length</th>\n",
              "      <th>petal_width</th>\n",
              "      <th>sepal_length</th>\n",
              "      <th>sepal_width</th>\n",
              "    </tr>\n",
              "    <tr>\n",
              "      <th>species</th>\n",
              "      <th></th>\n",
              "      <th></th>\n",
              "      <th></th>\n",
              "      <th></th>\n",
              "    </tr>\n",
              "  </thead>\n",
              "  <tbody>\n",
              "    <tr>\n",
              "      <th>setosa</th>\n",
              "      <td>1.462</td>\n",
              "      <td>0.246</td>\n",
              "      <td>5.006</td>\n",
              "      <td>3.428</td>\n",
              "    </tr>\n",
              "    <tr>\n",
              "      <th>versicolor</th>\n",
              "      <td>4.260</td>\n",
              "      <td>1.326</td>\n",
              "      <td>5.936</td>\n",
              "      <td>2.770</td>\n",
              "    </tr>\n",
              "    <tr>\n",
              "      <th>virginica</th>\n",
              "      <td>5.552</td>\n",
              "      <td>2.026</td>\n",
              "      <td>6.588</td>\n",
              "      <td>2.974</td>\n",
              "    </tr>\n",
              "  </tbody>\n",
              "</table>\n",
              "</div>"
            ],
            "text/plain": [
              "            petal_length  petal_width  sepal_length  sepal_width\n",
              "species                                                         \n",
              "setosa             1.462        0.246         5.006        3.428\n",
              "versicolor         4.260        1.326         5.936        2.770\n",
              "virginica          5.552        2.026         6.588        2.974"
            ]
          },
          "metadata": {
            "tags": []
          },
          "execution_count": 38
        }
      ]
    },
    {
      "cell_type": "code",
      "metadata": {
        "colab": {
          "base_uri": "https://localhost:8080/",
          "height": 294
        },
        "id": "SL4A7URuXy6A",
        "outputId": "9c75de2b-1d49-4a61-9e7e-561521c60c38"
      },
      "source": [
        "df2.plot.bar(rot=0)\n",
        "plt.title('각 종의 feature별 평균')\n",
        "plt.ylim(0,8)\n",
        "plt.show()"
      ],
      "execution_count": 42,
      "outputs": [
        {
          "output_type": "display_data",
          "data": {
            "image/png": "[encoded data removed]",
            "text/plain": [
              "<Figure size 432x288 with 1 Axes>"
            ]
          },
          "metadata": {
            "tags": [],
            "needs_background": "light"
          }
        }
      ]
    },
    {
      "cell_type": "code",
      "metadata": {
        "colab": {
          "base_uri": "https://localhost:8080/",
          "height": 294
        },
        "id": "k7XtwmaKX72f",
        "outputId": "bba2011b-d168-426d-8a65-bf7bd280c337"
      },
      "source": [
        "df2.T.plot.bar(rot=0)\n",
        "plt.title('각 종의 feature별 평균')\n",
        "plt.show()"
      ],
      "execution_count": 45,
      "outputs": [
        {
          "output_type": "display_data",
          "data": {
            "image/png": "[encoded data removed]",
            "text/plain": [
              "<Figure size 432x288 with 1 Axes>"
            ]
          },
          "metadata": {
            "tags": [],
            "needs_background": "light"
          }
        }
      ]
    },
    {
      "cell_type": "markdown",
      "metadata": {
        "id": "LQCfVYHBYqzc"
      },
      "source": [
        "### Pie chart"
      ]
    },
    {
      "cell_type": "code",
      "metadata": {
        "colab": {
          "base_uri": "https://localhost:8080/",
          "height": 263
        },
        "id": "AqVoFsp1YXlu",
        "outputId": "298c2fa0-bd80-483e-cf35-cb9b07af3c28"
      },
      "source": [
        "df3 = titanic['class'].value_counts()\n",
        "df3.plot.pie(autopct='%.2f%%')\n",
        "plt.title('선실별 승객수 비율')\n",
        "plt.axis('equal')\n",
        "plt.show()"
      ],
      "execution_count": 47,
      "outputs": [
        {
          "output_type": "display_data",
          "data": {
            "image/png": "[encoded data removed]",
            "text/plain": [
              "<Figure size 432x288 with 1 Axes>"
            ]
          },
          "metadata": {
            "tags": []
          }
        }
      ]
    },
    {
      "cell_type": "markdown",
      "metadata": {
        "id": "_qlRmhcnZfde"
      },
      "source": [
        "### Histogram"
      ]
    },
    {
      "cell_type": "code",
      "metadata": {
        "colab": {
          "base_uri": "https://localhost:8080/",
          "height": 294
        },
        "id": "SSGAHm-UZFmk",
        "outputId": "5a95444c-1fac-478e-c860-e079a8e2d713"
      },
      "source": [
        "iris.plot.hist()\n",
        "plt.title(\"각 Feature 값들의 빈도수 Histogram\")\n",
        "plt.xlabel(\"데이터 값\")\n",
        "plt.show()"
      ],
      "execution_count": 48,
      "outputs": [
        {
          "output_type": "display_data",
          "data": {
            "image/png": "[encoded data removed]",
            "text/plain": [
              "<Figure size 432x288 with 1 Axes>"
            ]
          },
          "metadata": {
            "tags": [],
            "needs_background": "light"
          }
        }
      ]
    },
    {
      "cell_type": "markdown",
      "metadata": {
        "id": "uUV6m3nhZxn4"
      },
      "source": [
        "### Boxplot"
      ]
    },
    {
      "cell_type": "code",
      "metadata": {
        "colab": {
          "base_uri": "https://localhost:8080/",
          "height": 294
        },
        "id": "7UDUonL6Zmui",
        "outputId": "a36f73b4-7cee-4e6d-f514-aebe982baee3"
      },
      "source": [
        "iris.plot.box()\n",
        "plt.title(\"각 Feature 값들의 빈도수에 대한 Box Plot\")\n",
        "plt.xlabel(\"Feature\")\n",
        "plt.ylabel(\"데이터 값\")\n",
        "plt.show()"
      ],
      "execution_count": 50,
      "outputs": [
        {
          "output_type": "display_data",
          "data": {
            "image/png": "[encoded data removed]",
            "text/plain": [
              "<Figure size 432x288 with 1 Axes>"
            ]
          },
          "metadata": {
            "tags": [],
            "needs_background": "light"
          }
        }
      ]
    },
    {
      "cell_type": "code",
      "metadata": {
        "colab": {
          "base_uri": "https://localhost:8080/",
          "height": 293
        },
        "id": "jOBz__KcZ78Y",
        "outputId": "d4534aaf-cffe-4248-b682-3cad4698b3eb"
      },
      "source": [
        "iris.boxplot(by='species')\n",
        "plt.tight_layout(pad=2, h_pad=1)\n",
        "plt.show()"
      ],
      "execution_count": 56,
      "outputs": [
        {
          "output_type": "display_data",
          "data": {
            "image/png": "[encoded data removed]",
            "text/plain": [
              "<Figure size 432x288 with 4 Axes>"
            ]
          },
          "metadata": {
            "tags": [],
            "needs_background": "light"
          }
        }
      ]
    },
    {
      "cell_type": "code",
      "metadata": {
        "id": "AWEir8e3aVdM"
      },
      "source": [
        ""
      ],
      "execution_count": null,
      "outputs": []
    }
  ]
}