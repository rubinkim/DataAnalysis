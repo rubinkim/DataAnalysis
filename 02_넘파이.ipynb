{
  "nbformat": 4,
  "nbformat_minor": 0,
  "metadata": {
    "colab": {
      "name": "02_넘파이.ipynb",
      "provenance": [],
      "collapsed_sections": []
    },
    "kernelspec": {
      "name": "python3",
      "display_name": "Python 3"
    },
    "language_info": {
      "name": "python"
    }
  },
  "cells": [
    {
      "cell_type": "markdown",
      "metadata": {
        "id": "ymUDYFI8U29-"
      },
      "source": [
        "# Numpy - part 2"
      ]
    },
    {
      "cell_type": "code",
      "metadata": {
        "id": "CQqP5gbWUtLe"
      },
      "source": [
        "import numpy as np"
      ],
      "execution_count": 1,
      "outputs": []
    },
    {
      "cell_type": "markdown",
      "metadata": {
        "id": "NBZHoYnWVD4_"
      },
      "source": [
        "### 4. 생성(Creation)"
      ]
    },
    {
      "cell_type": "markdown",
      "metadata": {
        "id": "VPDOZgEIVKDT"
      },
      "source": [
        "### arange : array의 range"
      ]
    },
    {
      "cell_type": "code",
      "metadata": {
        "colab": {
          "base_uri": "https://localhost:8080/"
        },
        "id": "FWMmjXEOVA4w",
        "outputId": "2635a795-8fe4-4f03-cde8-05cec3d6417f"
      },
      "source": [
        "np.arange(10)"
      ],
      "execution_count": null,
      "outputs": [
        {
          "output_type": "execute_result",
          "data": {
            "text/plain": [
              "array([0, 1, 2, 3, 4, 5, 6, 7, 8, 9])"
            ]
          },
          "metadata": {
            "tags": []
          },
          "execution_count": 2
        }
      ]
    },
    {
      "cell_type": "code",
      "metadata": {
        "colab": {
          "base_uri": "https://localhost:8080/"
        },
        "id": "KpdDf8D9VTgo",
        "outputId": "a6f47fc6-9dd6-4b21-ec3e-dabd7632d9fd"
      },
      "source": [
        "np.arange(1,10,2)"
      ],
      "execution_count": null,
      "outputs": [
        {
          "output_type": "execute_result",
          "data": {
            "text/plain": [
              "array([1, 3, 5, 7, 9])"
            ]
          },
          "metadata": {
            "tags": []
          },
          "execution_count": 3
        }
      ]
    },
    {
      "cell_type": "code",
      "metadata": {
        "colab": {
          "base_uri": "https://localhost:8080/"
        },
        "id": "qc94ikleVZMp",
        "outputId": "833aebc4-8cf3-419e-d19a-82c9a9eb1844"
      },
      "source": [
        "# 실수도 가능\n",
        "np.arange(0, 5.1, 0.5)"
      ],
      "execution_count": null,
      "outputs": [
        {
          "output_type": "execute_result",
          "data": {
            "text/plain": [
              "array([0. , 0.5, 1. , 1.5, 2. , 2.5, 3. , 3.5, 4. , 4.5, 5. ])"
            ]
          },
          "metadata": {
            "tags": []
          },
          "execution_count": 4
        }
      ]
    },
    {
      "cell_type": "code",
      "metadata": {
        "colab": {
          "base_uri": "https://localhost:8080/"
        },
        "id": "hpQquVtdVko1",
        "outputId": "c5844e1f-b299-4296-dd7f-8e12e4eb25a0"
      },
      "source": [
        "np.arange(0, 5.1, 0.5).tolist()"
      ],
      "execution_count": null,
      "outputs": [
        {
          "output_type": "execute_result",
          "data": {
            "text/plain": [
              "[0.0, 0.5, 1.0, 1.5, 2.0, 2.5, 3.0, 3.5, 4.0, 4.5, 5.0]"
            ]
          },
          "metadata": {
            "tags": []
          },
          "execution_count": 5
        }
      ]
    },
    {
      "cell_type": "code",
      "metadata": {
        "colab": {
          "base_uri": "https://localhost:8080/"
        },
        "id": "-_UuU8sMVzJ6",
        "outputId": "494c9e0a-7e4c-4e01-f774-c4457f9ea263"
      },
      "source": [
        "np.arange(24).reshape(4, -1)"
      ],
      "execution_count": null,
      "outputs": [
        {
          "output_type": "execute_result",
          "data": {
            "text/plain": [
              "array([[ 0,  1,  2,  3,  4,  5],\n",
              "       [ 6,  7,  8,  9, 10, 11],\n",
              "       [12, 13, 14, 15, 16, 17],\n",
              "       [18, 19, 20, 21, 22, 23]])"
            ]
          },
          "metadata": {
            "tags": []
          },
          "execution_count": 6
        }
      ]
    },
    {
      "cell_type": "code",
      "metadata": {
        "id": "jOqhRVBWWEXz"
      },
      "source": [
        ""
      ],
      "execution_count": null,
      "outputs": []
    },
    {
      "cell_type": "code",
      "metadata": {
        "colab": {
          "base_uri": "https://localhost:8080/"
        },
        "id": "d_pGsrQLWWBW",
        "outputId": "79b85288-c0e2-4978-b4bf-31935ce0ff98"
      },
      "source": [
        "x"
      ],
      "execution_count": null,
      "outputs": [
        {
          "output_type": "execute_result",
          "data": {
            "text/plain": [
              "array([-1.        , -0.97878788, -0.95757576, -0.93636364, -0.91515152,\n",
              "       -0.89393939, -0.87272727, -0.85151515, -0.83030303, -0.80909091,\n",
              "       -0.78787879, -0.76666667, -0.74545455, -0.72424242, -0.7030303 ,\n",
              "       -0.68181818, -0.66060606, -0.63939394, -0.61818182, -0.5969697 ,\n",
              "       -0.57575758, -0.55454545, -0.53333333, -0.51212121, -0.49090909,\n",
              "       -0.46969697, -0.44848485, -0.42727273, -0.40606061, -0.38484848,\n",
              "       -0.36363636, -0.34242424, -0.32121212, -0.3       , -0.27878788,\n",
              "       -0.25757576, -0.23636364, -0.21515152, -0.19393939, -0.17272727,\n",
              "       -0.15151515, -0.13030303, -0.10909091, -0.08787879, -0.06666667,\n",
              "       -0.04545455, -0.02424242, -0.0030303 ,  0.01818182,  0.03939394,\n",
              "        0.06060606,  0.08181818,  0.1030303 ,  0.12424242,  0.14545455,\n",
              "        0.16666667,  0.18787879,  0.20909091,  0.23030303,  0.25151515,\n",
              "        0.27272727,  0.29393939,  0.31515152,  0.33636364,  0.35757576,\n",
              "        0.37878788,  0.4       ,  0.42121212,  0.44242424,  0.46363636,\n",
              "        0.48484848,  0.50606061,  0.52727273,  0.54848485,  0.56969697,\n",
              "        0.59090909,  0.61212121,  0.63333333,  0.65454545,  0.67575758,\n",
              "        0.6969697 ,  0.71818182,  0.73939394,  0.76060606,  0.78181818,\n",
              "        0.8030303 ,  0.82424242,  0.84545455,  0.86666667,  0.88787879,\n",
              "        0.90909091,  0.93030303,  0.95151515,  0.97272727,  0.99393939,\n",
              "        1.01515152,  1.03636364,  1.05757576,  1.07878788,  1.1       ])"
            ]
          },
          "metadata": {
            "tags": []
          },
          "execution_count": 9
        }
      ]
    },
    {
      "cell_type": "code",
      "metadata": {
        "id": "TUJSPkyVWfSs"
      },
      "source": [
        "import matplotlib.pyplot as plt"
      ],
      "execution_count": 3,
      "outputs": []
    },
    {
      "cell_type": "code",
      "metadata": {
        "colab": {
          "base_uri": "https://localhost:8080/",
          "height": 501
        },
        "id": "SfkKU5nmnwdj",
        "outputId": "45a09e2d-9b7d-47cb-f18c-dccee5c420fd"
      },
      "source": [
        "# linspace(시작, 끝, 몇등분)\n",
        "x = np.arange(-2, 2.005, 0.01)\n",
        "print(len(x))\n",
        "x = np.linspace(-2, 2, 401)\n",
        "x.size, x[0], x[-1]\n",
        "\n",
        "y = np.tanh(x)   # Hyperbolic tangent\n",
        "plt.figure(figsize=(12,8))\n",
        "plt.plot(x, y, linewidth=2, color='r')\n",
        "plt.grid()\n",
        "plt.show()"
      ],
      "execution_count": 11,
      "outputs": [
        {
          "output_type": "stream",
          "text": [
            "401\n"
          ],
          "name": "stdout"
        },
        {
          "output_type": "display_data",
          "data": {
            "image/png": "[encoded data removed]",
            "text/plain": [
              "<Figure size 864x576 with 1 Axes>"
            ]
          },
          "metadata": {
            "tags": [],
            "needs_background": "light"
          }
        }
      ]
    },
    {
      "cell_type": "markdown",
      "metadata": {
        "id": "_V_RXCtxpO5q"
      },
      "source": [
        "### ones, zeros, empty"
      ]
    },
    {
      "cell_type": "code",
      "metadata": {
        "colab": {
          "base_uri": "https://localhost:8080/"
        },
        "id": "4ixoYI8QpOCO",
        "outputId": "cf606ab3-17c1-4960-e7d7-b5c3ab98f38c"
      },
      "source": [
        "np.ones(shape=(10,), dtype=np.int8)"
      ],
      "execution_count": 12,
      "outputs": [
        {
          "output_type": "execute_result",
          "data": {
            "text/plain": [
              "array([1, 1, 1, 1, 1, 1, 1, 1, 1, 1], dtype=int8)"
            ]
          },
          "metadata": {
            "tags": []
          },
          "execution_count": 12
        }
      ]
    },
    {
      "cell_type": "code",
      "metadata": {
        "colab": {
          "base_uri": "https://localhost:8080/"
        },
        "id": "lMMzkaFNpag2",
        "outputId": "d411fb62-e04b-4fe8-fb1e-b816389d4268"
      },
      "source": [
        "np.ones((2,4))  # dtype의 default는 float"
      ],
      "execution_count": 13,
      "outputs": [
        {
          "output_type": "execute_result",
          "data": {
            "text/plain": [
              "array([[1., 1., 1., 1.],\n",
              "       [1., 1., 1., 1.]])"
            ]
          },
          "metadata": {
            "tags": []
          },
          "execution_count": 13
        }
      ]
    },
    {
      "cell_type": "code",
      "metadata": {
        "colab": {
          "base_uri": "https://localhost:8080/"
        },
        "id": "QlIOKb7gpnwB",
        "outputId": "b02ca049-4cac-4cd4-a51f-a40b3d18bc67"
      },
      "source": [
        "np.zeros((8, ), dtype=np.float32)"
      ],
      "execution_count": 15,
      "outputs": [
        {
          "output_type": "execute_result",
          "data": {
            "text/plain": [
              "array([0., 0., 0., 0., 0., 0., 0., 0.], dtype=float32)"
            ]
          },
          "metadata": {
            "tags": []
          },
          "execution_count": 15
        }
      ]
    },
    {
      "cell_type": "code",
      "metadata": {
        "colab": {
          "base_uri": "https://localhost:8080/"
        },
        "id": "B-rnSX2xp2sA",
        "outputId": "14b10964-dd5b-4cd0-b0f7-bcc18373ebfd"
      },
      "source": [
        "np.empty((4, ))"
      ],
      "execution_count": 16,
      "outputs": [
        {
          "output_type": "execute_result",
          "data": {
            "text/plain": [
              "array([0., 0., 0., 0.])"
            ]
          },
          "metadata": {
            "tags": []
          },
          "execution_count": 16
        }
      ]
    },
    {
      "cell_type": "markdown",
      "metadata": {
        "id": "wfrLXtSFqd6h"
      },
      "source": [
        "### something like"
      ]
    },
    {
      "cell_type": "code",
      "metadata": {
        "colab": {
          "base_uri": "https://localhost:8080/"
        },
        "id": "mdCGCaL3qCee",
        "outputId": "d85f74e8-ef8a-4cdc-8b4c-10c16bd60eb9"
      },
      "source": [
        "a = np.arange(12).reshape(3,4)\n",
        "np.ones_like(a)    # a에 해당하는 shape를 1로 채워 넣는다. dtype역시 a와 같게 된다"
      ],
      "execution_count": 19,
      "outputs": [
        {
          "output_type": "execute_result",
          "data": {
            "text/plain": [
              "array([[1, 1, 1, 1],\n",
              "       [1, 1, 1, 1],\n",
              "       [1, 1, 1, 1]])"
            ]
          },
          "metadata": {
            "tags": []
          },
          "execution_count": 19
        }
      ]
    },
    {
      "cell_type": "code",
      "metadata": {
        "colab": {
          "base_uri": "https://localhost:8080/"
        },
        "id": "C_ycmUcVqzBk",
        "outputId": "84531445-c03f-4e83-f52f-632eb8cd3717"
      },
      "source": [
        "np.zeros_like(a)"
      ],
      "execution_count": 18,
      "outputs": [
        {
          "output_type": "execute_result",
          "data": {
            "text/plain": [
              "array([[0, 0, 0, 0],\n",
              "       [0, 0, 0, 0],\n",
              "       [0, 0, 0, 0]])"
            ]
          },
          "metadata": {
            "tags": []
          },
          "execution_count": 18
        }
      ]
    },
    {
      "cell_type": "code",
      "metadata": {
        "colab": {
          "base_uri": "https://localhost:8080/"
        },
        "id": "2YkSgwPbrlq_",
        "outputId": "d243ea4c-0ff2-412a-c00b-ab1e5b2247f4"
      },
      "source": [
        "np.zeros_like(a).dtype"
      ],
      "execution_count": 24,
      "outputs": [
        {
          "output_type": "execute_result",
          "data": {
            "text/plain": [
              "dtype('int64')"
            ]
          },
          "metadata": {
            "tags": []
          },
          "execution_count": 24
        }
      ]
    },
    {
      "cell_type": "markdown",
      "metadata": {
        "id": "M1wdTPT6rATB"
      },
      "source": [
        "### 단위 행렬(Identity) : A * I = A"
      ]
    },
    {
      "cell_type": "code",
      "metadata": {
        "colab": {
          "base_uri": "https://localhost:8080/"
        },
        "id": "HEAlyYQKq2E1",
        "outputId": "74d6780d-a94e-4964-9578-94cbf2735530"
      },
      "source": [
        "np.identity(n=3, dtype=np.int16)"
      ],
      "execution_count": 21,
      "outputs": [
        {
          "output_type": "execute_result",
          "data": {
            "text/plain": [
              "array([[1, 0, 0],\n",
              "       [0, 1, 0],\n",
              "       [0, 0, 1]], dtype=int16)"
            ]
          },
          "metadata": {
            "tags": []
          },
          "execution_count": 21
        }
      ]
    },
    {
      "cell_type": "code",
      "metadata": {
        "colab": {
          "base_uri": "https://localhost:8080/"
        },
        "id": "7aOC2XCNrRYf",
        "outputId": "c2ddeaa9-73c9-452a-df90-6306349e33ad"
      },
      "source": [
        "np.identity(3)   # dtype의 default는 float64"
      ],
      "execution_count": 23,
      "outputs": [
        {
          "output_type": "execute_result",
          "data": {
            "text/plain": [
              "array([[1., 0., 0.],\n",
              "       [0., 1., 0.],\n",
              "       [0., 0., 1.]])"
            ]
          },
          "metadata": {
            "tags": []
          },
          "execution_count": 23
        }
      ]
    },
    {
      "cell_type": "markdown",
      "metadata": {
        "id": "BLTeAu6NrsOU"
      },
      "source": [
        "### eye - 대각선이 1인 행렬"
      ]
    },
    {
      "cell_type": "code",
      "metadata": {
        "colab": {
          "base_uri": "https://localhost:8080/"
        },
        "id": "ssdORUdHrfw7",
        "outputId": "c43c99e8-e088-47d2-a99d-40abfa611e66"
      },
      "source": [
        "np.eye(3, 5)   # 행이 3, 열이 5"
      ],
      "execution_count": 26,
      "outputs": [
        {
          "output_type": "execute_result",
          "data": {
            "text/plain": [
              "array([[1., 0., 0., 0., 0.],\n",
              "       [0., 1., 0., 0., 0.],\n",
              "       [0., 0., 1., 0., 0.]])"
            ]
          },
          "metadata": {
            "tags": []
          },
          "execution_count": 26
        }
      ]
    },
    {
      "cell_type": "code",
      "metadata": {
        "colab": {
          "base_uri": "https://localhost:8080/"
        },
        "id": "j_rHEzk6r-u0",
        "outputId": "557d0a00-e084-484e-afe8-e785d95e0637"
      },
      "source": [
        "np.eye(N=3, M=5, k=1, dtype=np.int32)  # k는 1이 시작하는 열의 위치, start index"
      ],
      "execution_count": 29,
      "outputs": [
        {
          "output_type": "execute_result",
          "data": {
            "text/plain": [
              "array([[0, 1, 0, 0, 0],\n",
              "       [0, 0, 1, 0, 0],\n",
              "       [0, 0, 0, 1, 0]], dtype=int32)"
            ]
          },
          "metadata": {
            "tags": []
          },
          "execution_count": 29
        }
      ]
    },
    {
      "cell_type": "code",
      "metadata": {
        "colab": {
          "base_uri": "https://localhost:8080/"
        },
        "id": "z-oU0OthsKLP",
        "outputId": "3a7c2046-bc71-4dda-d89a-8c9b1485f657"
      },
      "source": [
        "np.eye(4,3,-1)"
      ],
      "execution_count": 31,
      "outputs": [
        {
          "output_type": "execute_result",
          "data": {
            "text/plain": [
              "array([[0., 0., 0.],\n",
              "       [1., 0., 0.],\n",
              "       [0., 1., 0.],\n",
              "       [0., 0., 1.]])"
            ]
          },
          "metadata": {
            "tags": []
          },
          "execution_count": 31
        }
      ]
    },
    {
      "cell_type": "markdown",
      "metadata": {
        "id": "xkFchI-msyfb"
      },
      "source": [
        "### diag - 대각선 위치의 값을 추출"
      ]
    },
    {
      "cell_type": "code",
      "metadata": {
        "colab": {
          "base_uri": "https://localhost:8080/"
        },
        "id": "MTZY1P6msqYB",
        "outputId": "2e7d184a-e2d7-42ae-fa23-cfed86e7a6d5"
      },
      "source": [
        "np.diag(np.zeros((3,3)))"
      ],
      "execution_count": 32,
      "outputs": [
        {
          "output_type": "execute_result",
          "data": {
            "text/plain": [
              "array([0., 0., 0.])"
            ]
          },
          "metadata": {
            "tags": []
          },
          "execution_count": 32
        }
      ]
    },
    {
      "cell_type": "code",
      "metadata": {
        "colab": {
          "base_uri": "https://localhost:8080/"
        },
        "id": "TnzNrnMxs64x",
        "outputId": "d6aa8f01-0765-4657-8226-2c65022a5287"
      },
      "source": [
        "np.diag(np.arange(9).reshape(3,-1))"
      ],
      "execution_count": 35,
      "outputs": [
        {
          "output_type": "execute_result",
          "data": {
            "text/plain": [
              "array([0, 4, 8])"
            ]
          },
          "metadata": {
            "tags": []
          },
          "execution_count": 35
        }
      ]
    },
    {
      "cell_type": "code",
      "metadata": {
        "colab": {
          "base_uri": "https://localhost:8080/"
        },
        "id": "1uvoxImJtUFE",
        "outputId": "db2faa48-09b5-4452-ea68-0e14a8411202"
      },
      "source": [
        "np.diag(np.arange(9).reshape(-1,3), k=1)"
      ],
      "execution_count": 36,
      "outputs": [
        {
          "output_type": "execute_result",
          "data": {
            "text/plain": [
              "array([1, 5])"
            ]
          },
          "metadata": {
            "tags": []
          },
          "execution_count": 36
        }
      ]
    },
    {
      "cell_type": "markdown",
      "metadata": {
        "id": "Rinv5vIUtwSJ"
      },
      "source": [
        "### Random sampling"
      ]
    },
    {
      "cell_type": "code",
      "metadata": {
        "colab": {
          "base_uri": "https://localhost:8080/"
        },
        "id": "gThhDp0Gty36",
        "outputId": "57901a93-609e-4b3b-81fe-d5672cfd4702"
      },
      "source": [
        "np.random.seed(seed=2021)     # 난수를 생성하는 순서를 동일하게 해라\n",
        "np.random.random()"
      ],
      "execution_count": 42,
      "outputs": [
        {
          "output_type": "execute_result",
          "data": {
            "text/plain": [
              "0.6059782788074047"
            ]
          },
          "metadata": {
            "tags": []
          },
          "execution_count": 42
        }
      ]
    },
    {
      "cell_type": "code",
      "metadata": {
        "colab": {
          "base_uri": "https://localhost:8080/"
        },
        "id": "K-ErAzH5ubUG",
        "outputId": "c1c0fe04-ddb2-4579-985e-0a68a1db9525"
      },
      "source": [
        "# 균등 분포 (Uniform Distribution)\n",
        "np.random.uniform(size=10)  # [0,1]의 uniform distribution에서 10개의 데이터를 추출"
      ],
      "execution_count": 44,
      "outputs": [
        {
          "output_type": "execute_result",
          "data": {
            "text/plain": [
              "array([0.05857129, 0.96239599, 0.61655744, 0.08662996, 0.56127236,\n",
              "       0.61652471, 0.96384302, 0.57430429, 0.37116085, 0.45214524])"
            ]
          },
          "metadata": {
            "tags": []
          },
          "execution_count": 44
        }
      ]
    },
    {
      "cell_type": "code",
      "metadata": {
        "colab": {
          "base_uri": "https://localhost:8080/"
        },
        "id": "xDnzx2pEumQ3",
        "outputId": "6082dcbc-4fe8-476f-8d91-1705652dc717"
      },
      "source": [
        "# 정규분포 (Gaussian Distribution)\n",
        "np.random.normal(loc=1, scale=2, size=10)   # 평균이 1이고 표준편차가 2"
      ],
      "execution_count": 46,
      "outputs": [
        {
          "output_type": "execute_result",
          "data": {
            "text/plain": [
              "array([ 3.11796435,  1.9264707 ,  1.99399704, -1.50029079, -2.02391605,\n",
              "        2.78914951,  1.48562083,  3.01357224,  0.91751195,  1.68793166])"
            ]
          },
          "metadata": {
            "tags": []
          },
          "execution_count": 46
        }
      ]
    },
    {
      "cell_type": "code",
      "metadata": {
        "colab": {
          "base_uri": "https://localhost:8080/"
        },
        "id": "K7pBVk6-vJbn",
        "outputId": "c2428e1a-b5a8-4df6-da7f-39d4c5fe8c88"
      },
      "source": [
        "# 표준 정규분포 - N(0,1)\n",
        "np.random.randn(10)"
      ],
      "execution_count": 47,
      "outputs": [
        {
          "output_type": "execute_result",
          "data": {
            "text/plain": [
              "array([ 0.02548591, -1.07844433,  0.81565795, -0.13376737,  0.61319221,\n",
              "        0.32808139,  1.7748439 ,  1.15295013,  1.02961911, -0.50175762])"
            ]
          },
          "metadata": {
            "tags": []
          },
          "execution_count": 47
        }
      ]
    },
    {
      "cell_type": "code",
      "metadata": {
        "colab": {
          "base_uri": "https://localhost:8080/",
          "height": 374
        },
        "id": "7nuWZFkiv5zB",
        "outputId": "8bf1d590-14b6-48a1-de58-4f4d14310490"
      },
      "source": [
        "plt.figure(figsize=(10, 6))\n",
        "rand_norm = np.random.randn(1000)\n",
        "plt.hist(rand_norm, edgecolor='yellow', color='red', bins=50)\n",
        "plt.show()"
      ],
      "execution_count": 51,
      "outputs": [
        {
          "output_type": "display_data",
          "data": {
            "image/png": "[encoded data removed]",
            "text/plain": [
              "<Figure size 720x432 with 1 Axes>"
            ]
          },
          "metadata": {
            "tags": [],
            "needs_background": "light"
          }
        }
      ]
    },
    {
      "cell_type": "markdown",
      "metadata": {
        "id": "GVVFAe2aw2ct"
      },
      "source": [
        "## 5. Operation"
      ]
    },
    {
      "cell_type": "markdown",
      "metadata": {
        "id": "OY6unIocw6dY"
      },
      "source": [
        "### Sum 과 Axis"
      ]
    },
    {
      "cell_type": "code",
      "metadata": {
        "colab": {
          "base_uri": "https://localhost:8080/"
        },
        "id": "pP8Gp_AAwpd4",
        "outputId": "21e84f9d-6ff6-4173-d551-9fa64de906b5"
      },
      "source": [
        "a = np.arange(1,11)\n",
        "a.sum(), sum(a)"
      ],
      "execution_count": 53,
      "outputs": [
        {
          "output_type": "execute_result",
          "data": {
            "text/plain": [
              "(55, 55)"
            ]
          },
          "metadata": {
            "tags": []
          },
          "execution_count": 53
        }
      ]
    },
    {
      "cell_type": "code",
      "metadata": {
        "colab": {
          "base_uri": "https://localhost:8080/"
        },
        "id": "rDS2cyRRxHVT",
        "outputId": "59f08d56-e1ae-4b79-b39a-df65e5febf3c"
      },
      "source": [
        "a = np.arange(1, 13).reshape(3,4)\n",
        "a"
      ],
      "execution_count": 54,
      "outputs": [
        {
          "output_type": "execute_result",
          "data": {
            "text/plain": [
              "array([[ 1,  2,  3,  4],\n",
              "       [ 5,  6,  7,  8],\n",
              "       [ 9, 10, 11, 12]])"
            ]
          },
          "metadata": {
            "tags": []
          },
          "execution_count": 54
        }
      ]
    },
    {
      "cell_type": "code",
      "metadata": {
        "colab": {
          "base_uri": "https://localhost:8080/"
        },
        "id": "K-4g9q1TxP1g",
        "outputId": "f4606548-5282-4728-bc6e-04cdeef91e6b"
      },
      "source": [
        "print(a.sum())"
      ],
      "execution_count": 57,
      "outputs": [
        {
          "output_type": "stream",
          "text": [
            "78\n"
          ],
          "name": "stdout"
        }
      ]
    },
    {
      "cell_type": "code",
      "metadata": {
        "colab": {
          "base_uri": "https://localhost:8080/"
        },
        "id": "MlDLoF1YxgSu",
        "outputId": "9ea7fb4b-700d-4115-90c4-470937c81885"
      },
      "source": [
        "# column의 합, row 방향\n",
        "a.sum(axis=0)"
      ],
      "execution_count": 58,
      "outputs": [
        {
          "output_type": "execute_result",
          "data": {
            "text/plain": [
              "array([15, 18, 21, 24])"
            ]
          },
          "metadata": {
            "tags": []
          },
          "execution_count": 58
        }
      ]
    },
    {
      "cell_type": "code",
      "metadata": {
        "colab": {
          "base_uri": "https://localhost:8080/"
        },
        "id": "ngESWpKMxtT8",
        "outputId": "65cb9468-9a51-4fd8-c340-fc200a338922"
      },
      "source": [
        "# row의 합, column 방향\n",
        "a.sum(axis=1)"
      ],
      "execution_count": 59,
      "outputs": [
        {
          "output_type": "execute_result",
          "data": {
            "text/plain": [
              "array([10, 26, 42])"
            ]
          },
          "metadata": {
            "tags": []
          },
          "execution_count": 59
        }
      ]
    },
    {
      "cell_type": "code",
      "metadata": {
        "colab": {
          "base_uri": "https://localhost:8080/"
        },
        "id": "hyfcMjwIx0nc",
        "outputId": "407a0ade-5047-4441-e102-74e56116fbdb"
      },
      "source": [
        "b = np.arange(1, 25).reshape(2,3,4)\n",
        "b"
      ],
      "execution_count": 60,
      "outputs": [
        {
          "output_type": "execute_result",
          "data": {
            "text/plain": [
              "array([[[ 1,  2,  3,  4],\n",
              "        [ 5,  6,  7,  8],\n",
              "        [ 9, 10, 11, 12]],\n",
              "\n",
              "       [[13, 14, 15, 16],\n",
              "        [17, 18, 19, 20],\n",
              "        [21, 22, 23, 24]]])"
            ]
          },
          "metadata": {
            "tags": []
          },
          "execution_count": 60
        }
      ]
    },
    {
      "cell_type": "code",
      "metadata": {
        "colab": {
          "base_uri": "https://localhost:8080/"
        },
        "id": "c4AZs2nZyM-d",
        "outputId": "990861fa-38e5-4128-9010-1b20cf865b6a"
      },
      "source": [
        "b.sum(axis=0)    # (2,3,4) --> (3,4)"
      ],
      "execution_count": 61,
      "outputs": [
        {
          "output_type": "execute_result",
          "data": {
            "text/plain": [
              "array([[14, 16, 18, 20],\n",
              "       [22, 24, 26, 28],\n",
              "       [30, 32, 34, 36]])"
            ]
          },
          "metadata": {
            "tags": []
          },
          "execution_count": 61
        }
      ]
    },
    {
      "cell_type": "code",
      "metadata": {
        "colab": {
          "base_uri": "https://localhost:8080/"
        },
        "id": "8ufn7ni5yPqY",
        "outputId": "3b4bbc91-210f-4b0e-a6fb-5bd330319cf3"
      },
      "source": [
        "b.sum(axis=1)     # (2,3,4) --> (2,4)"
      ],
      "execution_count": 62,
      "outputs": [
        {
          "output_type": "execute_result",
          "data": {
            "text/plain": [
              "array([[15, 18, 21, 24],\n",
              "       [51, 54, 57, 60]])"
            ]
          },
          "metadata": {
            "tags": []
          },
          "execution_count": 62
        }
      ]
    },
    {
      "cell_type": "code",
      "metadata": {
        "colab": {
          "base_uri": "https://localhost:8080/"
        },
        "id": "QnKrvyqxyZ0k",
        "outputId": "01665a0c-459f-4b8b-a767-21780cb06d1b"
      },
      "source": [
        "b.sum(axis=2)      # (2,3,4) --> (2,3)"
      ],
      "execution_count": 64,
      "outputs": [
        {
          "output_type": "execute_result",
          "data": {
            "text/plain": [
              "array([[10, 26, 42],\n",
              "       [58, 74, 90]])"
            ]
          },
          "metadata": {
            "tags": []
          },
          "execution_count": 64
        }
      ]
    },
    {
      "cell_type": "markdown",
      "metadata": {
        "id": "-jNIJgM01jc2"
      },
      "source": [
        "### 통계, 수학 함수"
      ]
    },
    {
      "cell_type": "code",
      "metadata": {
        "colab": {
          "base_uri": "https://localhost:8080/"
        },
        "id": "waqSprl_19vZ",
        "outputId": "ad5cea1c-91dd-445c-bd77-30e0c99cca5a"
      },
      "source": [
        "a"
      ],
      "execution_count": 69,
      "outputs": [
        {
          "output_type": "execute_result",
          "data": {
            "text/plain": [
              "array([[ 1,  2,  3,  4],\n",
              "       [ 5,  6,  7,  8],\n",
              "       [ 9, 10, 11, 12]])"
            ]
          },
          "metadata": {
            "tags": []
          },
          "execution_count": 69
        }
      ]
    },
    {
      "cell_type": "code",
      "metadata": {
        "colab": {
          "base_uri": "https://localhost:8080/"
        },
        "id": "TeFomRy6ydsn",
        "outputId": "b891a8c3-cb0e-4e73-9ce9-889b40754f84"
      },
      "source": [
        "a.mean(), a.var(), a.std()"
      ],
      "execution_count": 68,
      "outputs": [
        {
          "output_type": "execute_result",
          "data": {
            "text/plain": [
              "(6.5, 11.916666666666666, 3.452052529534663)"
            ]
          },
          "metadata": {
            "tags": []
          },
          "execution_count": 68
        }
      ]
    },
    {
      "cell_type": "code",
      "metadata": {
        "colab": {
          "base_uri": "https://localhost:8080/"
        },
        "id": "OdlGqfDl1r6J",
        "outputId": "dea8af89-22fa-46b7-a7e7-e8db689666d8"
      },
      "source": [
        "a.mean(axis=0), a.mean(axis=1)"
      ],
      "execution_count": 71,
      "outputs": [
        {
          "output_type": "execute_result",
          "data": {
            "text/plain": [
              "(array([5., 6., 7., 8.]), array([ 2.5,  6.5, 10.5]))"
            ]
          },
          "metadata": {
            "tags": []
          },
          "execution_count": 71
        }
      ]
    },
    {
      "cell_type": "code",
      "metadata": {
        "colab": {
          "base_uri": "https://localhost:8080/"
        },
        "id": "fmaUG5Gg1yRj",
        "outputId": "96001b96-a094-4a67-9be3-804ef3ad6b58"
      },
      "source": [
        "np.exp(a)"
      ],
      "execution_count": 74,
      "outputs": [
        {
          "output_type": "execute_result",
          "data": {
            "text/plain": [
              "array([[2.71828183e+00, 7.38905610e+00, 2.00855369e+01, 5.45981500e+01],\n",
              "       [1.48413159e+02, 4.03428793e+02, 1.09663316e+03, 2.98095799e+03],\n",
              "       [8.10308393e+03, 2.20264658e+04, 5.98741417e+04, 1.62754791e+05]])"
            ]
          },
          "metadata": {
            "tags": []
          },
          "execution_count": 74
        }
      ]
    },
    {
      "cell_type": "markdown",
      "metadata": {
        "id": "X6naekzE28_9"
      },
      "source": [
        "### Concatenate"
      ]
    },
    {
      "cell_type": "code",
      "metadata": {
        "colab": {
          "base_uri": "https://localhost:8080/"
        },
        "id": "74J0Sntl27A9",
        "outputId": "1623a003-f062-4b54-c46f-9616b1d646ef"
      },
      "source": [
        "a = np.arange(1,5).reshape(2,2)\n",
        "b = np.arange(5,7).reshape(1,2)\n",
        "\n",
        "np.vstack((a,b))"
      ],
      "execution_count": 78,
      "outputs": [
        {
          "output_type": "execute_result",
          "data": {
            "text/plain": [
              "array([[1, 2],\n",
              "       [3, 4],\n",
              "       [5, 6]])"
            ]
          },
          "metadata": {
            "tags": []
          },
          "execution_count": 78
        }
      ]
    },
    {
      "cell_type": "code",
      "metadata": {
        "colab": {
          "base_uri": "https://localhost:8080/"
        },
        "id": "jZUnmJvq3PdG",
        "outputId": "194730c7-e8f3-4e6b-d684-5f10048681d7"
      },
      "source": [
        "np.concatenate((a, b), axis=0)"
      ],
      "execution_count": 77,
      "outputs": [
        {
          "output_type": "execute_result",
          "data": {
            "text/plain": [
              "array([[1, 2],\n",
              "       [3, 4],\n",
              "       [5, 6]])"
            ]
          },
          "metadata": {
            "tags": []
          },
          "execution_count": 77
        }
      ]
    },
    {
      "cell_type": "code",
      "metadata": {
        "id": "kvqVOqbw33JO"
      },
      "source": [
        "# 전치행렬 (Transpose) : (1, 2) --> (2, 1)"
      ],
      "execution_count": null,
      "outputs": []
    },
    {
      "cell_type": "code",
      "metadata": {
        "colab": {
          "base_uri": "https://localhost:8080/"
        },
        "id": "AzKzNcc33Vqc",
        "outputId": "9c2f9c17-638a-48e4-c278-19c81b11d077"
      },
      "source": [
        "np.hstack((a, b.T))"
      ],
      "execution_count": 81,
      "outputs": [
        {
          "output_type": "execute_result",
          "data": {
            "text/plain": [
              "array([[1, 2, 5],\n",
              "       [3, 4, 6]])"
            ]
          },
          "metadata": {
            "tags": []
          },
          "execution_count": 81
        }
      ]
    },
    {
      "cell_type": "code",
      "metadata": {
        "colab": {
          "base_uri": "https://localhost:8080/"
        },
        "id": "X6df1WGO3mrz",
        "outputId": "622cb780-2f1a-48e4-fe2a-fd33b7c0ea54"
      },
      "source": [
        "print(b)\n",
        "print(b.T)"
      ],
      "execution_count": 85,
      "outputs": [
        {
          "output_type": "stream",
          "text": [
            "[[5 6]]\n",
            "[[5]\n",
            " [6]]\n"
          ],
          "name": "stdout"
        }
      ]
    },
    {
      "cell_type": "code",
      "metadata": {
        "id": "MtJrGU-i4LCA"
      },
      "source": [
        "np.concatenate()"
      ],
      "execution_count": null,
      "outputs": []
    }
  ]
}