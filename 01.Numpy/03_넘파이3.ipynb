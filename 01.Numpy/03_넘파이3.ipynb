{
  "nbformat": 4,
  "nbformat_minor": 0,
  "metadata": {
    "colab": {
      "name": "03_넘파이3.ipynb",
      "provenance": [],
      "collapsed_sections": []
    },
    "kernelspec": {
      "name": "python3",
      "display_name": "Python 3"
    },
    "language_info": {
      "name": "python"
    }
  },
  "cells": [
    {
      "cell_type": "markdown",
      "metadata": {
        "id": "3W-Yk07E4zsP"
      },
      "source": [
        "# Numpy - part 3"
      ]
    },
    {
      "cell_type": "code",
      "metadata": {
        "id": "qlPs4n6R4oko"
      },
      "source": [
        "import numpy as np"
      ],
      "execution_count": 1,
      "outputs": []
    },
    {
      "cell_type": "markdown",
      "metadata": {
        "id": "-9UtdmA54_Ii"
      },
      "source": [
        "## 6. Array Operation"
      ]
    },
    {
      "cell_type": "code",
      "metadata": {
        "colab": {
          "base_uri": "https://localhost:8080/"
        },
        "id": "ITo-QkVr45Zr",
        "outputId": "ccefe7c1-5d80-4792-dffd-34ae6ddb2175"
      },
      "source": [
        "a = np.arange(1,7).reshape(2,3)\n",
        "a"
      ],
      "execution_count": 2,
      "outputs": [
        {
          "output_type": "execute_result",
          "data": {
            "text/plain": [
              "array([[1, 2, 3],\n",
              "       [4, 5, 6]])"
            ]
          },
          "metadata": {
            "tags": []
          },
          "execution_count": 2
        }
      ]
    },
    {
      "cell_type": "code",
      "metadata": {
        "colab": {
          "base_uri": "https://localhost:8080/"
        },
        "id": "wfsD1jpo5GJ8",
        "outputId": "19549d3d-4ab7-40e0-a801-cec5fd359a69"
      },
      "source": [
        "a + a"
      ],
      "execution_count": 3,
      "outputs": [
        {
          "output_type": "execute_result",
          "data": {
            "text/plain": [
              "array([[ 2,  4,  6],\n",
              "       [ 8, 10, 12]])"
            ]
          },
          "metadata": {
            "tags": []
          },
          "execution_count": 3
        }
      ]
    },
    {
      "cell_type": "code",
      "metadata": {
        "colab": {
          "base_uri": "https://localhost:8080/"
        },
        "id": "BJ0tnF3I5HLn",
        "outputId": "8daa86a7-8d6f-4fd5-dc3b-469ecb2f5ae1"
      },
      "source": [
        " a * a    # element-wise product"
      ],
      "execution_count": 4,
      "outputs": [
        {
          "output_type": "execute_result",
          "data": {
            "text/plain": [
              "array([[ 1,  4,  9],\n",
              "       [16, 25, 36]])"
            ]
          },
          "metadata": {
            "tags": []
          },
          "execution_count": 4
        }
      ]
    },
    {
      "cell_type": "markdown",
      "metadata": {
        "id": "aRjvWWsp5Odx"
      },
      "source": [
        "### dot product(inner product)"
      ]
    },
    {
      "cell_type": "code",
      "metadata": {
        "colab": {
          "base_uri": "https://localhost:8080/"
        },
        "id": "hh4eaaZ55ISC",
        "outputId": "e402b222-2e5d-46b4-d07b-3de94e7d0a42"
      },
      "source": [
        "np.dot(a, a.T)   # a는 (2,3) 이므로 a.T와 내적을 구해야 한다  (2, 3) . (3, 2) ===> (2, 2)"
      ],
      "execution_count": 6,
      "outputs": [
        {
          "output_type": "execute_result",
          "data": {
            "text/plain": [
              "array([[14, 32],\n",
              "       [32, 77]])"
            ]
          },
          "metadata": {
            "tags": []
          },
          "execution_count": 6
        }
      ]
    },
    {
      "cell_type": "code",
      "metadata": {
        "colab": {
          "base_uri": "https://localhost:8080/"
        },
        "id": "_hl5vvNK5WkU",
        "outputId": "5b0b0d51-9a76-402e-f693-e90feedded07"
      },
      "source": [
        "np.dot(a.T, a)"
      ],
      "execution_count": 7,
      "outputs": [
        {
          "output_type": "execute_result",
          "data": {
            "text/plain": [
              "array([[17, 22, 27],\n",
              "       [22, 29, 36],\n",
              "       [27, 36, 45]])"
            ]
          },
          "metadata": {
            "tags": []
          },
          "execution_count": 7
        }
      ]
    },
    {
      "cell_type": "code",
      "metadata": {
        "colab": {
          "base_uri": "https://localhost:8080/"
        },
        "id": "D6HHjzEL6BcQ",
        "outputId": "d385d140-eb32-4fb8-d5c4-089ce13611fb"
      },
      "source": [
        "a.dot(a.T)"
      ],
      "execution_count": 8,
      "outputs": [
        {
          "output_type": "execute_result",
          "data": {
            "text/plain": [
              "array([[14, 32],\n",
              "       [32, 77]])"
            ]
          },
          "metadata": {
            "tags": []
          },
          "execution_count": 8
        }
      ]
    },
    {
      "cell_type": "markdown",
      "metadata": {
        "id": "s5PZTJ3P6maF"
      },
      "source": [
        "### broadcasting"
      ]
    },
    {
      "cell_type": "code",
      "metadata": {
        "colab": {
          "base_uri": "https://localhost:8080/"
        },
        "id": "LvezU4Bm6UxI",
        "outputId": "d7ef1779-98c2-4f6b-fe13-ace3015764f0"
      },
      "source": [
        "a"
      ],
      "execution_count": 9,
      "outputs": [
        {
          "output_type": "execute_result",
          "data": {
            "text/plain": [
              "array([[1, 2, 3],\n",
              "       [4, 5, 6]])"
            ]
          },
          "metadata": {
            "tags": []
          },
          "execution_count": 9
        }
      ]
    },
    {
      "cell_type": "code",
      "metadata": {
        "colab": {
          "base_uri": "https://localhost:8080/"
        },
        "id": "kMsv6Fv46qpk",
        "outputId": "d9c2fdd0-014a-4945-fb24-6b3c9746dcd3"
      },
      "source": [
        "a + 3   # 하나의 스칼라 값을 넘파이 어레이 모든 원소에 똑같이 전파했다는 의미로 broadcasting이라고 한다"
      ],
      "execution_count": 11,
      "outputs": [
        {
          "output_type": "execute_result",
          "data": {
            "text/plain": [
              "array([[4, 5, 6],\n",
              "       [7, 8, 9]])"
            ]
          },
          "metadata": {
            "tags": []
          },
          "execution_count": 11
        }
      ]
    },
    {
      "cell_type": "code",
      "metadata": {
        "colab": {
          "base_uri": "https://localhost:8080/"
        },
        "id": "NPniXF_n6sYj",
        "outputId": "b436133c-8f63-4087-b38b-df90054a77ea"
      },
      "source": [
        "a // 3"
      ],
      "execution_count": 12,
      "outputs": [
        {
          "output_type": "execute_result",
          "data": {
            "text/plain": [
              "array([[0, 0, 1],\n",
              "       [1, 1, 2]])"
            ]
          },
          "metadata": {
            "tags": []
          },
          "execution_count": 12
        }
      ]
    },
    {
      "cell_type": "code",
      "metadata": {
        "colab": {
          "base_uri": "https://localhost:8080/"
        },
        "id": "kEvJ511U7Eui",
        "outputId": "3340e53c-6642-4d4a-9502-5a320d30a2d6"
      },
      "source": [
        "a % 3"
      ],
      "execution_count": 13,
      "outputs": [
        {
          "output_type": "execute_result",
          "data": {
            "text/plain": [
              "array([[1, 2, 0],\n",
              "       [1, 2, 0]])"
            ]
          },
          "metadata": {
            "tags": []
          },
          "execution_count": 13
        }
      ]
    },
    {
      "cell_type": "code",
      "metadata": {
        "id": "SEDa7Mfg7Gtx"
      },
      "source": [
        "b = np.array([10, 20, 30])"
      ],
      "execution_count": 14,
      "outputs": []
    },
    {
      "cell_type": "code",
      "metadata": {
        "colab": {
          "base_uri": "https://localhost:8080/"
        },
        "id": "CCifzQy27Pg4",
        "outputId": "183fab69-6fde-46f1-c3c0-302d9a249992"
      },
      "source": [
        "# 2차원 matrix와 1차원 vector간에도 사용 가능하다\n",
        "a + b"
      ],
      "execution_count": 16,
      "outputs": [
        {
          "output_type": "execute_result",
          "data": {
            "text/plain": [
              "array([[11, 22, 33],\n",
              "       [14, 25, 36]])"
            ]
          },
          "metadata": {
            "tags": []
          },
          "execution_count": 16
        }
      ]
    },
    {
      "cell_type": "code",
      "metadata": {
        "colab": {
          "base_uri": "https://localhost:8080/"
        },
        "id": "JektHsi27R15",
        "outputId": "60fc2b13-3754-4160-fb88-eec395608385"
      },
      "source": [
        "c = np.array([[10], [20]])\n",
        "a + c"
      ],
      "execution_count": 17,
      "outputs": [
        {
          "output_type": "execute_result",
          "data": {
            "text/plain": [
              "array([[11, 12, 13],\n",
              "       [24, 25, 26]])"
            ]
          },
          "metadata": {
            "tags": []
          },
          "execution_count": 17
        }
      ]
    },
    {
      "cell_type": "markdown",
      "metadata": {
        "id": "0CW7tc367wnd"
      },
      "source": [
        "## 7. Comparison"
      ]
    },
    {
      "cell_type": "markdown",
      "metadata": {
        "id": "5tTOz_Zv71Xr"
      },
      "source": [
        "### all & any"
      ]
    },
    {
      "cell_type": "code",
      "metadata": {
        "colab": {
          "base_uri": "https://localhost:8080/"
        },
        "id": "VkXJCtpL7za-",
        "outputId": "2d7ee38b-f54d-4ab2-9924-48dfbe495bca"
      },
      "source": [
        " a = np.arange(10)\n",
        " a"
      ],
      "execution_count": 18,
      "outputs": [
        {
          "output_type": "execute_result",
          "data": {
            "text/plain": [
              "array([0, 1, 2, 3, 4, 5, 6, 7, 8, 9])"
            ]
          },
          "metadata": {
            "tags": []
          },
          "execution_count": 18
        }
      ]
    },
    {
      "cell_type": "code",
      "metadata": {
        "colab": {
          "base_uri": "https://localhost:8080/"
        },
        "id": "nv62Idg08Cz_",
        "outputId": "0f7bd804-8b4b-4d80-d9ba-8fade222b4b0"
      },
      "source": [
        "a>5     # 이것도 broadcasting의 연장이다."
      ],
      "execution_count": 22,
      "outputs": [
        {
          "output_type": "execute_result",
          "data": {
            "text/plain": [
              "array([False, False, False, False, False, False,  True,  True,  True,\n",
              "        True])"
            ]
          },
          "metadata": {
            "tags": []
          },
          "execution_count": 22
        }
      ]
    },
    {
      "cell_type": "code",
      "metadata": {
        "colab": {
          "base_uri": "https://localhost:8080/"
        },
        "id": "m28ao_o976Kj",
        "outputId": "762fec21-8b1c-4598-9953-0753ca9d4b9e"
      },
      "source": [
        "all(a>5), np.all(a>5)"
      ],
      "execution_count": 26,
      "outputs": [
        {
          "output_type": "execute_result",
          "data": {
            "text/plain": [
              "(False, False)"
            ]
          },
          "metadata": {
            "tags": []
          },
          "execution_count": 26
        }
      ]
    },
    {
      "cell_type": "code",
      "metadata": {
        "colab": {
          "base_uri": "https://localhost:8080/"
        },
        "id": "P2vU-SYv7-_-",
        "outputId": "9d0be8b4-b242-4aaf-d2eb-aea89234523b"
      },
      "source": [
        "any(a>5), np.any(a>5)"
      ],
      "execution_count": 27,
      "outputs": [
        {
          "output_type": "execute_result",
          "data": {
            "text/plain": [
              "(True, True)"
            ]
          },
          "metadata": {
            "tags": []
          },
          "execution_count": 27
        }
      ]
    },
    {
      "cell_type": "code",
      "metadata": {
        "colab": {
          "base_uri": "https://localhost:8080/"
        },
        "id": "VD6MCBrl8O9x",
        "outputId": "d75699b0-cf0c-4f3e-a1d0-312a0bbde3c9"
      },
      "source": [
        "x = np.array([1,3,0])\n",
        "y = np.array([5,2,1])\n",
        "x > y    # element-wise comparison"
      ],
      "execution_count": 29,
      "outputs": [
        {
          "output_type": "execute_result",
          "data": {
            "text/plain": [
              "array([False,  True, False])"
            ]
          },
          "metadata": {
            "tags": []
          },
          "execution_count": 29
        }
      ]
    },
    {
      "cell_type": "code",
      "metadata": {
        "colab": {
          "base_uri": "https://localhost:8080/"
        },
        "id": "sG58MALX8qyE",
        "outputId": "d198f4b8-12dd-4423-ec15-facef1609903"
      },
      "source": [
        "x == y"
      ],
      "execution_count": 30,
      "outputs": [
        {
          "output_type": "execute_result",
          "data": {
            "text/plain": [
              "array([False, False, False])"
            ]
          },
          "metadata": {
            "tags": []
          },
          "execution_count": 30
        }
      ]
    },
    {
      "cell_type": "code",
      "metadata": {
        "colab": {
          "base_uri": "https://localhost:8080/"
        },
        "id": "xcFbTxeV8xfI",
        "outputId": "2f6b6b01-da01-4814-de64-f7941f93fe7d"
      },
      "source": [
        "sum(x != y)"
      ],
      "execution_count": 32,
      "outputs": [
        {
          "output_type": "execute_result",
          "data": {
            "text/plain": [
              "3"
            ]
          },
          "metadata": {
            "tags": []
          },
          "execution_count": 32
        }
      ]
    },
    {
      "cell_type": "code",
      "metadata": {
        "colab": {
          "base_uri": "https://localhost:8080/"
        },
        "id": "FOGfl0Ic824b",
        "outputId": "9ea94cbc-4c20-4a60-a351-96bbfafe7862"
      },
      "source": [
        " np.sum(x != y)"
      ],
      "execution_count": 33,
      "outputs": [
        {
          "output_type": "execute_result",
          "data": {
            "text/plain": [
              "3"
            ]
          },
          "metadata": {
            "tags": []
          },
          "execution_count": 33
        }
      ]
    },
    {
      "cell_type": "markdown",
      "metadata": {
        "id": "6uaniya79EKK"
      },
      "source": [
        "### logical operation(and, or, not)"
      ]
    },
    {
      "cell_type": "code",
      "metadata": {
        "colab": {
          "base_uri": "https://localhost:8080/"
        },
        "id": "DP2icWpz9CBP",
        "outputId": "5e899b02-e4d3-4650-ee6d-e0f441b547fc"
      },
      "source": [
        "a = np.array([1,3,0], float)\n",
        "b = np.logical_and(a>0, a<3)\n",
        "b"
      ],
      "execution_count": 35,
      "outputs": [
        {
          "output_type": "execute_result",
          "data": {
            "text/plain": [
              "array([ True, False, False])"
            ]
          },
          "metadata": {
            "tags": []
          },
          "execution_count": 35
        }
      ]
    },
    {
      "cell_type": "code",
      "metadata": {
        "colab": {
          "base_uri": "https://localhost:8080/"
        },
        "id": "S3Sj9FFs9XL2",
        "outputId": "7917b4fc-8310-4eee-972e-6a9437d6fcf9"
      },
      "source": [
        "c = np.logical_not(b)\n",
        "c"
      ],
      "execution_count": 37,
      "outputs": [
        {
          "output_type": "execute_result",
          "data": {
            "text/plain": [
              "array([False,  True,  True])"
            ]
          },
          "metadata": {
            "tags": []
          },
          "execution_count": 37
        }
      ]
    },
    {
      "cell_type": "code",
      "metadata": {
        "colab": {
          "base_uri": "https://localhost:8080/"
        },
        "id": "hmCi3H7R9niI",
        "outputId": "363f0393-8504-43e8-b5e5-06bd0a8d74f3"
      },
      "source": [
        "np.logical_or(b, c)"
      ],
      "execution_count": 38,
      "outputs": [
        {
          "output_type": "execute_result",
          "data": {
            "text/plain": [
              "array([ True,  True,  True])"
            ]
          },
          "metadata": {
            "tags": []
          },
          "execution_count": 38
        }
      ]
    },
    {
      "cell_type": "code",
      "metadata": {
        "colab": {
          "base_uri": "https://localhost:8080/"
        },
        "id": "Fu5RGhrz9u6V",
        "outputId": "46a3fac7-14bd-4b0d-80d0-0cf46f309580"
      },
      "source": [
        "np.logical_xor(b, c)"
      ],
      "execution_count": 40,
      "outputs": [
        {
          "output_type": "execute_result",
          "data": {
            "text/plain": [
              "array([ True,  True,  True])"
            ]
          },
          "metadata": {
            "tags": []
          },
          "execution_count": 40
        }
      ]
    },
    {
      "cell_type": "code",
      "metadata": {
        "colab": {
          "base_uri": "https://localhost:8080/"
        },
        "id": "lvhZBy3x9y4t",
        "outputId": "08cc0038-ea7d-4f6c-d945-a6ea830556db"
      },
      "source": [
        "np.where(a > 1, 10, 0)     # where(condition, True일때의 값, False일때의 값)"
      ],
      "execution_count": 44,
      "outputs": [
        {
          "output_type": "execute_result",
          "data": {
            "text/plain": [
              "array([ 0, 10,  0])"
            ]
          },
          "metadata": {
            "tags": []
          },
          "execution_count": 44
        }
      ]
    },
    {
      "cell_type": "code",
      "metadata": {
        "colab": {
          "base_uri": "https://localhost:8080/"
        },
        "id": "tVy7PMtt-JpD",
        "outputId": "f2c0fec4-c672-4c50-f7fe-93abf32d3507"
      },
      "source": [
        "np.where(a > 2, 100, a)"
      ],
      "execution_count": 45,
      "outputs": [
        {
          "output_type": "execute_result",
          "data": {
            "text/plain": [
              "array([  1., 100.,   0.])"
            ]
          },
          "metadata": {
            "tags": []
          },
          "execution_count": 45
        }
      ]
    },
    {
      "cell_type": "code",
      "metadata": {
        "colab": {
          "base_uri": "https://localhost:8080/"
        },
        "id": "TzJ1J_Ly-Qzf",
        "outputId": "785e52a6-3b63-48f8-8ad2-cdbeeb10b55e"
      },
      "source": [
        "np.where(np.arange(10,20) > 15)  #  조건을 만족하는 인덱스값들을 반환한다"
      ],
      "execution_count": 47,
      "outputs": [
        {
          "output_type": "execute_result",
          "data": {
            "text/plain": [
              "(array([6, 7, 8, 9]),)"
            ]
          },
          "metadata": {
            "tags": []
          },
          "execution_count": 47
        }
      ]
    },
    {
      "cell_type": "code",
      "metadata": {
        "colab": {
          "base_uri": "https://localhost:8080/"
        },
        "id": "bzM_vew8-rAz",
        "outputId": "df0533c3-084b-4164-9637-af48be8da965"
      },
      "source": [
        "# Infinite, Not a Number(None같은것)   # 실수이다. 그래서 1이 1. 실수로 바뀌었다\n",
        "a = np.array([np.Inf, np.NaN, 1, np.nan, np.inf, np.NaN])\n",
        "a"
      ],
      "execution_count": 55,
      "outputs": [
        {
          "output_type": "execute_result",
          "data": {
            "text/plain": [
              "array([inf, nan,  1., nan, inf, nan])"
            ]
          },
          "metadata": {
            "tags": []
          },
          "execution_count": 55
        }
      ]
    },
    {
      "cell_type": "code",
      "metadata": {
        "colab": {
          "base_uri": "https://localhost:8080/"
        },
        "id": "BT2fVkSO_cqV",
        "outputId": "98d432ec-77cc-4c8a-fe99-298b02d320fd"
      },
      "source": [
        "np.isnan(a)   # Is not a number?"
      ],
      "execution_count": 56,
      "outputs": [
        {
          "output_type": "execute_result",
          "data": {
            "text/plain": [
              "array([False,  True, False,  True, False,  True])"
            ]
          },
          "metadata": {
            "tags": []
          },
          "execution_count": 56
        }
      ]
    },
    {
      "cell_type": "code",
      "metadata": {
        "colab": {
          "base_uri": "https://localhost:8080/"
        },
        "id": "qRXu9NpL_vR0",
        "outputId": "b01f8206-592f-4a3a-ac21-3db6117a7154"
      },
      "source": [
        "np.isfinite(a)    # Is finite number?"
      ],
      "execution_count": 57,
      "outputs": [
        {
          "output_type": "execute_result",
          "data": {
            "text/plain": [
              "array([False, False,  True, False, False, False])"
            ]
          },
          "metadata": {
            "tags": []
          },
          "execution_count": 57
        }
      ]
    },
    {
      "cell_type": "code",
      "metadata": {
        "colab": {
          "base_uri": "https://localhost:8080/"
        },
        "id": "k7xTKhNg_xsj",
        "outputId": "d845b4f8-e7db-4b3c-86fe-6d0c6fb7fc39"
      },
      "source": [
        "np.isnan(a).sum()  # 공백이 몇개인지 알기 위해서 한다"
      ],
      "execution_count": 59,
      "outputs": [
        {
          "output_type": "execute_result",
          "data": {
            "text/plain": [
              "3"
            ]
          },
          "metadata": {
            "tags": []
          },
          "execution_count": 59
        }
      ]
    },
    {
      "cell_type": "markdown",
      "metadata": {
        "id": "et46CpKHEOmB"
      },
      "source": [
        "### argmax, argmin"
      ]
    },
    {
      "cell_type": "code",
      "metadata": {
        "colab": {
          "base_uri": "https://localhost:8080/"
        },
        "id": "wfTPK1eAAMeq",
        "outputId": "3ed713c1-a5e3-46a1-a891-caf167a1ec35"
      },
      "source": [
        "a = np.array([1,2,4,5,8,78,23,3])\n",
        "np.argmax(a), np.argmin(a)"
      ],
      "execution_count": 60,
      "outputs": [
        {
          "output_type": "execute_result",
          "data": {
            "text/plain": [
              "(5, 0)"
            ]
          },
          "metadata": {
            "tags": []
          },
          "execution_count": 60
        }
      ]
    },
    {
      "cell_type": "code",
      "metadata": {
        "colab": {
          "base_uri": "https://localhost:8080/"
        },
        "id": "rusz9yEjEtfb",
        "outputId": "21ca9805-e04b-4daf-9801-6738650423cf"
      },
      "source": [
        "a = a.reshape(2, -1)\n",
        "np.argmax(a), np.argmin(a)"
      ],
      "execution_count": 63,
      "outputs": [
        {
          "output_type": "execute_result",
          "data": {
            "text/plain": [
              "(5, 0)"
            ]
          },
          "metadata": {
            "tags": []
          },
          "execution_count": 63
        }
      ]
    },
    {
      "cell_type": "code",
      "metadata": {
        "id": "TeMArwWqFTbX"
      },
      "source": [
        ""
      ],
      "execution_count": null,
      "outputs": []
    },
    {
      "cell_type": "code",
      "metadata": {
        "colab": {
          "base_uri": "https://localhost:8080/"
        },
        "id": "UlWJaacLFF_4",
        "outputId": "5a222526-9abf-4c8b-ad50-542ef35b7b66"
      },
      "source": [
        "a"
      ],
      "execution_count": 66,
      "outputs": [
        {
          "output_type": "execute_result",
          "data": {
            "text/plain": [
              "array([[ 1,  2,  4,  5],\n",
              "       [ 8, 78, 23,  3]])"
            ]
          },
          "metadata": {
            "tags": []
          },
          "execution_count": 66
        }
      ]
    },
    {
      "cell_type": "code",
      "metadata": {
        "colab": {
          "base_uri": "https://localhost:8080/"
        },
        "id": "0nwnaQlZE5ld",
        "outputId": "1702e95d-fe1b-4420-8035-17b85525d7ec"
      },
      "source": [
        "np.argmax(a, axis=1), np.argmin(a, axis=1)"
      ],
      "execution_count": 65,
      "outputs": [
        {
          "output_type": "execute_result",
          "data": {
            "text/plain": [
              "(array([3, 1]), array([0, 3]))"
            ]
          },
          "metadata": {
            "tags": []
          },
          "execution_count": 65
        }
      ]
    },
    {
      "cell_type": "code",
      "metadata": {
        "colab": {
          "base_uri": "https://localhost:8080/"
        },
        "id": "s6VwbyzGEhay",
        "outputId": "5b35be06-da40-433f-e658-19f47e1d2cd0"
      },
      "source": [
        "np.argwhere(a == 78)"
      ],
      "execution_count": 62,
      "outputs": [
        {
          "output_type": "execute_result",
          "data": {
            "text/plain": [
              "array([[5]])"
            ]
          },
          "metadata": {
            "tags": []
          },
          "execution_count": 62
        }
      ]
    },
    {
      "cell_type": "markdown",
      "metadata": {
        "id": "ujEdLrKSGA6X"
      },
      "source": [
        "## 8. Boolean & fancy index"
      ]
    },
    {
      "cell_type": "markdown",
      "metadata": {
        "id": "h_MYKm0pGR_l"
      },
      "source": [
        "### boolean index"
      ]
    },
    {
      "cell_type": "code",
      "metadata": {
        "colab": {
          "base_uri": "https://localhost:8080/"
        },
        "id": "gihG_2EdEj03",
        "outputId": "5563b121-7ade-47d2-f016-9b074d41f412"
      },
      "source": [
        "a > 4  "
      ],
      "execution_count": 67,
      "outputs": [
        {
          "output_type": "execute_result",
          "data": {
            "text/plain": [
              "array([[False, False, False,  True],\n",
              "       [ True,  True,  True, False]])"
            ]
          },
          "metadata": {
            "tags": []
          },
          "execution_count": 67
        }
      ]
    },
    {
      "cell_type": "code",
      "metadata": {
        "colab": {
          "base_uri": "https://localhost:8080/"
        },
        "id": "8mhdhdTvGK9N",
        "outputId": "3b02c044-2144-4513-a187-2b230b5bd5c6"
      },
      "source": [
        "a[a>4]"
      ],
      "execution_count": 68,
      "outputs": [
        {
          "output_type": "execute_result",
          "data": {
            "text/plain": [
              "array([ 5,  8, 78, 23])"
            ]
          },
          "metadata": {
            "tags": []
          },
          "execution_count": 68
        }
      ]
    },
    {
      "cell_type": "markdown",
      "metadata": {
        "id": "NA5InYFTGWx3"
      },
      "source": [
        "### fancy index\n"
      ]
    },
    {
      "cell_type": "code",
      "metadata": {
        "colab": {
          "base_uri": "https://localhost:8080/"
        },
        "id": "1BVeNCMyGPxD",
        "outputId": "65a7d01a-698d-440e-cbbc-69227be593d5"
      },
      "source": [
        "a = np.array([2,4,6,8])\n",
        "b = np.array([1,3,2,0,0,1])\n",
        "a[b]"
      ],
      "execution_count": 69,
      "outputs": [
        {
          "output_type": "execute_result",
          "data": {
            "text/plain": [
              "array([4, 8, 6, 2, 2, 4])"
            ]
          },
          "metadata": {
            "tags": []
          },
          "execution_count": 69
        }
      ]
    },
    {
      "cell_type": "code",
      "metadata": {
        "colab": {
          "base_uri": "https://localhost:8080/"
        },
        "id": "TMn_QLScGjCO",
        "outputId": "90c43e45-0584-4b7e-81c5-46749b618115"
      },
      "source": [
        "a.take(b)"
      ],
      "execution_count": 70,
      "outputs": [
        {
          "output_type": "execute_result",
          "data": {
            "text/plain": [
              "array([4, 8, 6, 2, 2, 4])"
            ]
          },
          "metadata": {
            "tags": []
          },
          "execution_count": 70
        }
      ]
    },
    {
      "cell_type": "code",
      "metadata": {
        "colab": {
          "base_uri": "https://localhost:8080/"
        },
        "id": "LQv898spGr24",
        "outputId": "3d7c80df-8e3a-474a-bb29-29b788c82fb5"
      },
      "source": [
        "a = np.arange(1, 13).reshape(3,4)\n",
        "a"
      ],
      "execution_count": 71,
      "outputs": [
        {
          "output_type": "execute_result",
          "data": {
            "text/plain": [
              "array([[ 1,  2,  3,  4],\n",
              "       [ 5,  6,  7,  8],\n",
              "       [ 9, 10, 11, 12]])"
            ]
          },
          "metadata": {
            "tags": []
          },
          "execution_count": 71
        }
      ]
    },
    {
      "cell_type": "code",
      "metadata": {
        "colab": {
          "base_uri": "https://localhost:8080/"
        },
        "id": "a6FCuh34G3Jq",
        "outputId": "e4b85400-d8c6-439c-85b3-620ae9c801cf"
      },
      "source": [
        "b = np.array([1,2,0, 1])  # 행인덱스\n",
        "c = np.array([2,1,0,3])  # 열인덱스\n",
        "a[b,c]"
      ],
      "execution_count": 75,
      "outputs": [
        {
          "output_type": "execute_result",
          "data": {
            "text/plain": [
              "array([ 7, 10,  1,  8])"
            ]
          },
          "metadata": {
            "tags": []
          },
          "execution_count": 75
        }
      ]
    },
    {
      "cell_type": "markdown",
      "metadata": {
        "id": "mm3INmUTHjIC"
      },
      "source": [
        "## 9. 기술 통계\n"
      ]
    },
    {
      "cell_type": "code",
      "metadata": {
        "colab": {
          "base_uri": "https://localhost:8080/"
        },
        "id": "iXHedndeHGMW",
        "outputId": "92319091-55b3-4720-e63b-d8ffab8bfa61"
      },
      "source": [
        " a = np.random.randint(1, 10000, 1000)\n",
        " a.shape"
      ],
      "execution_count": 79,
      "outputs": [
        {
          "output_type": "execute_result",
          "data": {
            "text/plain": [
              "(1000,)"
            ]
          },
          "metadata": {
            "tags": []
          },
          "execution_count": 79
        }
      ]
    },
    {
      "cell_type": "code",
      "metadata": {
        "colab": {
          "base_uri": "https://localhost:8080/"
        },
        "id": "VgFQ9uahIX0H",
        "outputId": "ea6ced30-ebf3-4653-9f20-cc8f186a569c"
      },
      "source": [
        "for q in [0, 25, 50, 75, 100]:\n",
        "    print(np.percentile(a, q))"
      ],
      "execution_count": 81,
      "outputs": [
        {
          "output_type": "stream",
          "text": [
            "9.0\n",
            "2672.5\n",
            "5010.0\n",
            "7648.0\n",
            "9998.0\n"
          ],
          "name": "stdout"
        }
      ]
    },
    {
      "cell_type": "code",
      "metadata": {
        "colab": {
          "base_uri": "https://localhost:8080/",
          "height": 320
        },
        "id": "GVH8gLWsIhsH",
        "outputId": "809c2f45-dca3-4f0a-ad14-d0b6e10cc538"
      },
      "source": [
        "import matplotlib.pyplot as plt\n",
        "\n",
        "plt.figure(figsize = (10, 5))\n",
        "plt.boxplot(a)\n",
        "plt.show()"
      ],
      "execution_count": 84,
      "outputs": [
        {
          "output_type": "display_data",
          "data": {
            "image/png": "[encoded data removed]",
            "text/plain": [
              "<Figure size 720x360 with 1 Axes>"
            ]
          },
          "metadata": {
            "tags": [],
            "needs_background": "light"
          }
        }
      ]
    },
    {
      "cell_type": "code",
      "metadata": {
        "id": "yUt03OtRJcEY"
      },
      "source": [
        ""
      ],
      "execution_count": null,
      "outputs": []
    }
  ]
}