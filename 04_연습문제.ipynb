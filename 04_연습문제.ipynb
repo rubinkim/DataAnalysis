{
  "nbformat": 4,
  "nbformat_minor": 0,
  "metadata": {
    "colab": {
      "name": "04_연습문제.ipynb",
      "provenance": [],
      "collapsed_sections": []
    },
    "kernelspec": {
      "name": "python3",
      "display_name": "Python 3"
    },
    "language_info": {
      "name": "python"
    }
  },
  "cells": [
    {
      "cell_type": "code",
      "metadata": {
        "id": "WDBbTJgFLCcM"
      },
      "source": [
        "import numpy as np"
      ],
      "execution_count": 2,
      "outputs": []
    },
    {
      "cell_type": "markdown",
      "metadata": {
        "id": "1F3-Fxf0Kh_9"
      },
      "source": [
        "## 1. 넘파이를 사용하여 다음과 같은 행렬을 만드시오\n",
        "- 10 20 30 40\n",
        "- 50 60 70 80"
      ]
    },
    {
      "cell_type": "code",
      "metadata": {
        "colab": {
          "base_uri": "https://localhost:8080/"
        },
        "id": "5v3X887QKTat",
        "outputId": "d26b077e-c248-4ac1-8937-75725a6daa44"
      },
      "source": [
        "a = np.arange(10, 90, 10, np.int16).reshape(2, -1)\n",
        "a"
      ],
      "execution_count": 5,
      "outputs": [
        {
          "output_type": "execute_result",
          "data": {
            "text/plain": [
              "array([[10, 20, 30, 40],\n",
              "       [50, 60, 70, 80]], dtype=int16)"
            ]
          },
          "metadata": {
            "tags": []
          },
          "execution_count": 5
        }
      ]
    },
    {
      "cell_type": "markdown",
      "metadata": {
        "id": "fKv3K24rLdRn"
      },
      "source": [
        "## 2. 다음 행렬과 같은 행렬이 있다"
      ]
    },
    {
      "cell_type": "code",
      "metadata": {
        "colab": {
          "base_uri": "https://localhost:8080/"
        },
        "id": "orR_G8nRK-x-",
        "outputId": "ae14edf9-fad8-4321-c720-fdcf4a513084"
      },
      "source": [
        "m = np.arange(15).reshape(3,-1)\n",
        "m"
      ],
      "execution_count": 6,
      "outputs": [
        {
          "output_type": "execute_result",
          "data": {
            "text/plain": [
              "array([[ 0,  1,  2,  3,  4],\n",
              "       [ 5,  6,  7,  8,  9],\n",
              "       [10, 11, 12, 13, 14]])"
            ]
          },
          "metadata": {
            "tags": []
          },
          "execution_count": 6
        }
      ]
    },
    {
      "cell_type": "code",
      "metadata": {
        "colab": {
          "base_uri": "https://localhost:8080/"
        },
        "id": "UVOs1luILSKc",
        "outputId": "68d80d02-274c-4dca-f706-c0ddb620ce49"
      },
      "source": [
        "# 1.이 행렬에서 값 7 을 인덱싱한다\n",
        "m[1, 2]"
      ],
      "execution_count": 7,
      "outputs": [
        {
          "output_type": "execute_result",
          "data": {
            "text/plain": [
              "7"
            ]
          },
          "metadata": {
            "tags": []
          },
          "execution_count": 7
        }
      ]
    },
    {
      "cell_type": "code",
      "metadata": {
        "colab": {
          "base_uri": "https://localhost:8080/"
        },
        "id": "ez_D1DIOMIYv",
        "outputId": "a8b03530-1b1d-48f5-8442-70cf778e8437"
      },
      "source": [
        "# 2.이 행렬에서 값 14 을 인덱싱한다\n",
        "m[-1, -1]"
      ],
      "execution_count": 8,
      "outputs": [
        {
          "output_type": "execute_result",
          "data": {
            "text/plain": [
              "14"
            ]
          },
          "metadata": {
            "tags": []
          },
          "execution_count": 8
        }
      ]
    },
    {
      "cell_type": "code",
      "metadata": {
        "colab": {
          "base_uri": "https://localhost:8080/"
        },
        "id": "IoMI5O2MMSiC",
        "outputId": "79d3216f-a221-4d10-cd30-3faf6ccee1f6"
      },
      "source": [
        "# 3. 이 행렬에서 배열 [6, 7] 을 슬라이싱한다\n",
        "m[1, [1,2]]"
      ],
      "execution_count": 9,
      "outputs": [
        {
          "output_type": "execute_result",
          "data": {
            "text/plain": [
              "array([6, 7])"
            ]
          },
          "metadata": {
            "tags": []
          },
          "execution_count": 9
        }
      ]
    },
    {
      "cell_type": "code",
      "metadata": {
        "colab": {
          "base_uri": "https://localhost:8080/"
        },
        "id": "DMqraWOGMgZK",
        "outputId": "ca3d70c2-3198-42e2-bcfb-1c0039aa6eb8"
      },
      "source": [
        "# 4. 이 행렬에서 배열 [7, 12] 을 슬라이싱한다\n",
        "m[[1,2], 2]"
      ],
      "execution_count": 10,
      "outputs": [
        {
          "output_type": "execute_result",
          "data": {
            "text/plain": [
              "array([ 7, 12])"
            ]
          },
          "metadata": {
            "tags": []
          },
          "execution_count": 10
        }
      ]
    },
    {
      "cell_type": "code",
      "metadata": {
        "colab": {
          "base_uri": "https://localhost:8080/"
        },
        "id": "osHYQ05sMvcT",
        "outputId": "12328e36-d69c-4088-b081-82b938c651c6"
      },
      "source": [
        "# 5. 이 행렬에서 배열 [[3, 4], [8, 9]] 을 슬라이싱한다\n",
        "m[:2, 3:]"
      ],
      "execution_count": 12,
      "outputs": [
        {
          "output_type": "execute_result",
          "data": {
            "text/plain": [
              "array([[3, 4],\n",
              "       [8, 9]])"
            ]
          },
          "metadata": {
            "tags": []
          },
          "execution_count": 12
        }
      ]
    },
    {
      "cell_type": "markdown",
      "metadata": {
        "id": "oI8bC4V5NoG0"
      },
      "source": [
        "## 3. 2번의 행렬 m 을 1 차원 벡터 f 로 변환한 후 다음의 문제를 푸시오"
      ]
    },
    {
      "cell_type": "code",
      "metadata": {
        "colab": {
          "base_uri": "https://localhost:8080/"
        },
        "id": "8ApiCFVNNI8U",
        "outputId": "09a40980-8681-4b50-8bdb-3145fa37f3c7"
      },
      "source": [
        "f = m.flatten()\n",
        "f"
      ],
      "execution_count": 13,
      "outputs": [
        {
          "output_type": "execute_result",
          "data": {
            "text/plain": [
              "array([ 0,  1,  2,  3,  4,  5,  6,  7,  8,  9, 10, 11, 12, 13, 14])"
            ]
          },
          "metadata": {
            "tags": []
          },
          "execution_count": 13
        }
      ]
    },
    {
      "cell_type": "code",
      "metadata": {
        "colab": {
          "base_uri": "https://localhost:8080/"
        },
        "id": "GR7uCyxrN1UU",
        "outputId": "24d6fac1-57e1-4b37-9777-8d7479b4e259"
      },
      "source": [
        "# 1. 이 배열에서 3 의 배수를 찾아라\n",
        "f[f % 3 == 0]"
      ],
      "execution_count": 15,
      "outputs": [
        {
          "output_type": "execute_result",
          "data": {
            "text/plain": [
              "array([ 0,  3,  6,  9, 12])"
            ]
          },
          "metadata": {
            "tags": []
          },
          "execution_count": 15
        }
      ]
    },
    {
      "cell_type": "code",
      "metadata": {
        "colab": {
          "base_uri": "https://localhost:8080/"
        },
        "id": "fo7-BnheOCdL",
        "outputId": "8e36620b-ded5-409d-cb7d-5bfe01fb39f0"
      },
      "source": [
        "# 2. 이 배열에서 4 로 나누면 1 이 남는 수를 찾아라\n",
        "f[f % 4 == 1]"
      ],
      "execution_count": 16,
      "outputs": [
        {
          "output_type": "execute_result",
          "data": {
            "text/plain": [
              "array([ 1,  5,  9, 13])"
            ]
          },
          "metadata": {
            "tags": []
          },
          "execution_count": 16
        }
      ]
    },
    {
      "cell_type": "code",
      "metadata": {
        "colab": {
          "base_uri": "https://localhost:8080/"
        },
        "id": "oEIwLw6XORzx",
        "outputId": "b85b4d2b-9380-4bc6-d250-b1132ee74064"
      },
      "source": [
        "# 3. 이 배열에서 3 으로 나누면 나누어지고 4 로 나누면 1 이 남는 수를 찾아라\n",
        "f[np.logical_and((f % 3 == 0), (f % 4 == 1))]"
      ],
      "execution_count": 22,
      "outputs": [
        {
          "output_type": "execute_result",
          "data": {
            "text/plain": [
              "array([9])"
            ]
          },
          "metadata": {
            "tags": []
          },
          "execution_count": 22
        }
      ]
    },
    {
      "cell_type": "markdown",
      "metadata": {
        "id": "Uo_NA6w9Owm3"
      },
      "source": [
        "## 4. 값을 직접 입력하지 말고 우측의 행렬을 만드시오"
      ]
    },
    {
      "cell_type": "code",
      "metadata": {
        "colab": {
          "base_uri": "https://localhost:8080/"
        },
        "id": "kOSX3GApOi1y",
        "outputId": "42cf2f49-368a-4c17-ab08-699d1e87fab1"
      },
      "source": [
        "a = np.identity(5, dtype=np.int16) * 2 + np.eye(5, k=1) + np.eye(5, k=-1) * 3\n",
        "print(a)"
      ],
      "execution_count": 35,
      "outputs": [
        {
          "output_type": "stream",
          "text": [
            "[[2. 1. 0. 0. 0.]\n",
            " [3. 2. 1. 0. 0.]\n",
            " [0. 3. 2. 1. 0.]\n",
            " [0. 0. 3. 2. 1.]\n",
            " [0. 0. 0. 3. 2.]]\n"
          ],
          "name": "stdout"
        }
      ]
    },
    {
      "cell_type": "markdown",
      "metadata": {
        "id": "9--KZDpiSH4p"
      },
      "source": [
        "## 5. 0 에서 10 까지 랜덤 실수값으로 이루어진 5 x 6 형태의 데이터 행렬을 만들고 이 데이터에 대해 다음과 같은 값을 구하시오"
      ]
    },
    {
      "cell_type": "code",
      "metadata": {
        "colab": {
          "base_uri": "https://localhost:8080/"
        },
        "id": "cPyePyqGQj8C",
        "outputId": "62b858d8-787c-4399-a2b7-eb737bc8bd56"
      },
      "source": [
        "np.random.seed(123)\n",
        "a = np.random.uniform(low=0, high=10.0, size=30).reshape(5, -1)\n",
        "a.shape"
      ],
      "execution_count": 39,
      "outputs": [
        {
          "output_type": "execute_result",
          "data": {
            "text/plain": [
              "(5, 6)"
            ]
          },
          "metadata": {
            "tags": []
          },
          "execution_count": 39
        }
      ]
    },
    {
      "cell_type": "code",
      "metadata": {
        "colab": {
          "base_uri": "https://localhost:8080/"
        },
        "id": "BqdetupZS4qL",
        "outputId": "c7487633-e195-48dd-c803-c0bbae458a7c"
      },
      "source": [
        "# 1.전체의 최대값\n",
        "np.max(a)"
      ],
      "execution_count": 40,
      "outputs": [
        {
          "output_type": "execute_result",
          "data": {
            "text/plain": [
              "9.807641983846155"
            ]
          },
          "metadata": {
            "tags": []
          },
          "execution_count": 40
        }
      ]
    },
    {
      "cell_type": "code",
      "metadata": {
        "colab": {
          "base_uri": "https://localhost:8080/"
        },
        "id": "WZNC2c5VUQkE",
        "outputId": "322175e1-5f12-4da9-8261-ff88704ee6aa"
      },
      "source": [
        "# 2.각행의 합\n",
        "np.sum(a, axis=1)"
      ],
      "execution_count": 41,
      "outputs": [
        {
          "output_type": "execute_result",
          "data": {
            "text/plain": [
              "array([29.03350173, 36.1087108 , 19.92233289, 38.82690549, 25.60144353])"
            ]
          },
          "metadata": {
            "tags": []
          },
          "execution_count": 41
        }
      ]
    },
    {
      "cell_type": "code",
      "metadata": {
        "colab": {
          "base_uri": "https://localhost:8080/"
        },
        "id": "GTxaXPF5UbWb",
        "outputId": "32543492-2d55-47c2-f3ad-ddbc8ff7171d"
      },
      "source": [
        "# 3.각행의 최대값\n",
        "np.max(a, axis=1)"
      ],
      "execution_count": 42,
      "outputs": [
        {
          "output_type": "execute_result",
          "data": {
            "text/plain": [
              "array([7.1946897 , 9.80764198, 7.37995406, 8.49431794, 7.22443383])"
            ]
          },
          "metadata": {
            "tags": []
          },
          "execution_count": 42
        }
      ]
    },
    {
      "cell_type": "code",
      "metadata": {
        "colab": {
          "base_uri": "https://localhost:8080/"
        },
        "id": "9D0Yu9jMUltt",
        "outputId": "df1b7792-8bac-470c-cc87-cf818c5ccdc6"
      },
      "source": [
        "# 4.각열의 평균\n",
        "np.mean(a, axis=0)"
      ],
      "execution_count": 43,
      "outputs": [
        {
          "output_type": "execute_result",
          "data": {
            "text/plain": [
              "array([6.73960077, 3.77086694, 4.20403445, 5.51824544, 4.52661618,\n",
              "       5.13921512])"
            ]
          },
          "metadata": {
            "tags": []
          },
          "execution_count": 43
        }
      ]
    },
    {
      "cell_type": "code",
      "metadata": {
        "colab": {
          "base_uri": "https://localhost:8080/"
        },
        "id": "sFGYjjJHUv2D",
        "outputId": "f76f7c1d-78a3-4ad6-9ae2-d5093f3e89da"
      },
      "source": [
        "# 5.각열의 최소값\n",
        "np.min(a, axis=0)"
      ],
      "execution_count": 44,
      "outputs": [
        {
          "output_type": "execute_result",
          "data": {
            "text/plain": [
              "array([4.38572245, 0.59677897, 2.26851454, 2.28263231, 1.8249173 ,\n",
              "       1.75451756])"
            ]
          },
          "metadata": {
            "tags": []
          },
          "execution_count": 44
        }
      ]
    },
    {
      "cell_type": "markdown",
      "metadata": {
        "id": "Q182SyEmVBcy"
      },
      "source": [
        "## 6. 다음 배열은 첫번째 행 ( 에 학번 , 두번째 행에 영어 성적 , 세번째 행에 수학 성적을 적은 배열이다 . 영어 성적을 기준으로 각 열을 재정렬하시오"
      ]
    },
    {
      "cell_type": "code",
      "metadata": {
        "colab": {
          "base_uri": "https://localhost:8080/"
        },
        "id": "gmxEDVpwU84A",
        "outputId": "6a472f43-45e1-4743-caf8-d02acafdfa42"
      },
      "source": [
        "a = np.array([[1, 2, 3, 4], [46, 99, 100, 71], [81, 59, 90, 100]])\n",
        "a"
      ],
      "execution_count": 45,
      "outputs": [
        {
          "output_type": "execute_result",
          "data": {
            "text/plain": [
              "array([[  1,   2,   3,   4],\n",
              "       [ 46,  99, 100,  71],\n",
              "       [ 81,  59,  90, 100]])"
            ]
          },
          "metadata": {
            "tags": []
          },
          "execution_count": 45
        }
      ]
    },
    {
      "cell_type": "code",
      "metadata": {
        "colab": {
          "base_uri": "https://localhost:8080/"
        },
        "id": "62IMFclCVwXT",
        "outputId": "edb85879-1661-499b-b874-ca8542e9515d"
      },
      "source": [
        "eng_idx = np.argsort(a[1])\n",
        "eng_idx"
      ],
      "execution_count": 56,
      "outputs": [
        {
          "output_type": "execute_result",
          "data": {
            "text/plain": [
              "array([0, 3, 1, 2])"
            ]
          },
          "metadata": {
            "tags": []
          },
          "execution_count": 56
        }
      ]
    },
    {
      "cell_type": "code",
      "metadata": {
        "colab": {
          "base_uri": "https://localhost:8080/"
        },
        "id": "J9O-B5xoWH0U",
        "outputId": "39c74977-6ba9-446c-d508-848b8b569fe5"
      },
      "source": [
        "eng_sort = a.T[eng_sort].T\n",
        "eng_sort"
      ],
      "execution_count": 58,
      "outputs": [
        {
          "output_type": "execute_result",
          "data": {
            "text/plain": [
              "array([[  1,   4,   2,   3],\n",
              "       [ 46,  71,  99, 100],\n",
              "       [ 81, 100,  59,  90]])"
            ]
          },
          "metadata": {
            "tags": []
          },
          "execution_count": 58
        }
      ]
    },
    {
      "cell_type": "code",
      "metadata": {
        "colab": {
          "base_uri": "https://localhost:8080/"
        },
        "id": "9xLZSMPRXLAl",
        "outputId": "25b1fd11-bbb2-4f67-f41c-8623569ff145"
      },
      "source": [
        "eng_idx_reverse = np.argsort(a[1])[::-1]\n",
        "eng_idx_reverse"
      ],
      "execution_count": 59,
      "outputs": [
        {
          "output_type": "execute_result",
          "data": {
            "text/plain": [
              "array([2, 1, 3, 0])"
            ]
          },
          "metadata": {
            "tags": []
          },
          "execution_count": 59
        }
      ]
    },
    {
      "cell_type": "code",
      "metadata": {
        "colab": {
          "base_uri": "https://localhost:8080/"
        },
        "id": "CmFGX_zlX7Pj",
        "outputId": "5a4f1455-2297-4300-c83d-7734011e5354"
      },
      "source": [
        "eng_sort_reverse = a.T[eng_idx_reverse].T\n",
        "eng_sort_reverse"
      ],
      "execution_count": 61,
      "outputs": [
        {
          "output_type": "execute_result",
          "data": {
            "text/plain": [
              "array([[  3,   2,   4,   1],\n",
              "       [100,  99,  71,  46],\n",
              "       [ 90,  59, 100,  81]])"
            ]
          },
          "metadata": {
            "tags": []
          },
          "execution_count": 61
        }
      ]
    },
    {
      "cell_type": "markdown",
      "metadata": {
        "id": "anXvyztaYUeI"
      },
      "source": [
        "## 7. 주사위를 100 번 던지는 가상 실험을 파이썬으로 작성하고, 던져서 나오는 숫자의 평균을 구하시오"
      ]
    },
    {
      "cell_type": "code",
      "metadata": {
        "colab": {
          "base_uri": "https://localhost:8080/"
        },
        "id": "47uUfMWDilbY",
        "outputId": "26159a57-bb45-4868-b85f-04379f251869"
      },
      "source": [
        "np.random.seed(123)\n",
        "dice_100 = np.random.multinomial(n=100, pvals=[1/6]*6, size=1)\n",
        "print(dice_100)\n",
        "\n",
        "dice_nums = np.arange(1,7).reshape(-1, 1)\n",
        "print(dice_nums)\n",
        "\n",
        "print(dice_100.shape, dice_nums.shape)\n",
        "\n",
        "dice_sum = np.dot(dice_100, dice_nums)[0][0]\n",
        "print(dice_sum)\n",
        "\n",
        "dice_mean = dice_sum / np.sum(dice_100)\n",
        "diec_mean = dice_mean\n",
        "print(dice_mean)"
      ],
      "execution_count": 127,
      "outputs": [
        {
          "output_type": "stream",
          "text": [
            "[[18 14 14 18 20 16]]\n",
            "[[1]\n",
            " [2]\n",
            " [3]\n",
            " [4]\n",
            " [5]\n",
            " [6]]\n",
            "(1, 6) (6, 1)\n",
            "356\n",
            "3.56\n"
          ],
          "name": "stdout"
        }
      ]
    },
    {
      "cell_type": "code",
      "metadata": {
        "colab": {
          "base_uri": "https://localhost:8080/"
        },
        "id": "KGtgY9ogi2YN",
        "outputId": "9847d1ad-ba5f-40e5-9355-10131e368272"
      },
      "source": [
        "dice_sum[0][0]"
      ],
      "execution_count": 125,
      "outputs": [
        {
          "output_type": "execute_result",
          "data": {
            "text/plain": [
              "356"
            ]
          },
          "metadata": {
            "tags": []
          },
          "execution_count": 125
        }
      ]
    },
    {
      "cell_type": "code",
      "metadata": {
        "colab": {
          "base_uri": "https://localhost:8080/"
        },
        "id": "tvipDF25ZQyB",
        "outputId": "12a07907-4a23-4a9f-aa8b-4ee17e0873b4"
      },
      "source": [
        "np.random.seed(123)\n",
        "dice_100 = np.random.multinomial(n=100, pvals=[1/6]*6, size=1)\n",
        "print(dice_100)\n",
        "\n",
        "dice_nums = np.arange(1, 7)\n",
        "print(dice_nums)\n",
        "\n",
        "dice_sums = dice_100.reshape(-1, ) * dice_nums\n",
        "print(dice_sums)\n",
        "\n",
        "dice_mean = np.sum(dice_sums) / 100\n",
        "print(dice_mean)"
      ],
      "execution_count": 81,
      "outputs": [
        {
          "output_type": "stream",
          "text": [
            "[[18 14 14 18 20 16]]\n",
            "[1 2 3 4 5 6]\n",
            "[ 18  28  42  72 100  96]\n",
            "3.56\n"
          ],
          "name": "stdout"
        }
      ]
    },
    {
      "cell_type": "markdown",
      "metadata": {
        "id": "Bc8-4VeceKkZ"
      },
      "source": [
        "## 가격이 10,000 원인 주식이 있다 . 이 주식의 일간 수익률 은 기댓값이 0% 이고 표준편차가 1% 인 표준 정규 분포를 따른다고 하자 . 250 일 동안의 주가를 무작위로 생성하시오"
      ]
    },
    {
      "cell_type": "code",
      "metadata": {
        "colab": {
          "base_uri": "https://localhost:8080/"
        },
        "id": "yatdWHtncRi0",
        "outputId": "364dd03c-09a0-4217-e05e-549392472f0d"
      },
      "source": [
        "np.random.seed(123)\n",
        "prices = []\n",
        "prices.append(10000)\n",
        "price = 10000\n",
        "\n",
        "for i in range(99):\n",
        "    \n",
        "    pct_change = np.random.normal(0.0, 0.01)\n",
        "    price = np.round(price * (1 + pct_change), 2)\n",
        "    prices.append(price)\n",
        "\n",
        "print(prices)\n",
        "    "
      ],
      "execution_count": 118,
      "outputs": [
        {
          "output_type": "stream",
          "text": [
            "[10000, 9891.44, 9990.09, 10018.36, 9867.45, 9810.36, 9972.37, 9730.37, 9688.64, 9811.29, 9726.25, 9660.22, 9651.07, 9795.01, 9732.43, 9689.22, 9647.13, 9859.94, 10075.56, 10176.72, 10216.02, 10291.35, 10444.77, 10347.02, 10468.68, 10337.42, 10271.49, 10364.66, 10216.58, 10202.27, 10114.35, 10088.5, 9806.16, 9632.44, 9565.02, 9653.73, 9636.97, 9637.24, 9703.57, 9618.22, 9645.5, 9567.82, 9402.52, 9365.77, 9419.51, 9451.4, 9450.28, 9676.37, 9716.32, 9811.42, 10031.01, 9901.2, 9798.35, 9969.21, 9889.65, 9892.59, 9998.37, 10087.43, 10264.45, 10417.97, 10529.38, 10448.02, 10531.07, 10564.17, 10424.06, 10571.8, 10657.14, 10661.99, 10637.14, 10509.68, 10530.65, 10579.98, 10492.04, 10613.98, 10497.52, 10274.65, 10381.48, 10339.6, 10326.57, 10240.08, 10075.63, 10202.1, 10131.82, 10300.1, 10383.25, 10350.57, 10238.17, 10163.18, 10039.95, 10249.5, 10266.35, 10384.43, 10252.82, 10271.38, 10392.36, 10357.54, 10464.34, 10350.85, 10209.72, 10248.46]\n"
          ],
          "name": "stdout"
        }
      ]
    },
    {
      "cell_type": "code",
      "metadata": {
        "colab": {
          "base_uri": "https://localhost:8080/"
        },
        "id": "j-hev_jviK_M",
        "outputId": "f2a7098e-2e8b-4a96-cab5-fc2a36923b31"
      },
      "source": [
        "np.random.seed(123)\n",
        "prices = []\n",
        "prices.append(10000)\n",
        "price = 10000\n",
        "\n",
        "for i in range(99):\n",
        "    \n",
        "    pct_change = np.random.normal(0.0, 0.01)\n",
        "    price = np.round(price * (1 + pct_change), 2)\n",
        "    print(price, end=' ')\n",
        "    prices.append(price)\n",
        "\n",
        "\n",
        "    "
      ],
      "execution_count": 119,
      "outputs": [
        {
          "output_type": "stream",
          "text": [
            "9891.44 9990.09 10018.36 9867.45 9810.36 9972.37 9730.37 9688.64 9811.29 9726.25 9660.22 9651.07 9795.01 9732.43 9689.22 9647.13 9859.94 10075.56 10176.72 10216.02 10291.35 10444.77 10347.02 10468.68 10337.42 10271.49 10364.66 10216.58 10202.27 10114.35 10088.5 9806.16 9632.44 9565.02 9653.73 9636.97 9637.24 9703.57 9618.22 9645.5 9567.82 9402.52 9365.77 9419.51 9451.4 9450.28 9676.37 9716.32 9811.42 10031.01 9901.2 9798.35 9969.21 9889.65 9892.59 9998.37 10087.43 10264.45 10417.97 10529.38 10448.02 10531.07 10564.17 10424.06 10571.8 10657.14 10661.99 10637.14 10509.68 10530.65 10579.98 10492.04 10613.98 10497.52 10274.65 10381.48 10339.6 10326.57 10240.08 10075.63 10202.1 10131.82 10300.1 10383.25 10350.57 10238.17 10163.18 10039.95 10249.5 10266.35 10384.43 10252.82 10271.38 10392.36 10357.54 10464.34 10350.85 10209.72 10248.46 "
          ],
          "name": "stdout"
        }
      ]
    },
    {
      "cell_type": "code",
      "metadata": {
        "colab": {
          "base_uri": "https://localhost:8080/"
        },
        "id": "fkN5WDEbfLhT",
        "outputId": "d1afd03f-1a1b-4f8f-d034-7818ad3bb755"
      },
      "source": [
        "np.round(np.random.normal(loc=0, scale=0.01, size=10), 3)"
      ],
      "execution_count": 114,
      "outputs": [
        {
          "output_type": "execute_result",
          "data": {
            "text/plain": [
              "array([-0.016, -0.004,  0.012, -0.007,  0.005,  0.01 ,  0.003, -0.014,\n",
              "       -0.003,  0.02 ])"
            ]
          },
          "metadata": {
            "tags": []
          },
          "execution_count": 114
        }
      ]
    },
    {
      "cell_type": "code",
      "metadata": {
        "id": "pJYqjJNLfXo_"
      },
      "source": [
        ""
      ],
      "execution_count": 98,
      "outputs": []
    }
  ]
}