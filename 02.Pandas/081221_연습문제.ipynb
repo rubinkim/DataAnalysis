{
  "nbformat": 4,
  "nbformat_minor": 0,
  "metadata": {
    "colab": {
      "name": "081221_연습문제.ipynb",
      "provenance": [],
      "collapsed_sections": []
    },
    "kernelspec": {
      "name": "python3",
      "display_name": "Python 3"
    },
    "language_info": {
      "name": "python"
    }
  },
  "cells": [
    {
      "cell_type": "code",
      "metadata": {
        "id": "B7d3r57zC1X6"
      },
      "source": [
        "import numpy as np\n",
        "import pandas as pd\n",
        "import seaborn as sns"
      ],
      "execution_count": 1,
      "outputs": []
    },
    {
      "cell_type": "markdown",
      "metadata": {
        "id": "cuxKxqzcCExA"
      },
      "source": [
        "## 2. 2. Titanic - sns.load_dataset('titanic')\n",
        "\n",
        "\n"
      ]
    },
    {
      "cell_type": "markdown",
      "metadata": {
        "id": "Jg9Z8OaCCW7i"
      },
      "source": [
        "### a. 타이타닉호의 승객에 대해 나이와 성별에 의한 카테고리 열인 category1 열을 만드시오. category1 카테고리는 다음과 같이 정의됨\n",
        "- 20 살이 넘으면 성별을 그대로 사용한다\n",
        "- 20 살 미만이면 성별에 관계없이 child” 라고 한다"
      ]
    },
    {
      "cell_type": "code",
      "metadata": {
        "colab": {
          "base_uri": "https://localhost:8080/"
        },
        "id": "T7H8JrYkBuJo",
        "outputId": "d428b86a-a107-436a-abc7-3b1767614fbe"
      },
      "source": [
        "titanic = sns.load_dataset('titanic')\n",
        "titanic.info()"
      ],
      "execution_count": 2,
      "outputs": [
        {
          "output_type": "stream",
          "text": [
            "<class 'pandas.core.frame.DataFrame'>\n",
            "RangeIndex: 891 entries, 0 to 890\n",
            "Data columns (total 15 columns):\n",
            " #   Column       Non-Null Count  Dtype   \n",
            "---  ------       --------------  -----   \n",
            " 0   survived     891 non-null    int64   \n",
            " 1   pclass       891 non-null    int64   \n",
            " 2   sex          891 non-null    object  \n",
            " 3   age          714 non-null    float64 \n",
            " 4   sibsp        891 non-null    int64   \n",
            " 5   parch        891 non-null    int64   \n",
            " 6   fare         891 non-null    float64 \n",
            " 7   embarked     889 non-null    object  \n",
            " 8   class        891 non-null    category\n",
            " 9   who          891 non-null    object  \n",
            " 10  adult_male   891 non-null    bool    \n",
            " 11  deck         203 non-null    category\n",
            " 12  embark_town  889 non-null    object  \n",
            " 13  alive        891 non-null    object  \n",
            " 14  alone        891 non-null    bool    \n",
            "dtypes: bool(2), category(2), float64(2), int64(4), object(5)\n",
            "memory usage: 80.6+ KB\n"
          ],
          "name": "stdout"
        }
      ]
    },
    {
      "cell_type": "code",
      "metadata": {
        "id": "B7UnQlt2DER5"
      },
      "source": [
        "def make_category3(age, sex):\n",
        "    if age >= 20:\n",
        "        return sex\n",
        "    elif age < 20:\n",
        "        return 'child'"
      ],
      "execution_count": 3,
      "outputs": []
    },
    {
      "cell_type": "code",
      "metadata": {
        "colab": {
          "base_uri": "https://localhost:8080/",
          "height": 673
        },
        "id": "4Stce0oBEQI1",
        "outputId": "c55bbfe5-4319-4801-fc09-213edf6b8523"
      },
      "source": [
        "titanic['category3'] = titanic.apply(lambda x : make_category3(x.age, x.sex), axis=1)\n",
        "titanic[['age', 'sex', 'category3']].iloc[100:120]"
      ],
      "execution_count": 4,
      "outputs": [
        {
          "output_type": "execute_result",
          "data": {
            "text/html": [
              "<div>\n",
              "<style scoped>\n",
              "    .dataframe tbody tr th:only-of-type {\n",
              "        vertical-align: middle;\n",
              "    }\n",
              "\n",
              "    .dataframe tbody tr th {\n",
              "        vertical-align: top;\n",
              "    }\n",
              "\n",
              "    .dataframe thead th {\n",
              "        text-align: right;\n",
              "    }\n",
              "</style>\n",
              "<table border=\"1\" class=\"dataframe\">\n",
              "  <thead>\n",
              "    <tr style=\"text-align: right;\">\n",
              "      <th></th>\n",
              "      <th>age</th>\n",
              "      <th>sex</th>\n",
              "      <th>category3</th>\n",
              "    </tr>\n",
              "  </thead>\n",
              "  <tbody>\n",
              "    <tr>\n",
              "      <th>100</th>\n",
              "      <td>28.0</td>\n",
              "      <td>female</td>\n",
              "      <td>female</td>\n",
              "    </tr>\n",
              "    <tr>\n",
              "      <th>101</th>\n",
              "      <td>NaN</td>\n",
              "      <td>male</td>\n",
              "      <td>None</td>\n",
              "    </tr>\n",
              "    <tr>\n",
              "      <th>102</th>\n",
              "      <td>21.0</td>\n",
              "      <td>male</td>\n",
              "      <td>male</td>\n",
              "    </tr>\n",
              "    <tr>\n",
              "      <th>103</th>\n",
              "      <td>33.0</td>\n",
              "      <td>male</td>\n",
              "      <td>male</td>\n",
              "    </tr>\n",
              "    <tr>\n",
              "      <th>104</th>\n",
              "      <td>37.0</td>\n",
              "      <td>male</td>\n",
              "      <td>male</td>\n",
              "    </tr>\n",
              "    <tr>\n",
              "      <th>105</th>\n",
              "      <td>28.0</td>\n",
              "      <td>male</td>\n",
              "      <td>male</td>\n",
              "    </tr>\n",
              "    <tr>\n",
              "      <th>106</th>\n",
              "      <td>21.0</td>\n",
              "      <td>female</td>\n",
              "      <td>female</td>\n",
              "    </tr>\n",
              "    <tr>\n",
              "      <th>107</th>\n",
              "      <td>NaN</td>\n",
              "      <td>male</td>\n",
              "      <td>None</td>\n",
              "    </tr>\n",
              "    <tr>\n",
              "      <th>108</th>\n",
              "      <td>38.0</td>\n",
              "      <td>male</td>\n",
              "      <td>male</td>\n",
              "    </tr>\n",
              "    <tr>\n",
              "      <th>109</th>\n",
              "      <td>NaN</td>\n",
              "      <td>female</td>\n",
              "      <td>None</td>\n",
              "    </tr>\n",
              "    <tr>\n",
              "      <th>110</th>\n",
              "      <td>47.0</td>\n",
              "      <td>male</td>\n",
              "      <td>male</td>\n",
              "    </tr>\n",
              "    <tr>\n",
              "      <th>111</th>\n",
              "      <td>14.5</td>\n",
              "      <td>female</td>\n",
              "      <td>child</td>\n",
              "    </tr>\n",
              "    <tr>\n",
              "      <th>112</th>\n",
              "      <td>22.0</td>\n",
              "      <td>male</td>\n",
              "      <td>male</td>\n",
              "    </tr>\n",
              "    <tr>\n",
              "      <th>113</th>\n",
              "      <td>20.0</td>\n",
              "      <td>female</td>\n",
              "      <td>female</td>\n",
              "    </tr>\n",
              "    <tr>\n",
              "      <th>114</th>\n",
              "      <td>17.0</td>\n",
              "      <td>female</td>\n",
              "      <td>child</td>\n",
              "    </tr>\n",
              "    <tr>\n",
              "      <th>115</th>\n",
              "      <td>21.0</td>\n",
              "      <td>male</td>\n",
              "      <td>male</td>\n",
              "    </tr>\n",
              "    <tr>\n",
              "      <th>116</th>\n",
              "      <td>70.5</td>\n",
              "      <td>male</td>\n",
              "      <td>male</td>\n",
              "    </tr>\n",
              "    <tr>\n",
              "      <th>117</th>\n",
              "      <td>29.0</td>\n",
              "      <td>male</td>\n",
              "      <td>male</td>\n",
              "    </tr>\n",
              "    <tr>\n",
              "      <th>118</th>\n",
              "      <td>24.0</td>\n",
              "      <td>male</td>\n",
              "      <td>male</td>\n",
              "    </tr>\n",
              "    <tr>\n",
              "      <th>119</th>\n",
              "      <td>2.0</td>\n",
              "      <td>female</td>\n",
              "      <td>child</td>\n",
              "    </tr>\n",
              "  </tbody>\n",
              "</table>\n",
              "</div>"
            ],
            "text/plain": [
              "      age     sex category3\n",
              "100  28.0  female    female\n",
              "101   NaN    male      None\n",
              "102  21.0    male      male\n",
              "103  33.0    male      male\n",
              "104  37.0    male      male\n",
              "105  28.0    male      male\n",
              "106  21.0  female    female\n",
              "107   NaN    male      None\n",
              "108  38.0    male      male\n",
              "109   NaN  female      None\n",
              "110  47.0    male      male\n",
              "111  14.5  female     child\n",
              "112  22.0    male      male\n",
              "113  20.0  female    female\n",
              "114  17.0  female     child\n",
              "115  21.0    male      male\n",
              "116  70.5    male      male\n",
              "117  29.0    male      male\n",
              "118  24.0    male      male\n",
              "119   2.0  female     child"
            ]
          },
          "metadata": {
            "tags": []
          },
          "execution_count": 4
        }
      ]
    },
    {
      "cell_type": "markdown",
      "metadata": {
        "id": "NPpUfmsSE7xd"
      },
      "source": [
        "### b.타이타닉호의 승객 중 나이를 명시하지 않은 고객은 나이를 명시한 고객의 평균 나이 값이 되도록 titanic 데이터프레임을 고치시오"
      ]
    },
    {
      "cell_type": "code",
      "metadata": {
        "id": "YaxhqO5VEj2o"
      },
      "source": [
        "titanic['age'] = titanic['age'].fillna(titanic['age'].mean())"
      ],
      "execution_count": 5,
      "outputs": []
    },
    {
      "cell_type": "code",
      "metadata": {
        "colab": {
          "base_uri": "https://localhost:8080/",
          "height": 143
        },
        "id": "r9lmLvmQFcHO",
        "outputId": "f2e7492b-7bb0-4d65-9f84-1344c864e9f0"
      },
      "source": [
        "titanic[['age', 'sex', 'category3']].iloc[[101,107,109]]"
      ],
      "execution_count": 6,
      "outputs": [
        {
          "output_type": "execute_result",
          "data": {
            "text/html": [
              "<div>\n",
              "<style scoped>\n",
              "    .dataframe tbody tr th:only-of-type {\n",
              "        vertical-align: middle;\n",
              "    }\n",
              "\n",
              "    .dataframe tbody tr th {\n",
              "        vertical-align: top;\n",
              "    }\n",
              "\n",
              "    .dataframe thead th {\n",
              "        text-align: right;\n",
              "    }\n",
              "</style>\n",
              "<table border=\"1\" class=\"dataframe\">\n",
              "  <thead>\n",
              "    <tr style=\"text-align: right;\">\n",
              "      <th></th>\n",
              "      <th>age</th>\n",
              "      <th>sex</th>\n",
              "      <th>category3</th>\n",
              "    </tr>\n",
              "  </thead>\n",
              "  <tbody>\n",
              "    <tr>\n",
              "      <th>101</th>\n",
              "      <td>29.699118</td>\n",
              "      <td>male</td>\n",
              "      <td>None</td>\n",
              "    </tr>\n",
              "    <tr>\n",
              "      <th>107</th>\n",
              "      <td>29.699118</td>\n",
              "      <td>male</td>\n",
              "      <td>None</td>\n",
              "    </tr>\n",
              "    <tr>\n",
              "      <th>109</th>\n",
              "      <td>29.699118</td>\n",
              "      <td>female</td>\n",
              "      <td>None</td>\n",
              "    </tr>\n",
              "  </tbody>\n",
              "</table>\n",
              "</div>"
            ],
            "text/plain": [
              "           age     sex category3\n",
              "101  29.699118    male      None\n",
              "107  29.699118    male      None\n",
              "109  29.699118  female      None"
            ]
          },
          "metadata": {
            "tags": []
          },
          "execution_count": 6
        }
      ]
    },
    {
      "cell_type": "markdown",
      "metadata": {
        "id": "MeKVO_FHFySg"
      },
      "source": [
        "### 성별 , 선실별 , 출발지 embark_town 별 생존율을 구하시오"
      ]
    },
    {
      "cell_type": "code",
      "metadata": {
        "colab": {
          "base_uri": "https://localhost:8080/",
          "height": 80
        },
        "id": "-OrmaUYYFgP4",
        "outputId": "ae8e3b1b-fe45-4ffc-df83-59e0d5fa9668"
      },
      "source": [
        "# 성별 생존율\n",
        "survived_ratio_by_sex = titanic.groupby('sex')[['survived']].mean()\n",
        "survived_ratio_by_class = titanic.groupby('pclass')[['survived']].mean()\n",
        "survived_ratio_by_embark = titanic.groupby('embarked')[['survived']].mean()\n",
        "\n",
        "pd.concat((survived_ratio_by_sex, survived_ratio_by_class, survived_ratio_by_embark), axis=0).T.round(2)"
      ],
      "execution_count": 7,
      "outputs": [
        {
          "output_type": "execute_result",
          "data": {
            "text/html": [
              "<div>\n",
              "<style scoped>\n",
              "    .dataframe tbody tr th:only-of-type {\n",
              "        vertical-align: middle;\n",
              "    }\n",
              "\n",
              "    .dataframe tbody tr th {\n",
              "        vertical-align: top;\n",
              "    }\n",
              "\n",
              "    .dataframe thead th {\n",
              "        text-align: right;\n",
              "    }\n",
              "</style>\n",
              "<table border=\"1\" class=\"dataframe\">\n",
              "  <thead>\n",
              "    <tr style=\"text-align: right;\">\n",
              "      <th></th>\n",
              "      <th>female</th>\n",
              "      <th>male</th>\n",
              "      <th>1</th>\n",
              "      <th>2</th>\n",
              "      <th>3</th>\n",
              "      <th>C</th>\n",
              "      <th>Q</th>\n",
              "      <th>S</th>\n",
              "    </tr>\n",
              "  </thead>\n",
              "  <tbody>\n",
              "    <tr>\n",
              "      <th>survived</th>\n",
              "      <td>0.74</td>\n",
              "      <td>0.19</td>\n",
              "      <td>0.63</td>\n",
              "      <td>0.47</td>\n",
              "      <td>0.24</td>\n",
              "      <td>0.55</td>\n",
              "      <td>0.39</td>\n",
              "      <td>0.34</td>\n",
              "    </tr>\n",
              "  </tbody>\n",
              "</table>\n",
              "</div>"
            ],
            "text/plain": [
              "          female  male     1     2     3     C     Q     S\n",
              "survived    0.74  0.19  0.63  0.47  0.24  0.55  0.39  0.34"
            ]
          },
          "metadata": {
            "tags": []
          },
          "execution_count": 7
        }
      ]
    },
    {
      "cell_type": "code",
      "metadata": {
        "colab": {
          "base_uri": "https://localhost:8080/"
        },
        "id": "LLnxAjYbGSzs",
        "outputId": "03d632b6-584a-4ab2-fd80-8722d111ffae"
      },
      "source": [
        "# d. 타이타닉호 승객을 ‘ 미성년자’, ’청년’, ’중년’, ’장년’, 노년’ 나이 그룹으로 나누고, 각 그룹별 생존율을 구하시오\n",
        "# bins = [1, 20, 30, 50, 70, 100]\n",
        "# labels = [\"미성년자 \", 청년 \", 중년 \", 장년 \", 노년]\n",
        "\n",
        "titanic['age_group'] = pd.cut(x=titanic.age, bins=[1, 20, 30, 50, 70, 100], labels=['미성년자', '청년' , '중년', '장년' , '노년'])\n",
        "survived_ratio_by_age_group = titanic.groupby('age_group')['survived'].mean()\n",
        "survived_ratio_by_age_group"
      ],
      "execution_count": 8,
      "outputs": [
        {
          "output_type": "execute_result",
          "data": {
            "text/plain": [
              "age_group\n",
              "미성년자    0.424242\n",
              "청년      0.334152\n",
              "중년      0.423237\n",
              "장년      0.355932\n",
              "노년      0.200000\n",
              "Name: survived, dtype: float64"
            ]
          },
          "metadata": {
            "tags": []
          },
          "execution_count": 8
        }
      ]
    },
    {
      "cell_type": "code",
      "metadata": {
        "id": "03AzFz5BIbeF"
      },
      "source": [
        "# qcut 명령으로 세 개의 나이 그룹을 만들고 , 나이 그룹별 남녀 성비와 생존율을 구하시오\n",
        "titanic['age_qcut'] = pd.qcut(x=titanic.age, q=3 , labels=['young','middle','old'])\n",
        "survived_ratio_by_age_qcut = titanic.groupby(['age_qcut'])['survived'].mean()\n",
        "sex_ratio_by_age_qcut = titanic.groupby(['age_qcut', 'sex'])['sex'].count() / titanic.groupby(['age_qcut'])['sex'].count()"
      ],
      "execution_count": 9,
      "outputs": []
    },
    {
      "cell_type": "code",
      "metadata": {
        "colab": {
          "base_uri": "https://localhost:8080/"
        },
        "id": "BKGtIyPYLO6q",
        "outputId": "e643bd6d-c91e-4a67-97bd-4ed30effc550"
      },
      "source": [
        "survived_ratio_by_age_qcut"
      ],
      "execution_count": 10,
      "outputs": [
        {
          "output_type": "execute_result",
          "data": {
            "text/plain": [
              "age_qcut\n",
              "young     0.411960\n",
              "middle    0.335526\n",
              "old       0.405594\n",
              "Name: survived, dtype: float64"
            ]
          },
          "metadata": {
            "tags": []
          },
          "execution_count": 10
        }
      ]
    },
    {
      "cell_type": "code",
      "metadata": {
        "colab": {
          "base_uri": "https://localhost:8080/"
        },
        "id": "fCfeCrqsJosE",
        "outputId": "6df60090-a3b6-448c-83b5-a213db912935"
      },
      "source": [
        "sex_ratio_by_age_qcut"
      ],
      "execution_count": 11,
      "outputs": [
        {
          "output_type": "execute_result",
          "data": {
            "text/plain": [
              "age_qcut  sex   \n",
              "young     female    0.405316\n",
              "          male      0.594684\n",
              "middle    female    0.319079\n",
              "          male      0.680921\n",
              "old       female    0.332168\n",
              "          male      0.667832\n",
              "Name: sex, dtype: float64"
            ]
          },
          "metadata": {
            "tags": []
          },
          "execution_count": 11
        }
      ]
    },
    {
      "cell_type": "code",
      "metadata": {
        "colab": {
          "base_uri": "https://localhost:8080/"
        },
        "id": "OPGEE1CVLeZv",
        "outputId": "dbc69a40-8a87-41a2-9803-e5f3eef1b9f6"
      },
      "source": [
        "# a.배기량 (displacement) 대비 마력 (horsepower) 열 hp_per_cc 을 추가하시오\n",
        "mpg = sns.load_dataset('mpg')\n",
        "mpg.info()"
      ],
      "execution_count": 12,
      "outputs": [
        {
          "output_type": "stream",
          "text": [
            "<class 'pandas.core.frame.DataFrame'>\n",
            "RangeIndex: 398 entries, 0 to 397\n",
            "Data columns (total 9 columns):\n",
            " #   Column        Non-Null Count  Dtype  \n",
            "---  ------        --------------  -----  \n",
            " 0   mpg           398 non-null    float64\n",
            " 1   cylinders     398 non-null    int64  \n",
            " 2   displacement  398 non-null    float64\n",
            " 3   horsepower    392 non-null    float64\n",
            " 4   weight        398 non-null    int64  \n",
            " 5   acceleration  398 non-null    float64\n",
            " 6   model_year    398 non-null    int64  \n",
            " 7   origin        398 non-null    object \n",
            " 8   name          398 non-null    object \n",
            "dtypes: float64(4), int64(3), object(2)\n",
            "memory usage: 28.1+ KB\n"
          ],
          "name": "stdout"
        }
      ]
    },
    {
      "cell_type": "code",
      "metadata": {
        "id": "5CObkkTjLmJO"
      },
      "source": [
        "mpg['hp_per_cc'] = mpg.horsepower / mpg.displacement"
      ],
      "execution_count": 13,
      "outputs": []
    },
    {
      "cell_type": "code",
      "metadata": {
        "colab": {
          "base_uri": "https://localhost:8080/",
          "height": 420
        },
        "id": "6fqEYHvQLx7N",
        "outputId": "d7ccac95-41f6-4b89-b062-85e857795da5"
      },
      "source": [
        "# b.name 으로부터 manufacturer와 모델을 추출하여 새로운 열 manufacturer 와 model 을 추가하고 , name 열은 삭제하시오\n",
        "mpg['manufacturer'] = mpg['name'].apply(lambda x : x.split()[0])\n",
        "mpg['model'] = mpg['name'].apply(lambda x : ' '.join(x.split()[1:]))\n",
        "del mpg['name']\n",
        "mpg[['manufacturer', 'model']]"
      ],
      "execution_count": 14,
      "outputs": [
        {
          "output_type": "execute_result",
          "data": {
            "text/html": [
              "<div>\n",
              "<style scoped>\n",
              "    .dataframe tbody tr th:only-of-type {\n",
              "        vertical-align: middle;\n",
              "    }\n",
              "\n",
              "    .dataframe tbody tr th {\n",
              "        vertical-align: top;\n",
              "    }\n",
              "\n",
              "    .dataframe thead th {\n",
              "        text-align: right;\n",
              "    }\n",
              "</style>\n",
              "<table border=\"1\" class=\"dataframe\">\n",
              "  <thead>\n",
              "    <tr style=\"text-align: right;\">\n",
              "      <th></th>\n",
              "      <th>manufacturer</th>\n",
              "      <th>model</th>\n",
              "    </tr>\n",
              "  </thead>\n",
              "  <tbody>\n",
              "    <tr>\n",
              "      <th>0</th>\n",
              "      <td>chevrolet</td>\n",
              "      <td>chevelle malibu</td>\n",
              "    </tr>\n",
              "    <tr>\n",
              "      <th>1</th>\n",
              "      <td>buick</td>\n",
              "      <td>skylark 320</td>\n",
              "    </tr>\n",
              "    <tr>\n",
              "      <th>2</th>\n",
              "      <td>plymouth</td>\n",
              "      <td>satellite</td>\n",
              "    </tr>\n",
              "    <tr>\n",
              "      <th>3</th>\n",
              "      <td>amc</td>\n",
              "      <td>rebel sst</td>\n",
              "    </tr>\n",
              "    <tr>\n",
              "      <th>4</th>\n",
              "      <td>ford</td>\n",
              "      <td>torino</td>\n",
              "    </tr>\n",
              "    <tr>\n",
              "      <th>...</th>\n",
              "      <td>...</td>\n",
              "      <td>...</td>\n",
              "    </tr>\n",
              "    <tr>\n",
              "      <th>393</th>\n",
              "      <td>ford</td>\n",
              "      <td>mustang gl</td>\n",
              "    </tr>\n",
              "    <tr>\n",
              "      <th>394</th>\n",
              "      <td>vw</td>\n",
              "      <td>pickup</td>\n",
              "    </tr>\n",
              "    <tr>\n",
              "      <th>395</th>\n",
              "      <td>dodge</td>\n",
              "      <td>rampage</td>\n",
              "    </tr>\n",
              "    <tr>\n",
              "      <th>396</th>\n",
              "      <td>ford</td>\n",
              "      <td>ranger</td>\n",
              "    </tr>\n",
              "    <tr>\n",
              "      <th>397</th>\n",
              "      <td>chevy</td>\n",
              "      <td>s-10</td>\n",
              "    </tr>\n",
              "  </tbody>\n",
              "</table>\n",
              "<p>398 rows × 2 columns</p>\n",
              "</div>"
            ],
            "text/plain": [
              "    manufacturer            model\n",
              "0      chevrolet  chevelle malibu\n",
              "1          buick      skylark 320\n",
              "2       plymouth        satellite\n",
              "3            amc        rebel sst\n",
              "4           ford           torino\n",
              "..           ...              ...\n",
              "393         ford       mustang gl\n",
              "394           vw           pickup\n",
              "395        dodge          rampage\n",
              "396         ford           ranger\n",
              "397        chevy             s-10\n",
              "\n",
              "[398 rows x 2 columns]"
            ]
          },
          "metadata": {
            "tags": []
          },
          "execution_count": 14
        }
      ]
    },
    {
      "cell_type": "code",
      "metadata": {
        "colab": {
          "base_uri": "https://localhost:8080/"
        },
        "id": "EK42wdzp2jTH",
        "outputId": "5c7546b7-61f0-4bd5-d707-6f2a361fc50a"
      },
      "source": [
        "mpg.groupby('manufacturer').groups['chevrolet']"
      ],
      "execution_count": 19,
      "outputs": [
        {
          "output_type": "execute_result",
          "data": {
            "text/plain": [
              "Int64Index([  0,   6,  12,  30,  35,  38,  46,  60,  62,  73,  87,  91,  98,\n",
              "            103, 109, 115, 128, 132, 133, 153, 157, 165, 187, 192, 195, 196,\n",
              "            221, 225, 230, 237, 253, 262, 266, 285, 291, 306, 311, 313, 341,\n",
              "            367, 368, 369, 392],\n",
              "           dtype='int64')"
            ]
          },
          "metadata": {
            "tags": []
          },
          "execution_count": 19
        }
      ]
    },
    {
      "cell_type": "code",
      "metadata": {
        "colab": {
          "base_uri": "https://localhost:8080/",
          "height": 235
        },
        "id": "I5kNpAbaMYMD",
        "outputId": "423e1c38-b4b7-4bd9-86f7-39b94333a019"
      },
      "source": [
        "# c.엔진의 실린더 갯수별 연비의 평균을 구하시오\n",
        "mpg.groupby('cylinders')[['mpg']].mean().round(3)"
      ],
      "execution_count": 18,
      "outputs": [
        {
          "output_type": "execute_result",
          "data": {
            "text/html": [
              "<div>\n",
              "<style scoped>\n",
              "    .dataframe tbody tr th:only-of-type {\n",
              "        vertical-align: middle;\n",
              "    }\n",
              "\n",
              "    .dataframe tbody tr th {\n",
              "        vertical-align: top;\n",
              "    }\n",
              "\n",
              "    .dataframe thead th {\n",
              "        text-align: right;\n",
              "    }\n",
              "</style>\n",
              "<table border=\"1\" class=\"dataframe\">\n",
              "  <thead>\n",
              "    <tr style=\"text-align: right;\">\n",
              "      <th></th>\n",
              "      <th>mpg</th>\n",
              "    </tr>\n",
              "    <tr>\n",
              "      <th>cylinders</th>\n",
              "      <th></th>\n",
              "    </tr>\n",
              "  </thead>\n",
              "  <tbody>\n",
              "    <tr>\n",
              "      <th>3</th>\n",
              "      <td>20.550</td>\n",
              "    </tr>\n",
              "    <tr>\n",
              "      <th>4</th>\n",
              "      <td>29.287</td>\n",
              "    </tr>\n",
              "    <tr>\n",
              "      <th>5</th>\n",
              "      <td>27.367</td>\n",
              "    </tr>\n",
              "    <tr>\n",
              "      <th>6</th>\n",
              "      <td>19.986</td>\n",
              "    </tr>\n",
              "    <tr>\n",
              "      <th>8</th>\n",
              "      <td>14.963</td>\n",
              "    </tr>\n",
              "  </tbody>\n",
              "</table>\n",
              "</div>"
            ],
            "text/plain": [
              "              mpg\n",
              "cylinders        \n",
              "3          20.550\n",
              "4          29.287\n",
              "5          27.367\n",
              "6          19.986\n",
              "8          14.963"
            ]
          },
          "metadata": {
            "tags": []
          },
          "execution_count": 18
        }
      ]
    },
    {
      "cell_type": "code",
      "metadata": {
        "colab": {
          "base_uri": "https://localhost:8080/",
          "height": 235
        },
        "id": "rAexwVAo29yP",
        "outputId": "64f2190e-4404-4c3a-be57-3750fc5b4e1c"
      },
      "source": [
        "mpg[['mpg','cylinders']].groupby('cylinders').mean().round(3)"
      ],
      "execution_count": 20,
      "outputs": [
        {
          "output_type": "execute_result",
          "data": {
            "text/html": [
              "<div>\n",
              "<style scoped>\n",
              "    .dataframe tbody tr th:only-of-type {\n",
              "        vertical-align: middle;\n",
              "    }\n",
              "\n",
              "    .dataframe tbody tr th {\n",
              "        vertical-align: top;\n",
              "    }\n",
              "\n",
              "    .dataframe thead th {\n",
              "        text-align: right;\n",
              "    }\n",
              "</style>\n",
              "<table border=\"1\" class=\"dataframe\">\n",
              "  <thead>\n",
              "    <tr style=\"text-align: right;\">\n",
              "      <th></th>\n",
              "      <th>mpg</th>\n",
              "    </tr>\n",
              "    <tr>\n",
              "      <th>cylinders</th>\n",
              "      <th></th>\n",
              "    </tr>\n",
              "  </thead>\n",
              "  <tbody>\n",
              "    <tr>\n",
              "      <th>3</th>\n",
              "      <td>20.550</td>\n",
              "    </tr>\n",
              "    <tr>\n",
              "      <th>4</th>\n",
              "      <td>29.287</td>\n",
              "    </tr>\n",
              "    <tr>\n",
              "      <th>5</th>\n",
              "      <td>27.367</td>\n",
              "    </tr>\n",
              "    <tr>\n",
              "      <th>6</th>\n",
              "      <td>19.986</td>\n",
              "    </tr>\n",
              "    <tr>\n",
              "      <th>8</th>\n",
              "      <td>14.963</td>\n",
              "    </tr>\n",
              "  </tbody>\n",
              "</table>\n",
              "</div>"
            ],
            "text/plain": [
              "              mpg\n",
              "cylinders        \n",
              "3          20.550\n",
              "4          29.287\n",
              "5          27.367\n",
              "6          19.986\n",
              "8          14.963"
            ]
          },
          "metadata": {
            "tags": []
          },
          "execution_count": 20
        }
      ]
    },
    {
      "cell_type": "code",
      "metadata": {
        "colab": {
          "base_uri": "https://localhost:8080/",
          "height": 235
        },
        "id": "veb5mgcv3MSt",
        "outputId": "25065b6f-4aed-44c9-da25-125a8d22315b"
      },
      "source": [
        "mpg.pivot_table(index='cylinders', values='mpg').round(3)"
      ],
      "execution_count": 23,
      "outputs": [
        {
          "output_type": "execute_result",
          "data": {
            "text/html": [
              "<div>\n",
              "<style scoped>\n",
              "    .dataframe tbody tr th:only-of-type {\n",
              "        vertical-align: middle;\n",
              "    }\n",
              "\n",
              "    .dataframe tbody tr th {\n",
              "        vertical-align: top;\n",
              "    }\n",
              "\n",
              "    .dataframe thead th {\n",
              "        text-align: right;\n",
              "    }\n",
              "</style>\n",
              "<table border=\"1\" class=\"dataframe\">\n",
              "  <thead>\n",
              "    <tr style=\"text-align: right;\">\n",
              "      <th></th>\n",
              "      <th>mpg</th>\n",
              "    </tr>\n",
              "    <tr>\n",
              "      <th>cylinders</th>\n",
              "      <th></th>\n",
              "    </tr>\n",
              "  </thead>\n",
              "  <tbody>\n",
              "    <tr>\n",
              "      <th>3</th>\n",
              "      <td>20.550</td>\n",
              "    </tr>\n",
              "    <tr>\n",
              "      <th>4</th>\n",
              "      <td>29.287</td>\n",
              "    </tr>\n",
              "    <tr>\n",
              "      <th>5</th>\n",
              "      <td>27.367</td>\n",
              "    </tr>\n",
              "    <tr>\n",
              "      <th>6</th>\n",
              "      <td>19.986</td>\n",
              "    </tr>\n",
              "    <tr>\n",
              "      <th>8</th>\n",
              "      <td>14.963</td>\n",
              "    </tr>\n",
              "  </tbody>\n",
              "</table>\n",
              "</div>"
            ],
            "text/plain": [
              "              mpg\n",
              "cylinders        \n",
              "3          20.550\n",
              "4          29.287\n",
              "5          27.367\n",
              "6          19.986\n",
              "8          14.963"
            ]
          },
          "metadata": {
            "tags": []
          },
          "execution_count": 23
        }
      ]
    },
    {
      "cell_type": "code",
      "metadata": {
        "colab": {
          "base_uri": "https://localhost:8080/"
        },
        "id": "vZLlXU8yMoYC",
        "outputId": "d34d847f-1f3f-4a4b-fdb5-e08faffb8271"
      },
      "source": [
        "# d.생산지별 배기량 대비 마력(hp_per_cc)의 평균을 구하시오\n",
        "mpg.groupby('origin')['hp_per_cc'].mean()"
      ],
      "execution_count": null,
      "outputs": [
        {
          "output_type": "execute_result",
          "data": {
            "text/plain": [
              "origin\n",
              "europe    0.740005\n",
              "japan     0.789485\n",
              "usa       0.512063\n",
              "Name: hp_per_cc, dtype: float64"
            ]
          },
          "metadata": {
            "tags": []
          },
          "execution_count": 38
        }
      ]
    },
    {
      "cell_type": "code",
      "metadata": {
        "colab": {
          "base_uri": "https://localhost:8080/"
        },
        "id": "hZGzbCSONM2Z",
        "outputId": "8ffda481-dba7-4a8e-eafd-eeafeb15d0cd"
      },
      "source": [
        "# e.모델이 5 개 이상인 제조사에 대하여 연비의 평균이 가장 좋은 제조사 Top 5 를 구하시오\n",
        "many_model_manufacturers = np.unique(mpg.manufacturer)[mpg.groupby('manufacturer')['model'].count()>5]\n",
        "\n",
        "mpg.groupby('manufacturer')['mpg'].mean().sort_values()[::-1]\n",
        "\n",
        "all_mpg = []\n",
        "for i in mpg.groupby('manufacturer')['mpg'].mean().sort_values()[::-1].index:\n",
        "    if i in many_model_manufacturers:\n",
        "        all_mpg.append(i)\n",
        "\n",
        "top5_mpg = all_mpg[:5]\n",
        "print(top5_mpg)"
      ],
      "execution_count": null,
      "outputs": [
        {
          "output_type": "stream",
          "text": [
            "['vw', 'honda', 'datsun', 'mazda', 'volkswagen']\n"
          ],
          "name": "stdout"
        }
      ]
    },
    {
      "cell_type": "code",
      "metadata": {
        "colab": {
          "base_uri": "https://localhost:8080/"
        },
        "id": "X3A0G0MiTvlk",
        "outputId": "03923096-edec-4c05-b40f-b172bc927f9a"
      },
      "source": [
        "# 붓꽃 종별로 꽃잎길이 sepal_length, 꽃잎폭 sepal_width 꽃받침길이 petal_length, 꽃받침폭 petal_width 의 평균 , 표준편차 등 기초통계량을 구하시오\n",
        "iris = sns.load_dataset('iris')\n",
        "iris.info()"
      ],
      "execution_count": null,
      "outputs": [
        {
          "output_type": "stream",
          "text": [
            "<class 'pandas.core.frame.DataFrame'>\n",
            "RangeIndex: 150 entries, 0 to 149\n",
            "Data columns (total 5 columns):\n",
            " #   Column        Non-Null Count  Dtype  \n",
            "---  ------        --------------  -----  \n",
            " 0   sepal_length  150 non-null    float64\n",
            " 1   sepal_width   150 non-null    float64\n",
            " 2   petal_length  150 non-null    float64\n",
            " 3   petal_width   150 non-null    float64\n",
            " 4   species       150 non-null    object \n",
            "dtypes: float64(4), object(1)\n",
            "memory usage: 6.0+ KB\n"
          ],
          "name": "stdout"
        }
      ]
    },
    {
      "cell_type": "code",
      "metadata": {
        "colab": {
          "base_uri": "https://localhost:8080/",
          "height": 205
        },
        "id": "opKg2wM2T683",
        "outputId": "416c1a8d-b1c1-4bad-fb21-44e782b80bb4"
      },
      "source": [
        "iris.groupby('species').agg([np.mean, np.std]).round(3)"
      ],
      "execution_count": null,
      "outputs": [
        {
          "output_type": "execute_result",
          "data": {
            "text/html": [
              "<div>\n",
              "<style scoped>\n",
              "    .dataframe tbody tr th:only-of-type {\n",
              "        vertical-align: middle;\n",
              "    }\n",
              "\n",
              "    .dataframe tbody tr th {\n",
              "        vertical-align: top;\n",
              "    }\n",
              "\n",
              "    .dataframe thead tr th {\n",
              "        text-align: left;\n",
              "    }\n",
              "\n",
              "    .dataframe thead tr:last-of-type th {\n",
              "        text-align: right;\n",
              "    }\n",
              "</style>\n",
              "<table border=\"1\" class=\"dataframe\">\n",
              "  <thead>\n",
              "    <tr>\n",
              "      <th></th>\n",
              "      <th colspan=\"2\" halign=\"left\">sepal_length</th>\n",
              "      <th colspan=\"2\" halign=\"left\">sepal_width</th>\n",
              "      <th colspan=\"2\" halign=\"left\">petal_length</th>\n",
              "      <th colspan=\"2\" halign=\"left\">petal_width</th>\n",
              "    </tr>\n",
              "    <tr>\n",
              "      <th></th>\n",
              "      <th>mean</th>\n",
              "      <th>std</th>\n",
              "      <th>mean</th>\n",
              "      <th>std</th>\n",
              "      <th>mean</th>\n",
              "      <th>std</th>\n",
              "      <th>mean</th>\n",
              "      <th>std</th>\n",
              "    </tr>\n",
              "    <tr>\n",
              "      <th>species</th>\n",
              "      <th></th>\n",
              "      <th></th>\n",
              "      <th></th>\n",
              "      <th></th>\n",
              "      <th></th>\n",
              "      <th></th>\n",
              "      <th></th>\n",
              "      <th></th>\n",
              "    </tr>\n",
              "  </thead>\n",
              "  <tbody>\n",
              "    <tr>\n",
              "      <th>setosa</th>\n",
              "      <td>5.006</td>\n",
              "      <td>0.352</td>\n",
              "      <td>3.428</td>\n",
              "      <td>0.379</td>\n",
              "      <td>1.462</td>\n",
              "      <td>0.174</td>\n",
              "      <td>0.246</td>\n",
              "      <td>0.105</td>\n",
              "    </tr>\n",
              "    <tr>\n",
              "      <th>versicolor</th>\n",
              "      <td>5.936</td>\n",
              "      <td>0.516</td>\n",
              "      <td>2.770</td>\n",
              "      <td>0.314</td>\n",
              "      <td>4.260</td>\n",
              "      <td>0.470</td>\n",
              "      <td>1.326</td>\n",
              "      <td>0.198</td>\n",
              "    </tr>\n",
              "    <tr>\n",
              "      <th>virginica</th>\n",
              "      <td>6.588</td>\n",
              "      <td>0.636</td>\n",
              "      <td>2.974</td>\n",
              "      <td>0.322</td>\n",
              "      <td>5.552</td>\n",
              "      <td>0.552</td>\n",
              "      <td>2.026</td>\n",
              "      <td>0.275</td>\n",
              "    </tr>\n",
              "  </tbody>\n",
              "</table>\n",
              "</div>"
            ],
            "text/plain": [
              "           sepal_length        sepal_width  ... petal_length petal_width       \n",
              "                   mean    std        mean  ...          std        mean    std\n",
              "species                                     ...                                \n",
              "setosa            5.006  0.352       3.428  ...        0.174       0.246  0.105\n",
              "versicolor        5.936  0.516       2.770  ...        0.470       1.326  0.198\n",
              "virginica         6.588  0.636       2.974  ...        0.552       2.026  0.275\n",
              "\n",
              "[3 rows x 8 columns]"
            ]
          },
          "metadata": {
            "tags": []
          },
          "execution_count": 70
        }
      ]
    },
    {
      "cell_type": "code",
      "metadata": {
        "id": "RBiFrm4LUCvL"
      },
      "source": [
        "# 3 분위수와 1 분위수의 차이보다 1.5 배가 크거나 작은 데이터는 이상치이다. 이 이상치를 제거하고 위의 4 가지 항목에 대해서 평균 , 표준편차를 구하시오\n",
        "\n",
        "species_percentile = iris.groupby('species').apply(np.percentile, q=[0,25,50,75,100])\n",
        "q1 = species_percentile.apply(lambda x : x[1])\n",
        "q3 = species_percentile.apply(lambda x : x[3])\n",
        "\n",
        "iris.loc[]\n",
        "\n",
        "\n"
      ],
      "execution_count": null,
      "outputs": []
    },
    {
      "cell_type": "code",
      "metadata": {
        "colab": {
          "base_uri": "https://localhost:8080/"
        },
        "id": "taAklr2MWBlS",
        "outputId": "06208498-99af-4bef-e8f6-b4e48ea78ca5"
      },
      "source": [
        "q1"
      ],
      "execution_count": null,
      "outputs": [
        {
          "output_type": "execute_result",
          "data": {
            "text/plain": [
              "species\n",
              "setosa        0.90\n",
              "versicolor    1.95\n",
              "virginica     2.50\n",
              "dtype: float64"
            ]
          },
          "metadata": {
            "tags": []
          },
          "execution_count": 74
        }
      ]
    },
    {
      "cell_type": "code",
      "metadata": {
        "colab": {
          "base_uri": "https://localhost:8080/",
          "height": 174
        },
        "id": "2Bi7SpHxXTU3",
        "outputId": "dd77abf2-eef6-4749-b648-328692297b7f"
      },
      "source": [
        "iris.groupby('species').mean()"
      ],
      "execution_count": null,
      "outputs": [
        {
          "output_type": "execute_result",
          "data": {
            "text/html": [
              "<div>\n",
              "<style scoped>\n",
              "    .dataframe tbody tr th:only-of-type {\n",
              "        vertical-align: middle;\n",
              "    }\n",
              "\n",
              "    .dataframe tbody tr th {\n",
              "        vertical-align: top;\n",
              "    }\n",
              "\n",
              "    .dataframe thead th {\n",
              "        text-align: right;\n",
              "    }\n",
              "</style>\n",
              "<table border=\"1\" class=\"dataframe\">\n",
              "  <thead>\n",
              "    <tr style=\"text-align: right;\">\n",
              "      <th></th>\n",
              "      <th>sepal_length</th>\n",
              "      <th>sepal_width</th>\n",
              "      <th>petal_length</th>\n",
              "      <th>petal_width</th>\n",
              "    </tr>\n",
              "    <tr>\n",
              "      <th>species</th>\n",
              "      <th></th>\n",
              "      <th></th>\n",
              "      <th></th>\n",
              "      <th></th>\n",
              "    </tr>\n",
              "  </thead>\n",
              "  <tbody>\n",
              "    <tr>\n",
              "      <th>setosa</th>\n",
              "      <td>5.006</td>\n",
              "      <td>3.428</td>\n",
              "      <td>1.462</td>\n",
              "      <td>0.246</td>\n",
              "    </tr>\n",
              "    <tr>\n",
              "      <th>versicolor</th>\n",
              "      <td>5.936</td>\n",
              "      <td>2.770</td>\n",
              "      <td>4.260</td>\n",
              "      <td>1.326</td>\n",
              "    </tr>\n",
              "    <tr>\n",
              "      <th>virginica</th>\n",
              "      <td>6.588</td>\n",
              "      <td>2.974</td>\n",
              "      <td>5.552</td>\n",
              "      <td>2.026</td>\n",
              "    </tr>\n",
              "  </tbody>\n",
              "</table>\n",
              "</div>"
            ],
            "text/plain": [
              "            sepal_length  sepal_width  petal_length  petal_width\n",
              "species                                                         \n",
              "setosa             5.006        3.428         1.462        0.246\n",
              "versicolor         5.936        2.770         4.260        1.326\n",
              "virginica          6.588        2.974         5.552        2.026"
            ]
          },
          "metadata": {
            "tags": []
          },
          "execution_count": 75
        }
      ]
    },
    {
      "cell_type": "code",
      "metadata": {
        "colab": {
          "base_uri": "https://localhost:8080/"
        },
        "id": "rlp_T4jWXYRj",
        "outputId": "3edcafbb-cebb-4e65-c079-aa3323b69be6"
      },
      "source": [
        "iris.groupby('species').apply(np.percentile, q=[0,25,50,75,100])"
      ],
      "execution_count": null,
      "outputs": [
        {
          "output_type": "execute_result",
          "data": {
            "text/plain": [
              "species\n",
              "setosa        [0.1, 0.9, 2.0999999999999996, 4.3249999999999...\n",
              "versicolor                           [1.0, 1.95, 3.3, 5.0, 7.0]\n",
              "virginica                          [1.4, 2.5, 4.15, 6.025, 7.9]\n",
              "dtype: object"
            ]
          },
          "metadata": {
            "tags": []
          },
          "execution_count": 79
        }
      ]
    },
    {
      "cell_type": "code",
      "metadata": {
        "id": "rP8-NBgIXmEd"
      },
      "source": [
        ""
      ],
      "execution_count": null,
      "outputs": []
    }
  ]
}