{
  "nbformat": 4,
  "nbformat_minor": 0,
  "metadata": {
    "colab": {
      "name": "연습.ipynb",
      "provenance": [],
      "collapsed_sections": []
    },
    "kernelspec": {
      "name": "python3",
      "display_name": "Python 3"
    },
    "language_info": {
      "name": "python"
    }
  },
  "cells": [
    {
      "cell_type": "code",
      "metadata": {
        "id": "9BIstpXGraAP"
      },
      "source": [
        "import numpy as np\n",
        "import pandas as pd\n",
        "import matplotlib.pyplot as plt\n",
        "import seaborn as sns\n",
        "\n",
        "import warnings\n",
        "warnings.filterwarnings('ignore')"
      ],
      "execution_count": 1,
      "outputs": []
    },
    {
      "cell_type": "code",
      "metadata": {
        "colab": {
          "base_uri": "https://localhost:8080/",
          "height": 174
        },
        "id": "Q3DagolXrtzY",
        "outputId": "4d8c6c15-4349-479b-eaa9-3654cb525c27"
      },
      "source": [
        "# 1. 2차원 표\n",
        "df = pd.DataFrame(data=np.arange(20).reshape(4,-1),\n",
        "                  index=list('abcd'), columns=list('vwxyz'))\n",
        "df"
      ],
      "execution_count": 3,
      "outputs": [
        {
          "output_type": "execute_result",
          "data": {
            "text/html": [
              "<div>\n",
              "<style scoped>\n",
              "    .dataframe tbody tr th:only-of-type {\n",
              "        vertical-align: middle;\n",
              "    }\n",
              "\n",
              "    .dataframe tbody tr th {\n",
              "        vertical-align: top;\n",
              "    }\n",
              "\n",
              "    .dataframe thead th {\n",
              "        text-align: right;\n",
              "    }\n",
              "</style>\n",
              "<table border=\"1\" class=\"dataframe\">\n",
              "  <thead>\n",
              "    <tr style=\"text-align: right;\">\n",
              "      <th></th>\n",
              "      <th>v</th>\n",
              "      <th>w</th>\n",
              "      <th>x</th>\n",
              "      <th>y</th>\n",
              "      <th>z</th>\n",
              "    </tr>\n",
              "  </thead>\n",
              "  <tbody>\n",
              "    <tr>\n",
              "      <th>a</th>\n",
              "      <td>0</td>\n",
              "      <td>1</td>\n",
              "      <td>2</td>\n",
              "      <td>3</td>\n",
              "      <td>4</td>\n",
              "    </tr>\n",
              "    <tr>\n",
              "      <th>b</th>\n",
              "      <td>5</td>\n",
              "      <td>6</td>\n",
              "      <td>7</td>\n",
              "      <td>8</td>\n",
              "      <td>9</td>\n",
              "    </tr>\n",
              "    <tr>\n",
              "      <th>c</th>\n",
              "      <td>10</td>\n",
              "      <td>11</td>\n",
              "      <td>12</td>\n",
              "      <td>13</td>\n",
              "      <td>14</td>\n",
              "    </tr>\n",
              "    <tr>\n",
              "      <th>d</th>\n",
              "      <td>15</td>\n",
              "      <td>16</td>\n",
              "      <td>17</td>\n",
              "      <td>18</td>\n",
              "      <td>19</td>\n",
              "    </tr>\n",
              "  </tbody>\n",
              "</table>\n",
              "</div>"
            ],
            "text/plain": [
              "    v   w   x   y   z\n",
              "a   0   1   2   3   4\n",
              "b   5   6   7   8   9\n",
              "c  10  11  12  13  14\n",
              "d  15  16  17  18  19"
            ]
          },
          "metadata": {
            "tags": []
          },
          "execution_count": 3
        }
      ]
    },
    {
      "cell_type": "code",
      "metadata": {
        "colab": {
          "base_uri": "https://localhost:8080/",
          "height": 143
        },
        "id": "Ev9YzyhHsU1y",
        "outputId": "6909d0a3-3a9f-42d6-9b29-a22fbb93dc5e"
      },
      "source": [
        "# 2. Dictionary list\n",
        "dl = [\n",
        "      {'name':'James', 'age':24, 'job':'student'}, \n",
        "      {'name':'Maria', 'age':36,'job':'teacher'},\n",
        "      {'name':'Bryan', 'age':30,'job':'programmer'}\n",
        "]\n",
        "df = pd.DataFrame(dl)\n",
        "df"
      ],
      "execution_count": 4,
      "outputs": [
        {
          "output_type": "execute_result",
          "data": {
            "text/html": [
              "<div>\n",
              "<style scoped>\n",
              "    .dataframe tbody tr th:only-of-type {\n",
              "        vertical-align: middle;\n",
              "    }\n",
              "\n",
              "    .dataframe tbody tr th {\n",
              "        vertical-align: top;\n",
              "    }\n",
              "\n",
              "    .dataframe thead th {\n",
              "        text-align: right;\n",
              "    }\n",
              "</style>\n",
              "<table border=\"1\" class=\"dataframe\">\n",
              "  <thead>\n",
              "    <tr style=\"text-align: right;\">\n",
              "      <th></th>\n",
              "      <th>name</th>\n",
              "      <th>age</th>\n",
              "      <th>job</th>\n",
              "    </tr>\n",
              "  </thead>\n",
              "  <tbody>\n",
              "    <tr>\n",
              "      <th>0</th>\n",
              "      <td>James</td>\n",
              "      <td>24</td>\n",
              "      <td>student</td>\n",
              "    </tr>\n",
              "    <tr>\n",
              "      <th>1</th>\n",
              "      <td>Maria</td>\n",
              "      <td>36</td>\n",
              "      <td>teacher</td>\n",
              "    </tr>\n",
              "    <tr>\n",
              "      <th>2</th>\n",
              "      <td>Bryan</td>\n",
              "      <td>30</td>\n",
              "      <td>programmer</td>\n",
              "    </tr>\n",
              "  </tbody>\n",
              "</table>\n",
              "</div>"
            ],
            "text/plain": [
              "    name  age         job\n",
              "0  James   24     student\n",
              "1  Maria   36     teacher\n",
              "2  Bryan   30  programmer"
            ]
          },
          "metadata": {
            "tags": []
          },
          "execution_count": 4
        }
      ]
    },
    {
      "cell_type": "code",
      "metadata": {
        "colab": {
          "base_uri": "https://localhost:8080/",
          "height": 143
        },
        "id": "u5sxUjWYtYD2",
        "outputId": "62c244fd-f7fb-4a0e-aac4-d9ae0d547ca9"
      },
      "source": [
        "# 3. 여러개의 리스트\n",
        "names = ['James', 'Maria', 'Bryan']\n",
        "age = [24, 36, 30]\n",
        "job = ['student', 'teacher', 'programmer']\n",
        "\n",
        "df = pd.DataFrame(dict(name=names, age=age, job=job))\n",
        "df"
      ],
      "execution_count": 5,
      "outputs": [
        {
          "output_type": "execute_result",
          "data": {
            "text/html": [
              "<div>\n",
              "<style scoped>\n",
              "    .dataframe tbody tr th:only-of-type {\n",
              "        vertical-align: middle;\n",
              "    }\n",
              "\n",
              "    .dataframe tbody tr th {\n",
              "        vertical-align: top;\n",
              "    }\n",
              "\n",
              "    .dataframe thead th {\n",
              "        text-align: right;\n",
              "    }\n",
              "</style>\n",
              "<table border=\"1\" class=\"dataframe\">\n",
              "  <thead>\n",
              "    <tr style=\"text-align: right;\">\n",
              "      <th></th>\n",
              "      <th>name</th>\n",
              "      <th>age</th>\n",
              "      <th>job</th>\n",
              "    </tr>\n",
              "  </thead>\n",
              "  <tbody>\n",
              "    <tr>\n",
              "      <th>0</th>\n",
              "      <td>James</td>\n",
              "      <td>24</td>\n",
              "      <td>student</td>\n",
              "    </tr>\n",
              "    <tr>\n",
              "      <th>1</th>\n",
              "      <td>Maria</td>\n",
              "      <td>36</td>\n",
              "      <td>teacher</td>\n",
              "    </tr>\n",
              "    <tr>\n",
              "      <th>2</th>\n",
              "      <td>Bryan</td>\n",
              "      <td>30</td>\n",
              "      <td>programmer</td>\n",
              "    </tr>\n",
              "  </tbody>\n",
              "</table>\n",
              "</div>"
            ],
            "text/plain": [
              "    name  age         job\n",
              "0  James   24     student\n",
              "1  Maria   36     teacher\n",
              "2  Bryan   30  programmer"
            ]
          },
          "metadata": {
            "tags": []
          },
          "execution_count": 5
        }
      ]
    },
    {
      "cell_type": "code",
      "metadata": {
        "colab": {
          "base_uri": "https://localhost:8080/"
        },
        "id": "TuWD4Fmpuf9f",
        "outputId": "248cb8c9-a7f5-4c6a-8c36-386830e4331f"
      },
      "source": [
        "james_dict = dl[0]\n",
        "maria_dict = dl[1]\n",
        "bryan_dict = dl[2]\n",
        "\n",
        "for d in dl:\n",
        "    for key, value in d.items():\n",
        "        print(key, value)\n",
        "    print()"
      ],
      "execution_count": 9,
      "outputs": [
        {
          "output_type": "stream",
          "text": [
            "name James\n",
            "age 24\n",
            "job student\n",
            "\n",
            "name Maria\n",
            "age 36\n",
            "job teacher\n",
            "\n",
            "name Bryan\n",
            "age 30\n",
            "job programmer\n",
            "\n"
          ],
          "name": "stdout"
        }
      ]
    },
    {
      "cell_type": "code",
      "metadata": {
        "colab": {
          "base_uri": "https://localhost:8080/"
        },
        "id": "P5d0_0qCxJ6H",
        "outputId": "6580887d-7c3f-46c4-9973-eff178b2b854"
      },
      "source": [
        "df = pd.DataFrame()\n",
        "for d in dl:\n",
        "    for i, (key, value) in enumerate(d.items()):\n",
        "        print(i, key, value)\n",
        "    print()"
      ],
      "execution_count": 11,
      "outputs": [
        {
          "output_type": "stream",
          "text": [
            "0 name James\n",
            "1 age 24\n",
            "2 job student\n",
            "\n",
            "0 name Maria\n",
            "1 age 36\n",
            "2 job teacher\n",
            "\n",
            "0 name Bryan\n",
            "1 age 30\n",
            "2 job programmer\n",
            "\n"
          ],
          "name": "stdout"
        }
      ]
    },
    {
      "cell_type": "code",
      "metadata": {
        "colab": {
          "base_uri": "https://localhost:8080/",
          "height": 143
        },
        "id": "gVG78fBHvbjM",
        "outputId": "63acd409-25ae-4262-d600-2fbf0f486358"
      },
      "source": [
        "df = pd.DataFrame()\n",
        "for d in dl:\n",
        "    for i, (key, value) in enumerate(d.items()):\n",
        "        df.loc[i, key] = value \n",
        "df"
      ],
      "execution_count": 10,
      "outputs": [
        {
          "output_type": "execute_result",
          "data": {
            "text/html": [
              "<div>\n",
              "<style scoped>\n",
              "    .dataframe tbody tr th:only-of-type {\n",
              "        vertical-align: middle;\n",
              "    }\n",
              "\n",
              "    .dataframe tbody tr th {\n",
              "        vertical-align: top;\n",
              "    }\n",
              "\n",
              "    .dataframe thead th {\n",
              "        text-align: right;\n",
              "    }\n",
              "</style>\n",
              "<table border=\"1\" class=\"dataframe\">\n",
              "  <thead>\n",
              "    <tr style=\"text-align: right;\">\n",
              "      <th></th>\n",
              "      <th>name</th>\n",
              "      <th>age</th>\n",
              "      <th>job</th>\n",
              "    </tr>\n",
              "  </thead>\n",
              "  <tbody>\n",
              "    <tr>\n",
              "      <th>0</th>\n",
              "      <td>Bryan</td>\n",
              "      <td>NaN</td>\n",
              "      <td>NaN</td>\n",
              "    </tr>\n",
              "    <tr>\n",
              "      <th>1</th>\n",
              "      <td>NaN</td>\n",
              "      <td>30.0</td>\n",
              "      <td>NaN</td>\n",
              "    </tr>\n",
              "    <tr>\n",
              "      <th>2</th>\n",
              "      <td>NaN</td>\n",
              "      <td>NaN</td>\n",
              "      <td>programmer</td>\n",
              "    </tr>\n",
              "  </tbody>\n",
              "</table>\n",
              "</div>"
            ],
            "text/plain": [
              "    name   age         job\n",
              "0  Bryan   NaN         NaN\n",
              "1    NaN  30.0         NaN\n",
              "2    NaN   NaN  programmer"
            ]
          },
          "metadata": {
            "tags": []
          },
          "execution_count": 10
        }
      ]
    },
    {
      "cell_type": "code",
      "metadata": {
        "colab": {
          "base_uri": "https://localhost:8080/",
          "height": 32
        },
        "id": "aeHJUYWzwQQk",
        "outputId": "8d982870-3e41-4ec3-eabd-dac9a06ac9b2"
      },
      "source": [
        "df = pd.DataFrame()\n",
        "for d in dl:\n",
        "    df.append(d, ignore_index=True)\n",
        "df"
      ],
      "execution_count": 14,
      "outputs": [
        {
          "output_type": "execute_result",
          "data": {
            "text/html": [
              "<div>\n",
              "<style scoped>\n",
              "    .dataframe tbody tr th:only-of-type {\n",
              "        vertical-align: middle;\n",
              "    }\n",
              "\n",
              "    .dataframe tbody tr th {\n",
              "        vertical-align: top;\n",
              "    }\n",
              "\n",
              "    .dataframe thead th {\n",
              "        text-align: right;\n",
              "    }\n",
              "</style>\n",
              "<table border=\"1\" class=\"dataframe\">\n",
              "  <thead>\n",
              "    <tr style=\"text-align: right;\">\n",
              "      <th></th>\n",
              "    </tr>\n",
              "  </thead>\n",
              "  <tbody>\n",
              "  </tbody>\n",
              "</table>\n",
              "</div>"
            ],
            "text/plain": [
              "Empty DataFrame\n",
              "Columns: []\n",
              "Index: []"
            ]
          },
          "metadata": {
            "tags": []
          },
          "execution_count": 14
        }
      ]
    },
    {
      "cell_type": "markdown",
      "metadata": {
        "id": "-ijtdWCYyh73"
      },
      "source": [
        "## 아리리스"
      ]
    },
    {
      "cell_type": "code",
      "metadata": {
        "colab": {
          "base_uri": "https://localhost:8080/"
        },
        "id": "pD6h2fkNxvmP",
        "outputId": "f3e95a19-bdb0-40ab-bf8f-1e77886fbc83"
      },
      "source": [
        "iris = sns.load_dataset('iris')\n",
        "iris.info()"
      ],
      "execution_count": 17,
      "outputs": [
        {
          "output_type": "stream",
          "text": [
            "<class 'pandas.core.frame.DataFrame'>\n",
            "RangeIndex: 150 entries, 0 to 149\n",
            "Data columns (total 5 columns):\n",
            " #   Column        Non-Null Count  Dtype  \n",
            "---  ------        --------------  -----  \n",
            " 0   sepal_length  150 non-null    float64\n",
            " 1   sepal_width   150 non-null    float64\n",
            " 2   petal_length  150 non-null    float64\n",
            " 3   petal_width   150 non-null    float64\n",
            " 4   species       150 non-null    object \n",
            "dtypes: float64(4), object(1)\n",
            "memory usage: 6.0+ KB\n"
          ],
          "name": "stdout"
        }
      ]
    },
    {
      "cell_type": "code",
      "metadata": {
        "colab": {
          "base_uri": "https://localhost:8080/"
        },
        "id": "HHRAGllPyA1Y",
        "outputId": "644c3fd5-1083-4da2-a0cf-7bc893a3f4b0"
      },
      "source": [
        "iris.species.value_counts()"
      ],
      "execution_count": 19,
      "outputs": [
        {
          "output_type": "execute_result",
          "data": {
            "text/plain": [
              "setosa        50\n",
              "versicolor    50\n",
              "virginica     50\n",
              "Name: species, dtype: int64"
            ]
          },
          "metadata": {
            "tags": []
          },
          "execution_count": 19
        }
      ]
    },
    {
      "cell_type": "code",
      "metadata": {
        "colab": {
          "base_uri": "https://localhost:8080/",
          "height": 143
        },
        "id": "iE8n9b6Tysp0",
        "outputId": "5a17049d-fa3b-4fa8-9e6e-9e7bf27e9951"
      },
      "source": [
        "species, count = np.unique(iris.species, return_counts=True)\n",
        "pd.DataFrame(zip(species, count))"
      ],
      "execution_count": 21,
      "outputs": [
        {
          "output_type": "execute_result",
          "data": {
            "text/html": [
              "<div>\n",
              "<style scoped>\n",
              "    .dataframe tbody tr th:only-of-type {\n",
              "        vertical-align: middle;\n",
              "    }\n",
              "\n",
              "    .dataframe tbody tr th {\n",
              "        vertical-align: top;\n",
              "    }\n",
              "\n",
              "    .dataframe thead th {\n",
              "        text-align: right;\n",
              "    }\n",
              "</style>\n",
              "<table border=\"1\" class=\"dataframe\">\n",
              "  <thead>\n",
              "    <tr style=\"text-align: right;\">\n",
              "      <th></th>\n",
              "      <th>0</th>\n",
              "      <th>1</th>\n",
              "    </tr>\n",
              "  </thead>\n",
              "  <tbody>\n",
              "    <tr>\n",
              "      <th>0</th>\n",
              "      <td>setosa</td>\n",
              "      <td>50</td>\n",
              "    </tr>\n",
              "    <tr>\n",
              "      <th>1</th>\n",
              "      <td>versicolor</td>\n",
              "      <td>50</td>\n",
              "    </tr>\n",
              "    <tr>\n",
              "      <th>2</th>\n",
              "      <td>virginica</td>\n",
              "      <td>50</td>\n",
              "    </tr>\n",
              "  </tbody>\n",
              "</table>\n",
              "</div>"
            ],
            "text/plain": [
              "            0   1\n",
              "0      setosa  50\n",
              "1  versicolor  50\n",
              "2   virginica  50"
            ]
          },
          "metadata": {
            "tags": []
          },
          "execution_count": 21
        }
      ]
    },
    {
      "cell_type": "markdown",
      "metadata": {
        "id": "6EX_fw0CzOwO"
      },
      "source": [
        "- species, feature mean, std"
      ]
    },
    {
      "cell_type": "code",
      "metadata": {
        "colab": {
          "base_uri": "https://localhost:8080/",
          "height": 205
        },
        "id": "021jZmPcyxBr",
        "outputId": "7aa748e9-0a52-4ea4-9b8d-3eb65c41eae0"
      },
      "source": [
        "iris.head()"
      ],
      "execution_count": 22,
      "outputs": [
        {
          "output_type": "execute_result",
          "data": {
            "text/html": [
              "<div>\n",
              "<style scoped>\n",
              "    .dataframe tbody tr th:only-of-type {\n",
              "        vertical-align: middle;\n",
              "    }\n",
              "\n",
              "    .dataframe tbody tr th {\n",
              "        vertical-align: top;\n",
              "    }\n",
              "\n",
              "    .dataframe thead th {\n",
              "        text-align: right;\n",
              "    }\n",
              "</style>\n",
              "<table border=\"1\" class=\"dataframe\">\n",
              "  <thead>\n",
              "    <tr style=\"text-align: right;\">\n",
              "      <th></th>\n",
              "      <th>sepal_length</th>\n",
              "      <th>sepal_width</th>\n",
              "      <th>petal_length</th>\n",
              "      <th>petal_width</th>\n",
              "      <th>species</th>\n",
              "    </tr>\n",
              "  </thead>\n",
              "  <tbody>\n",
              "    <tr>\n",
              "      <th>0</th>\n",
              "      <td>5.1</td>\n",
              "      <td>3.5</td>\n",
              "      <td>1.4</td>\n",
              "      <td>0.2</td>\n",
              "      <td>setosa</td>\n",
              "    </tr>\n",
              "    <tr>\n",
              "      <th>1</th>\n",
              "      <td>4.9</td>\n",
              "      <td>3.0</td>\n",
              "      <td>1.4</td>\n",
              "      <td>0.2</td>\n",
              "      <td>setosa</td>\n",
              "    </tr>\n",
              "    <tr>\n",
              "      <th>2</th>\n",
              "      <td>4.7</td>\n",
              "      <td>3.2</td>\n",
              "      <td>1.3</td>\n",
              "      <td>0.2</td>\n",
              "      <td>setosa</td>\n",
              "    </tr>\n",
              "    <tr>\n",
              "      <th>3</th>\n",
              "      <td>4.6</td>\n",
              "      <td>3.1</td>\n",
              "      <td>1.5</td>\n",
              "      <td>0.2</td>\n",
              "      <td>setosa</td>\n",
              "    </tr>\n",
              "    <tr>\n",
              "      <th>4</th>\n",
              "      <td>5.0</td>\n",
              "      <td>3.6</td>\n",
              "      <td>1.4</td>\n",
              "      <td>0.2</td>\n",
              "      <td>setosa</td>\n",
              "    </tr>\n",
              "  </tbody>\n",
              "</table>\n",
              "</div>"
            ],
            "text/plain": [
              "   sepal_length  sepal_width  petal_length  petal_width species\n",
              "0           5.1          3.5           1.4          0.2  setosa\n",
              "1           4.9          3.0           1.4          0.2  setosa\n",
              "2           4.7          3.2           1.3          0.2  setosa\n",
              "3           4.6          3.1           1.5          0.2  setosa\n",
              "4           5.0          3.6           1.4          0.2  setosa"
            ]
          },
          "metadata": {
            "tags": []
          },
          "execution_count": 22
        }
      ]
    },
    {
      "cell_type": "code",
      "metadata": {
        "colab": {
          "base_uri": "https://localhost:8080/",
          "height": 205
        },
        "id": "hzMQM3b0zd8r",
        "outputId": "d853f260-5330-4a61-ca68-e6c688c11eb2"
      },
      "source": [
        "iris.groupby('species')[['sepal_length']].agg([np.mean, np.std])"
      ],
      "execution_count": 26,
      "outputs": [
        {
          "output_type": "execute_result",
          "data": {
            "text/html": [
              "<div>\n",
              "<style scoped>\n",
              "    .dataframe tbody tr th:only-of-type {\n",
              "        vertical-align: middle;\n",
              "    }\n",
              "\n",
              "    .dataframe tbody tr th {\n",
              "        vertical-align: top;\n",
              "    }\n",
              "\n",
              "    .dataframe thead tr th {\n",
              "        text-align: left;\n",
              "    }\n",
              "\n",
              "    .dataframe thead tr:last-of-type th {\n",
              "        text-align: right;\n",
              "    }\n",
              "</style>\n",
              "<table border=\"1\" class=\"dataframe\">\n",
              "  <thead>\n",
              "    <tr>\n",
              "      <th></th>\n",
              "      <th colspan=\"2\" halign=\"left\">sepal_length</th>\n",
              "    </tr>\n",
              "    <tr>\n",
              "      <th></th>\n",
              "      <th>mean</th>\n",
              "      <th>std</th>\n",
              "    </tr>\n",
              "    <tr>\n",
              "      <th>species</th>\n",
              "      <th></th>\n",
              "      <th></th>\n",
              "    </tr>\n",
              "  </thead>\n",
              "  <tbody>\n",
              "    <tr>\n",
              "      <th>setosa</th>\n",
              "      <td>5.006</td>\n",
              "      <td>0.352490</td>\n",
              "    </tr>\n",
              "    <tr>\n",
              "      <th>versicolor</th>\n",
              "      <td>5.936</td>\n",
              "      <td>0.516171</td>\n",
              "    </tr>\n",
              "    <tr>\n",
              "      <th>virginica</th>\n",
              "      <td>6.588</td>\n",
              "      <td>0.635880</td>\n",
              "    </tr>\n",
              "  </tbody>\n",
              "</table>\n",
              "</div>"
            ],
            "text/plain": [
              "           sepal_length          \n",
              "                   mean       std\n",
              "species                          \n",
              "setosa            5.006  0.352490\n",
              "versicolor        5.936  0.516171\n",
              "virginica         6.588  0.635880"
            ]
          },
          "metadata": {
            "tags": []
          },
          "execution_count": 26
        }
      ]
    },
    {
      "cell_type": "code",
      "metadata": {
        "colab": {
          "base_uri": "https://localhost:8080/",
          "height": 423
        },
        "id": "3s4QKJcg0fek",
        "outputId": "fd49a985-2830-4b32-e67d-8737c84c4d64"
      },
      "source": [
        "iris_melt = pd.melt(iris, id_vars=['species'], value_vars=['sepal_length','sepal_width','petal_length', 'petal_width'])\n",
        "iris_mean_std = iris_melt.groupby(['species', 'variable']).agg([np.mean, np.std]).reset_index().rename(columns={'variable':'feature'})\n",
        "iris_mean_std = iris_mean_std.droplevel(-1, axis=1)\n",
        "iris_mean_std.columns = ['species','feature','mean', 'std']\n",
        "iris_mean_std"
      ],
      "execution_count": 50,
      "outputs": [
        {
          "output_type": "execute_result",
          "data": {
            "text/html": [
              "<div>\n",
              "<style scoped>\n",
              "    .dataframe tbody tr th:only-of-type {\n",
              "        vertical-align: middle;\n",
              "    }\n",
              "\n",
              "    .dataframe tbody tr th {\n",
              "        vertical-align: top;\n",
              "    }\n",
              "\n",
              "    .dataframe thead th {\n",
              "        text-align: right;\n",
              "    }\n",
              "</style>\n",
              "<table border=\"1\" class=\"dataframe\">\n",
              "  <thead>\n",
              "    <tr style=\"text-align: right;\">\n",
              "      <th></th>\n",
              "      <th>species</th>\n",
              "      <th>feature</th>\n",
              "      <th>mean</th>\n",
              "      <th>std</th>\n",
              "    </tr>\n",
              "  </thead>\n",
              "  <tbody>\n",
              "    <tr>\n",
              "      <th>0</th>\n",
              "      <td>setosa</td>\n",
              "      <td>petal_length</td>\n",
              "      <td>1.462</td>\n",
              "      <td>0.173664</td>\n",
              "    </tr>\n",
              "    <tr>\n",
              "      <th>1</th>\n",
              "      <td>setosa</td>\n",
              "      <td>petal_width</td>\n",
              "      <td>0.246</td>\n",
              "      <td>0.105386</td>\n",
              "    </tr>\n",
              "    <tr>\n",
              "      <th>2</th>\n",
              "      <td>setosa</td>\n",
              "      <td>sepal_length</td>\n",
              "      <td>5.006</td>\n",
              "      <td>0.352490</td>\n",
              "    </tr>\n",
              "    <tr>\n",
              "      <th>3</th>\n",
              "      <td>setosa</td>\n",
              "      <td>sepal_width</td>\n",
              "      <td>3.428</td>\n",
              "      <td>0.379064</td>\n",
              "    </tr>\n",
              "    <tr>\n",
              "      <th>4</th>\n",
              "      <td>versicolor</td>\n",
              "      <td>petal_length</td>\n",
              "      <td>4.260</td>\n",
              "      <td>0.469911</td>\n",
              "    </tr>\n",
              "    <tr>\n",
              "      <th>5</th>\n",
              "      <td>versicolor</td>\n",
              "      <td>petal_width</td>\n",
              "      <td>1.326</td>\n",
              "      <td>0.197753</td>\n",
              "    </tr>\n",
              "    <tr>\n",
              "      <th>6</th>\n",
              "      <td>versicolor</td>\n",
              "      <td>sepal_length</td>\n",
              "      <td>5.936</td>\n",
              "      <td>0.516171</td>\n",
              "    </tr>\n",
              "    <tr>\n",
              "      <th>7</th>\n",
              "      <td>versicolor</td>\n",
              "      <td>sepal_width</td>\n",
              "      <td>2.770</td>\n",
              "      <td>0.313798</td>\n",
              "    </tr>\n",
              "    <tr>\n",
              "      <th>8</th>\n",
              "      <td>virginica</td>\n",
              "      <td>petal_length</td>\n",
              "      <td>5.552</td>\n",
              "      <td>0.551895</td>\n",
              "    </tr>\n",
              "    <tr>\n",
              "      <th>9</th>\n",
              "      <td>virginica</td>\n",
              "      <td>petal_width</td>\n",
              "      <td>2.026</td>\n",
              "      <td>0.274650</td>\n",
              "    </tr>\n",
              "    <tr>\n",
              "      <th>10</th>\n",
              "      <td>virginica</td>\n",
              "      <td>sepal_length</td>\n",
              "      <td>6.588</td>\n",
              "      <td>0.635880</td>\n",
              "    </tr>\n",
              "    <tr>\n",
              "      <th>11</th>\n",
              "      <td>virginica</td>\n",
              "      <td>sepal_width</td>\n",
              "      <td>2.974</td>\n",
              "      <td>0.322497</td>\n",
              "    </tr>\n",
              "  </tbody>\n",
              "</table>\n",
              "</div>"
            ],
            "text/plain": [
              "       species       feature   mean       std\n",
              "0       setosa  petal_length  1.462  0.173664\n",
              "1       setosa   petal_width  0.246  0.105386\n",
              "2       setosa  sepal_length  5.006  0.352490\n",
              "3       setosa   sepal_width  3.428  0.379064\n",
              "4   versicolor  petal_length  4.260  0.469911\n",
              "5   versicolor   petal_width  1.326  0.197753\n",
              "6   versicolor  sepal_length  5.936  0.516171\n",
              "7   versicolor   sepal_width  2.770  0.313798\n",
              "8    virginica  petal_length  5.552  0.551895\n",
              "9    virginica   petal_width  2.026  0.274650\n",
              "10   virginica  sepal_length  6.588  0.635880\n",
              "11   virginica   sepal_width  2.974  0.322497"
            ]
          },
          "metadata": {
            "tags": []
          },
          "execution_count": 50
        }
      ]
    },
    {
      "cell_type": "code",
      "metadata": {
        "colab": {
          "base_uri": "https://localhost:8080/"
        },
        "id": "XKN_TBzg0bpz",
        "outputId": "a0163a7e-02f7-4a45-bba2-d18f2c42e562"
      },
      "source": [
        "iris_mean_std.columns"
      ],
      "execution_count": 45,
      "outputs": [
        {
          "output_type": "execute_result",
          "data": {
            "text/plain": [
              "MultiIndex([('species',     ''),\n",
              "            ('feature',     ''),\n",
              "            (  'value', 'mean'),\n",
              "            (  'value',  'std')],\n",
              "           )"
            ]
          },
          "metadata": {
            "tags": []
          },
          "execution_count": 45
        }
      ]
    },
    {
      "cell_type": "code",
      "metadata": {
        "colab": {
          "base_uri": "https://localhost:8080/",
          "height": 423
        },
        "id": "yKnlPjBD27pm",
        "outputId": "4084dc04-9eb7-4fb3-e279-d18ea5c50039"
      },
      "source": [
        "iris_mean_std.droplevel(-1, axis=1)"
      ],
      "execution_count": 49,
      "outputs": [
        {
          "output_type": "execute_result",
          "data": {
            "text/html": [
              "<div>\n",
              "<style scoped>\n",
              "    .dataframe tbody tr th:only-of-type {\n",
              "        vertical-align: middle;\n",
              "    }\n",
              "\n",
              "    .dataframe tbody tr th {\n",
              "        vertical-align: top;\n",
              "    }\n",
              "\n",
              "    .dataframe thead th {\n",
              "        text-align: right;\n",
              "    }\n",
              "</style>\n",
              "<table border=\"1\" class=\"dataframe\">\n",
              "  <thead>\n",
              "    <tr style=\"text-align: right;\">\n",
              "      <th></th>\n",
              "      <th></th>\n",
              "      <th></th>\n",
              "      <th>mean</th>\n",
              "      <th>std</th>\n",
              "    </tr>\n",
              "  </thead>\n",
              "  <tbody>\n",
              "    <tr>\n",
              "      <th>0</th>\n",
              "      <td>setosa</td>\n",
              "      <td>petal_length</td>\n",
              "      <td>1.462</td>\n",
              "      <td>0.173664</td>\n",
              "    </tr>\n",
              "    <tr>\n",
              "      <th>1</th>\n",
              "      <td>setosa</td>\n",
              "      <td>petal_width</td>\n",
              "      <td>0.246</td>\n",
              "      <td>0.105386</td>\n",
              "    </tr>\n",
              "    <tr>\n",
              "      <th>2</th>\n",
              "      <td>setosa</td>\n",
              "      <td>sepal_length</td>\n",
              "      <td>5.006</td>\n",
              "      <td>0.352490</td>\n",
              "    </tr>\n",
              "    <tr>\n",
              "      <th>3</th>\n",
              "      <td>setosa</td>\n",
              "      <td>sepal_width</td>\n",
              "      <td>3.428</td>\n",
              "      <td>0.379064</td>\n",
              "    </tr>\n",
              "    <tr>\n",
              "      <th>4</th>\n",
              "      <td>versicolor</td>\n",
              "      <td>petal_length</td>\n",
              "      <td>4.260</td>\n",
              "      <td>0.469911</td>\n",
              "    </tr>\n",
              "    <tr>\n",
              "      <th>5</th>\n",
              "      <td>versicolor</td>\n",
              "      <td>petal_width</td>\n",
              "      <td>1.326</td>\n",
              "      <td>0.197753</td>\n",
              "    </tr>\n",
              "    <tr>\n",
              "      <th>6</th>\n",
              "      <td>versicolor</td>\n",
              "      <td>sepal_length</td>\n",
              "      <td>5.936</td>\n",
              "      <td>0.516171</td>\n",
              "    </tr>\n",
              "    <tr>\n",
              "      <th>7</th>\n",
              "      <td>versicolor</td>\n",
              "      <td>sepal_width</td>\n",
              "      <td>2.770</td>\n",
              "      <td>0.313798</td>\n",
              "    </tr>\n",
              "    <tr>\n",
              "      <th>8</th>\n",
              "      <td>virginica</td>\n",
              "      <td>petal_length</td>\n",
              "      <td>5.552</td>\n",
              "      <td>0.551895</td>\n",
              "    </tr>\n",
              "    <tr>\n",
              "      <th>9</th>\n",
              "      <td>virginica</td>\n",
              "      <td>petal_width</td>\n",
              "      <td>2.026</td>\n",
              "      <td>0.274650</td>\n",
              "    </tr>\n",
              "    <tr>\n",
              "      <th>10</th>\n",
              "      <td>virginica</td>\n",
              "      <td>sepal_length</td>\n",
              "      <td>6.588</td>\n",
              "      <td>0.635880</td>\n",
              "    </tr>\n",
              "    <tr>\n",
              "      <th>11</th>\n",
              "      <td>virginica</td>\n",
              "      <td>sepal_width</td>\n",
              "      <td>2.974</td>\n",
              "      <td>0.322497</td>\n",
              "    </tr>\n",
              "  </tbody>\n",
              "</table>\n",
              "</div>"
            ],
            "text/plain": [
              "                               mean       std\n",
              "0       setosa  petal_length  1.462  0.173664\n",
              "1       setosa   petal_width  0.246  0.105386\n",
              "2       setosa  sepal_length  5.006  0.352490\n",
              "3       setosa   sepal_width  3.428  0.379064\n",
              "4   versicolor  petal_length  4.260  0.469911\n",
              "5   versicolor   petal_width  1.326  0.197753\n",
              "6   versicolor  sepal_length  5.936  0.516171\n",
              "7   versicolor   sepal_width  2.770  0.313798\n",
              "8    virginica  petal_length  5.552  0.551895\n",
              "9    virginica   petal_width  2.026  0.274650\n",
              "10   virginica  sepal_length  6.588  0.635880\n",
              "11   virginica   sepal_width  2.974  0.322497"
            ]
          },
          "metadata": {
            "tags": []
          },
          "execution_count": 49
        }
      ]
    },
    {
      "cell_type": "code",
      "metadata": {
        "colab": {
          "base_uri": "https://localhost:8080/",
          "height": 486
        },
        "id": "nuCNczT32SSA",
        "outputId": "289dc49d-8e91-46c6-9701-8a177f702d22"
      },
      "source": [
        "iris_mean_std"
      ],
      "execution_count": 38,
      "outputs": [
        {
          "output_type": "execute_result",
          "data": {
            "text/html": [
              "<div>\n",
              "<style scoped>\n",
              "    .dataframe tbody tr th:only-of-type {\n",
              "        vertical-align: middle;\n",
              "    }\n",
              "\n",
              "    .dataframe tbody tr th {\n",
              "        vertical-align: top;\n",
              "    }\n",
              "\n",
              "    .dataframe thead tr th {\n",
              "        text-align: left;\n",
              "    }\n",
              "\n",
              "    .dataframe thead tr:last-of-type th {\n",
              "        text-align: right;\n",
              "    }\n",
              "</style>\n",
              "<table border=\"1\" class=\"dataframe\">\n",
              "  <thead>\n",
              "    <tr>\n",
              "      <th></th>\n",
              "      <th></th>\n",
              "      <th colspan=\"2\" halign=\"left\">value</th>\n",
              "    </tr>\n",
              "    <tr>\n",
              "      <th></th>\n",
              "      <th></th>\n",
              "      <th>mean</th>\n",
              "      <th>std</th>\n",
              "    </tr>\n",
              "    <tr>\n",
              "      <th>species</th>\n",
              "      <th>variable</th>\n",
              "      <th></th>\n",
              "      <th></th>\n",
              "    </tr>\n",
              "  </thead>\n",
              "  <tbody>\n",
              "    <tr>\n",
              "      <th rowspan=\"4\" valign=\"top\">setosa</th>\n",
              "      <th>petal_length</th>\n",
              "      <td>1.462</td>\n",
              "      <td>0.173664</td>\n",
              "    </tr>\n",
              "    <tr>\n",
              "      <th>petal_width</th>\n",
              "      <td>0.246</td>\n",
              "      <td>0.105386</td>\n",
              "    </tr>\n",
              "    <tr>\n",
              "      <th>sepal_length</th>\n",
              "      <td>5.006</td>\n",
              "      <td>0.352490</td>\n",
              "    </tr>\n",
              "    <tr>\n",
              "      <th>sepal_width</th>\n",
              "      <td>3.428</td>\n",
              "      <td>0.379064</td>\n",
              "    </tr>\n",
              "    <tr>\n",
              "      <th rowspan=\"4\" valign=\"top\">versicolor</th>\n",
              "      <th>petal_length</th>\n",
              "      <td>4.260</td>\n",
              "      <td>0.469911</td>\n",
              "    </tr>\n",
              "    <tr>\n",
              "      <th>petal_width</th>\n",
              "      <td>1.326</td>\n",
              "      <td>0.197753</td>\n",
              "    </tr>\n",
              "    <tr>\n",
              "      <th>sepal_length</th>\n",
              "      <td>5.936</td>\n",
              "      <td>0.516171</td>\n",
              "    </tr>\n",
              "    <tr>\n",
              "      <th>sepal_width</th>\n",
              "      <td>2.770</td>\n",
              "      <td>0.313798</td>\n",
              "    </tr>\n",
              "    <tr>\n",
              "      <th rowspan=\"4\" valign=\"top\">virginica</th>\n",
              "      <th>petal_length</th>\n",
              "      <td>5.552</td>\n",
              "      <td>0.551895</td>\n",
              "    </tr>\n",
              "    <tr>\n",
              "      <th>petal_width</th>\n",
              "      <td>2.026</td>\n",
              "      <td>0.274650</td>\n",
              "    </tr>\n",
              "    <tr>\n",
              "      <th>sepal_length</th>\n",
              "      <td>6.588</td>\n",
              "      <td>0.635880</td>\n",
              "    </tr>\n",
              "    <tr>\n",
              "      <th>sepal_width</th>\n",
              "      <td>2.974</td>\n",
              "      <td>0.322497</td>\n",
              "    </tr>\n",
              "  </tbody>\n",
              "</table>\n",
              "</div>"
            ],
            "text/plain": [
              "                         value          \n",
              "                          mean       std\n",
              "species    variable                     \n",
              "setosa     petal_length  1.462  0.173664\n",
              "           petal_width   0.246  0.105386\n",
              "           sepal_length  5.006  0.352490\n",
              "           sepal_width   3.428  0.379064\n",
              "versicolor petal_length  4.260  0.469911\n",
              "           petal_width   1.326  0.197753\n",
              "           sepal_length  5.936  0.516171\n",
              "           sepal_width   2.770  0.313798\n",
              "virginica  petal_length  5.552  0.551895\n",
              "           petal_width   2.026  0.274650\n",
              "           sepal_length  6.588  0.635880\n",
              "           sepal_width   2.974  0.322497"
            ]
          },
          "metadata": {
            "tags": []
          },
          "execution_count": 38
        }
      ]
    },
    {
      "cell_type": "code",
      "metadata": {
        "colab": {
          "base_uri": "https://localhost:8080/"
        },
        "id": "KJiUsgwW22oU",
        "outputId": "73f71f29-43b7-4e45-dd33-8e01b942eaaf"
      },
      "source": [
        "iris.info()"
      ],
      "execution_count": 51,
      "outputs": [
        {
          "output_type": "stream",
          "text": [
            "<class 'pandas.core.frame.DataFrame'>\n",
            "RangeIndex: 150 entries, 0 to 149\n",
            "Data columns (total 5 columns):\n",
            " #   Column        Non-Null Count  Dtype  \n",
            "---  ------        --------------  -----  \n",
            " 0   sepal_length  150 non-null    float64\n",
            " 1   sepal_width   150 non-null    float64\n",
            " 2   petal_length  150 non-null    float64\n",
            " 3   petal_width   150 non-null    float64\n",
            " 4   species       150 non-null    object \n",
            "dtypes: float64(4), object(1)\n",
            "memory usage: 6.0+ KB\n"
          ],
          "name": "stdout"
        }
      ]
    },
    {
      "cell_type": "code",
      "metadata": {
        "id": "IMK4pQSa45ZL"
      },
      "source": [
        "species_list, feature_list ,mean_list, std_list = [],[],[],[]\n",
        "\n",
        "for species in iris.species.unique():\n",
        "    for feature in iris.columns[:-1]:\n",
        "        s = iris[iris.species==species][feature]\n",
        "        species_list.append(species)\n",
        "        feature_list.append(feature)\n",
        "        mean_list.append(np.round(s.mean(), 2))\n",
        "        std_list.append(np.round(s.std(), 4))"
      ],
      "execution_count": 57,
      "outputs": []
    },
    {
      "cell_type": "code",
      "metadata": {
        "colab": {
          "base_uri": "https://localhost:8080/",
          "height": 423
        },
        "id": "8uFVhsMU6jIl",
        "outputId": "dc0450bc-8c1a-4aa1-a572-5c05f63abb95"
      },
      "source": [
        "df = pd.DataFrame(dict(species=species_list, feature=feature_list, mean=mean_list, std=std_list))\n",
        "df"
      ],
      "execution_count": 58,
      "outputs": [
        {
          "output_type": "execute_result",
          "data": {
            "text/html": [
              "<div>\n",
              "<style scoped>\n",
              "    .dataframe tbody tr th:only-of-type {\n",
              "        vertical-align: middle;\n",
              "    }\n",
              "\n",
              "    .dataframe tbody tr th {\n",
              "        vertical-align: top;\n",
              "    }\n",
              "\n",
              "    .dataframe thead th {\n",
              "        text-align: right;\n",
              "    }\n",
              "</style>\n",
              "<table border=\"1\" class=\"dataframe\">\n",
              "  <thead>\n",
              "    <tr style=\"text-align: right;\">\n",
              "      <th></th>\n",
              "      <th>species</th>\n",
              "      <th>feature</th>\n",
              "      <th>mean</th>\n",
              "      <th>std</th>\n",
              "    </tr>\n",
              "  </thead>\n",
              "  <tbody>\n",
              "    <tr>\n",
              "      <th>0</th>\n",
              "      <td>setosa</td>\n",
              "      <td>sepal_length</td>\n",
              "      <td>5.01</td>\n",
              "      <td>0.3525</td>\n",
              "    </tr>\n",
              "    <tr>\n",
              "      <th>1</th>\n",
              "      <td>setosa</td>\n",
              "      <td>sepal_width</td>\n",
              "      <td>3.43</td>\n",
              "      <td>0.3791</td>\n",
              "    </tr>\n",
              "    <tr>\n",
              "      <th>2</th>\n",
              "      <td>setosa</td>\n",
              "      <td>petal_length</td>\n",
              "      <td>1.46</td>\n",
              "      <td>0.1737</td>\n",
              "    </tr>\n",
              "    <tr>\n",
              "      <th>3</th>\n",
              "      <td>setosa</td>\n",
              "      <td>petal_width</td>\n",
              "      <td>0.25</td>\n",
              "      <td>0.1054</td>\n",
              "    </tr>\n",
              "    <tr>\n",
              "      <th>4</th>\n",
              "      <td>versicolor</td>\n",
              "      <td>sepal_length</td>\n",
              "      <td>5.94</td>\n",
              "      <td>0.5162</td>\n",
              "    </tr>\n",
              "    <tr>\n",
              "      <th>5</th>\n",
              "      <td>versicolor</td>\n",
              "      <td>sepal_width</td>\n",
              "      <td>2.77</td>\n",
              "      <td>0.3138</td>\n",
              "    </tr>\n",
              "    <tr>\n",
              "      <th>6</th>\n",
              "      <td>versicolor</td>\n",
              "      <td>petal_length</td>\n",
              "      <td>4.26</td>\n",
              "      <td>0.4699</td>\n",
              "    </tr>\n",
              "    <tr>\n",
              "      <th>7</th>\n",
              "      <td>versicolor</td>\n",
              "      <td>petal_width</td>\n",
              "      <td>1.33</td>\n",
              "      <td>0.1978</td>\n",
              "    </tr>\n",
              "    <tr>\n",
              "      <th>8</th>\n",
              "      <td>virginica</td>\n",
              "      <td>sepal_length</td>\n",
              "      <td>6.59</td>\n",
              "      <td>0.6359</td>\n",
              "    </tr>\n",
              "    <tr>\n",
              "      <th>9</th>\n",
              "      <td>virginica</td>\n",
              "      <td>sepal_width</td>\n",
              "      <td>2.97</td>\n",
              "      <td>0.3225</td>\n",
              "    </tr>\n",
              "    <tr>\n",
              "      <th>10</th>\n",
              "      <td>virginica</td>\n",
              "      <td>petal_length</td>\n",
              "      <td>5.55</td>\n",
              "      <td>0.5519</td>\n",
              "    </tr>\n",
              "    <tr>\n",
              "      <th>11</th>\n",
              "      <td>virginica</td>\n",
              "      <td>petal_width</td>\n",
              "      <td>2.03</td>\n",
              "      <td>0.2747</td>\n",
              "    </tr>\n",
              "  </tbody>\n",
              "</table>\n",
              "</div>"
            ],
            "text/plain": [
              "       species       feature  mean     std\n",
              "0       setosa  sepal_length  5.01  0.3525\n",
              "1       setosa   sepal_width  3.43  0.3791\n",
              "2       setosa  petal_length  1.46  0.1737\n",
              "3       setosa   petal_width  0.25  0.1054\n",
              "4   versicolor  sepal_length  5.94  0.5162\n",
              "5   versicolor   sepal_width  2.77  0.3138\n",
              "6   versicolor  petal_length  4.26  0.4699\n",
              "7   versicolor   petal_width  1.33  0.1978\n",
              "8    virginica  sepal_length  6.59  0.6359\n",
              "9    virginica   sepal_width  2.97  0.3225\n",
              "10   virginica  petal_length  5.55  0.5519\n",
              "11   virginica   petal_width  2.03  0.2747"
            ]
          },
          "metadata": {
            "tags": []
          },
          "execution_count": 58
        }
      ]
    },
    {
      "cell_type": "code",
      "metadata": {
        "colab": {
          "base_uri": "https://localhost:8080/",
          "height": 455
        },
        "id": "gUdnfuys69K-",
        "outputId": "a5b69b5f-2a08-49cd-98a5-ac419569e049"
      },
      "source": [
        "df.set_index(['species', 'feature'], inplace=True)\n",
        "df"
      ],
      "execution_count": 59,
      "outputs": [
        {
          "output_type": "execute_result",
          "data": {
            "text/html": [
              "<div>\n",
              "<style scoped>\n",
              "    .dataframe tbody tr th:only-of-type {\n",
              "        vertical-align: middle;\n",
              "    }\n",
              "\n",
              "    .dataframe tbody tr th {\n",
              "        vertical-align: top;\n",
              "    }\n",
              "\n",
              "    .dataframe thead th {\n",
              "        text-align: right;\n",
              "    }\n",
              "</style>\n",
              "<table border=\"1\" class=\"dataframe\">\n",
              "  <thead>\n",
              "    <tr style=\"text-align: right;\">\n",
              "      <th></th>\n",
              "      <th></th>\n",
              "      <th>mean</th>\n",
              "      <th>std</th>\n",
              "    </tr>\n",
              "    <tr>\n",
              "      <th>species</th>\n",
              "      <th>feature</th>\n",
              "      <th></th>\n",
              "      <th></th>\n",
              "    </tr>\n",
              "  </thead>\n",
              "  <tbody>\n",
              "    <tr>\n",
              "      <th rowspan=\"4\" valign=\"top\">setosa</th>\n",
              "      <th>sepal_length</th>\n",
              "      <td>5.01</td>\n",
              "      <td>0.3525</td>\n",
              "    </tr>\n",
              "    <tr>\n",
              "      <th>sepal_width</th>\n",
              "      <td>3.43</td>\n",
              "      <td>0.3791</td>\n",
              "    </tr>\n",
              "    <tr>\n",
              "      <th>petal_length</th>\n",
              "      <td>1.46</td>\n",
              "      <td>0.1737</td>\n",
              "    </tr>\n",
              "    <tr>\n",
              "      <th>petal_width</th>\n",
              "      <td>0.25</td>\n",
              "      <td>0.1054</td>\n",
              "    </tr>\n",
              "    <tr>\n",
              "      <th rowspan=\"4\" valign=\"top\">versicolor</th>\n",
              "      <th>sepal_length</th>\n",
              "      <td>5.94</td>\n",
              "      <td>0.5162</td>\n",
              "    </tr>\n",
              "    <tr>\n",
              "      <th>sepal_width</th>\n",
              "      <td>2.77</td>\n",
              "      <td>0.3138</td>\n",
              "    </tr>\n",
              "    <tr>\n",
              "      <th>petal_length</th>\n",
              "      <td>4.26</td>\n",
              "      <td>0.4699</td>\n",
              "    </tr>\n",
              "    <tr>\n",
              "      <th>petal_width</th>\n",
              "      <td>1.33</td>\n",
              "      <td>0.1978</td>\n",
              "    </tr>\n",
              "    <tr>\n",
              "      <th rowspan=\"4\" valign=\"top\">virginica</th>\n",
              "      <th>sepal_length</th>\n",
              "      <td>6.59</td>\n",
              "      <td>0.6359</td>\n",
              "    </tr>\n",
              "    <tr>\n",
              "      <th>sepal_width</th>\n",
              "      <td>2.97</td>\n",
              "      <td>0.3225</td>\n",
              "    </tr>\n",
              "    <tr>\n",
              "      <th>petal_length</th>\n",
              "      <td>5.55</td>\n",
              "      <td>0.5519</td>\n",
              "    </tr>\n",
              "    <tr>\n",
              "      <th>petal_width</th>\n",
              "      <td>2.03</td>\n",
              "      <td>0.2747</td>\n",
              "    </tr>\n",
              "  </tbody>\n",
              "</table>\n",
              "</div>"
            ],
            "text/plain": [
              "                         mean     std\n",
              "species    feature                   \n",
              "setosa     sepal_length  5.01  0.3525\n",
              "           sepal_width   3.43  0.3791\n",
              "           petal_length  1.46  0.1737\n",
              "           petal_width   0.25  0.1054\n",
              "versicolor sepal_length  5.94  0.5162\n",
              "           sepal_width   2.77  0.3138\n",
              "           petal_length  4.26  0.4699\n",
              "           petal_width   1.33  0.1978\n",
              "virginica  sepal_length  6.59  0.6359\n",
              "           sepal_width   2.97  0.3225\n",
              "           petal_length  5.55  0.5519\n",
              "           petal_width   2.03  0.2747"
            ]
          },
          "metadata": {
            "tags": []
          },
          "execution_count": 59
        }
      ]
    },
    {
      "cell_type": "code",
      "metadata": {
        "id": "AYKAztwA7u4f"
      },
      "source": [
        ""
      ],
      "execution_count": null,
      "outputs": []
    }
  ]
}