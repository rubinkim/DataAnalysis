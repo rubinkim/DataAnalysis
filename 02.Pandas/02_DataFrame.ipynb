{
  "nbformat": 4,
  "nbformat_minor": 0,
  "metadata": {
    "colab": {
      "name": "02_DataFrame.ipynb",
      "provenance": [],
      "collapsed_sections": []
    },
    "kernelspec": {
      "name": "python3",
      "display_name": "Python 3"
    },
    "language_info": {
      "name": "python"
    }
  },
  "cells": [
    {
      "cell_type": "markdown",
      "metadata": {
        "id": "HLJPU6Y65mTU"
      },
      "source": [
        "# DataFrame class"
      ]
    },
    {
      "cell_type": "code",
      "metadata": {
        "id": "fcPIe1PH5heu"
      },
      "source": [
        "import numpy as np\n",
        "import pandas as pd\n",
        "import matplotlib.pyplot as plt"
      ],
      "execution_count": 1,
      "outputs": []
    },
    {
      "cell_type": "markdown",
      "metadata": {
        "id": "OMP_Z7LE5yxk"
      },
      "source": [
        "## 생성"
      ]
    },
    {
      "cell_type": "code",
      "metadata": {
        "colab": {
          "base_uri": "https://localhost:8080/",
          "height": 173
        },
        "id": "CHqddfiA5w2e",
        "outputId": "2e1f9d87-8f43-4efd-acdb-3f66fdf9c840"
      },
      "source": [
        "data = {    \n",
        "    \"지역\": [\"수도권\", \"경상권\", \"수도권\", \"경상권\"],\n",
        "    \"2000\": [9853972, 3655437, 2466338, 2473990],\n",
        "    \"2005\": [9762546, 3512547, 2517680, 2456016],\n",
        "    \"2010\": [9631482, 3393191, 2632035, 2431774],\n",
        "    \"2015\": [9904312, 3448737, 2890451, 2466052],\n",
        "    \"2010-2015 증가율\": [0.0283, 0.0163, 0.0982, 0.0141]\n",
        "}\n",
        "index = [\"서울\", \"부산\", \"인천\", \"대구\"]\n",
        "df = pd.DataFrame(data, index=index)\n",
        "df"
      ],
      "execution_count": 6,
      "outputs": [
        {
          "output_type": "execute_result",
          "data": {
            "text/html": [
              "<div>\n",
              "<style scoped>\n",
              "    .dataframe tbody tr th:only-of-type {\n",
              "        vertical-align: middle;\n",
              "    }\n",
              "\n",
              "    .dataframe tbody tr th {\n",
              "        vertical-align: top;\n",
              "    }\n",
              "\n",
              "    .dataframe thead th {\n",
              "        text-align: right;\n",
              "    }\n",
              "</style>\n",
              "<table border=\"1\" class=\"dataframe\">\n",
              "  <thead>\n",
              "    <tr style=\"text-align: right;\">\n",
              "      <th></th>\n",
              "      <th>지역</th>\n",
              "      <th>2000</th>\n",
              "      <th>2005</th>\n",
              "      <th>2010</th>\n",
              "      <th>2015</th>\n",
              "      <th>2010-2015 증가율</th>\n",
              "    </tr>\n",
              "  </thead>\n",
              "  <tbody>\n",
              "    <tr>\n",
              "      <th>서울</th>\n",
              "      <td>수도권</td>\n",
              "      <td>9853972</td>\n",
              "      <td>9762546</td>\n",
              "      <td>9631482</td>\n",
              "      <td>9904312</td>\n",
              "      <td>0.0283</td>\n",
              "    </tr>\n",
              "    <tr>\n",
              "      <th>부산</th>\n",
              "      <td>경상권</td>\n",
              "      <td>3655437</td>\n",
              "      <td>3512547</td>\n",
              "      <td>3393191</td>\n",
              "      <td>3448737</td>\n",
              "      <td>0.0163</td>\n",
              "    </tr>\n",
              "    <tr>\n",
              "      <th>인천</th>\n",
              "      <td>수도권</td>\n",
              "      <td>2466338</td>\n",
              "      <td>2517680</td>\n",
              "      <td>2632035</td>\n",
              "      <td>2890451</td>\n",
              "      <td>0.0982</td>\n",
              "    </tr>\n",
              "    <tr>\n",
              "      <th>대구</th>\n",
              "      <td>경상권</td>\n",
              "      <td>2473990</td>\n",
              "      <td>2456016</td>\n",
              "      <td>2431774</td>\n",
              "      <td>2466052</td>\n",
              "      <td>0.0141</td>\n",
              "    </tr>\n",
              "  </tbody>\n",
              "</table>\n",
              "</div>"
            ],
            "text/plain": [
              "     지역     2000     2005     2010     2015  2010-2015 증가율\n",
              "서울  수도권  9853972  9762546  9631482  9904312         0.0283\n",
              "부산  경상권  3655437  3512547  3393191  3448737         0.0163\n",
              "인천  수도권  2466338  2517680  2632035  2890451         0.0982\n",
              "대구  경상권  2473990  2456016  2431774  2466052         0.0141"
            ]
          },
          "metadata": {
            "tags": []
          },
          "execution_count": 6
        }
      ]
    },
    {
      "cell_type": "code",
      "metadata": {
        "colab": {
          "base_uri": "https://localhost:8080/",
          "height": 173
        },
        "id": "_G1jDGmB8oYc",
        "outputId": "f925dc75-4f31-41ee-91b4-a382f60ec98a"
      },
      "source": [
        "data = [[\"수도권\", \"경상권\", \"수도권\", \"경상권\"], [9853972, 3655437, 2466338, 2473990], [9762546, 3512547, 2517680, 2456016],\n",
        "        [9631482, 3393191, 2632035, 2431774], [9904312, 3448737, 2890451, 2466052], [0.0283, 0.0163, 0.0982, 0.0141]]\n",
        "index = ['지역', '2000', '2005', '2010', '2015', '2010-2015 증가율']\n",
        "columns = ['서울', '부산', '인천', '대구']\n",
        "df_new = pd.DataFrame(data = data, columns=columns, index=index)\n",
        "df_new = df_new.T\n",
        "df_new"
      ],
      "execution_count": 13,
      "outputs": [
        {
          "output_type": "execute_result",
          "data": {
            "text/html": [
              "<div>\n",
              "<style scoped>\n",
              "    .dataframe tbody tr th:only-of-type {\n",
              "        vertical-align: middle;\n",
              "    }\n",
              "\n",
              "    .dataframe tbody tr th {\n",
              "        vertical-align: top;\n",
              "    }\n",
              "\n",
              "    .dataframe thead th {\n",
              "        text-align: right;\n",
              "    }\n",
              "</style>\n",
              "<table border=\"1\" class=\"dataframe\">\n",
              "  <thead>\n",
              "    <tr style=\"text-align: right;\">\n",
              "      <th></th>\n",
              "      <th>지역</th>\n",
              "      <th>2000</th>\n",
              "      <th>2005</th>\n",
              "      <th>2010</th>\n",
              "      <th>2015</th>\n",
              "      <th>2010-2015 증가율</th>\n",
              "    </tr>\n",
              "  </thead>\n",
              "  <tbody>\n",
              "    <tr>\n",
              "      <th>서울</th>\n",
              "      <td>수도권</td>\n",
              "      <td>9853972</td>\n",
              "      <td>9762546</td>\n",
              "      <td>9631482</td>\n",
              "      <td>9904312</td>\n",
              "      <td>0.0283</td>\n",
              "    </tr>\n",
              "    <tr>\n",
              "      <th>부산</th>\n",
              "      <td>경상권</td>\n",
              "      <td>3655437</td>\n",
              "      <td>3512547</td>\n",
              "      <td>3393191</td>\n",
              "      <td>3448737</td>\n",
              "      <td>0.0163</td>\n",
              "    </tr>\n",
              "    <tr>\n",
              "      <th>인천</th>\n",
              "      <td>수도권</td>\n",
              "      <td>2466338</td>\n",
              "      <td>2517680</td>\n",
              "      <td>2632035</td>\n",
              "      <td>2890451</td>\n",
              "      <td>0.0982</td>\n",
              "    </tr>\n",
              "    <tr>\n",
              "      <th>대구</th>\n",
              "      <td>경상권</td>\n",
              "      <td>2473990</td>\n",
              "      <td>2456016</td>\n",
              "      <td>2431774</td>\n",
              "      <td>2466052</td>\n",
              "      <td>0.0141</td>\n",
              "    </tr>\n",
              "  </tbody>\n",
              "</table>\n",
              "</div>"
            ],
            "text/plain": [
              "     지역     2000     2005     2010     2015 2010-2015 증가율\n",
              "서울  수도권  9853972  9762546  9631482  9904312        0.0283\n",
              "부산  경상권  3655437  3512547  3393191  3448737        0.0163\n",
              "인천  수도권  2466338  2517680  2632035  2890451        0.0982\n",
              "대구  경상권  2473990  2456016  2431774  2466052        0.0141"
            ]
          },
          "metadata": {
            "tags": []
          },
          "execution_count": 13
        }
      ]
    },
    {
      "cell_type": "code",
      "metadata": {
        "id": "TZTtSD9Z-6QR"
      },
      "source": [
        ""
      ],
      "execution_count": null,
      "outputs": []
    }
  ]
}