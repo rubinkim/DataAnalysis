{
  "nbformat": 4,
  "nbformat_minor": 0,
  "metadata": {
    "colab": {
      "name": "06_인덱스조작.ipynb",
      "provenance": [],
      "collapsed_sections": []
    },
    "kernelspec": {
      "name": "python3",
      "display_name": "Python 3"
    },
    "language_info": {
      "name": "python"
    }
  },
  "cells": [
    {
      "cell_type": "markdown",
      "metadata": {
        "id": "2ic4aYipOl8N"
      },
      "source": [
        "# 데이터프레임의 인데스 조작"
      ]
    },
    {
      "cell_type": "markdown",
      "metadata": {
        "id": "NhwrFmMUOr9E"
      },
      "source": [
        "## 인덱스 설정 및 제거"
      ]
    },
    {
      "cell_type": "code",
      "metadata": {
        "id": "ZJisEQEXOgfp"
      },
      "source": [
        "import numpy as np\n",
        "import pandas as pd\n",
        "import matplotlib.pyplot as plt"
      ],
      "execution_count": 1,
      "outputs": []
    },
    {
      "cell_type": "markdown",
      "metadata": {
        "id": "D9RUCMo-P48K"
      },
      "source": [
        "## 인데스 설정 및 제거"
      ]
    },
    {
      "cell_type": "code",
      "metadata": {
        "colab": {
          "base_uri": "https://localhost:8080/",
          "height": 204
        },
        "id": "QW69ZbL_P162",
        "outputId": "63a403ac-10ae-441a-be2b-6bc6dd5f8500"
      },
      "source": [
        "np.random.seed(2021)\n",
        "np.random.seed(0)\n",
        "df1 = pd.DataFrame(np.vstack([list('ABCDE'), np.round(np.random.rand(3, 5), 2)]).T, columns=[\"C1\", \"C2\", \"C3\", \"C4\"])\n",
        "df1"
      ],
      "execution_count": 5,
      "outputs": [
        {
          "output_type": "execute_result",
          "data": {
            "text/html": [
              "<div>\n",
              "<style scoped>\n",
              "    .dataframe tbody tr th:only-of-type {\n",
              "        vertical-align: middle;\n",
              "    }\n",
              "\n",
              "    .dataframe tbody tr th {\n",
              "        vertical-align: top;\n",
              "    }\n",
              "\n",
              "    .dataframe thead th {\n",
              "        text-align: right;\n",
              "    }\n",
              "</style>\n",
              "<table border=\"1\" class=\"dataframe\">\n",
              "  <thead>\n",
              "    <tr style=\"text-align: right;\">\n",
              "      <th></th>\n",
              "      <th>C1</th>\n",
              "      <th>C2</th>\n",
              "      <th>C3</th>\n",
              "      <th>C4</th>\n",
              "    </tr>\n",
              "  </thead>\n",
              "  <tbody>\n",
              "    <tr>\n",
              "      <th>0</th>\n",
              "      <td>A</td>\n",
              "      <td>0.55</td>\n",
              "      <td>0.65</td>\n",
              "      <td>0.79</td>\n",
              "    </tr>\n",
              "    <tr>\n",
              "      <th>1</th>\n",
              "      <td>B</td>\n",
              "      <td>0.72</td>\n",
              "      <td>0.44</td>\n",
              "      <td>0.53</td>\n",
              "    </tr>\n",
              "    <tr>\n",
              "      <th>2</th>\n",
              "      <td>C</td>\n",
              "      <td>0.6</td>\n",
              "      <td>0.89</td>\n",
              "      <td>0.57</td>\n",
              "    </tr>\n",
              "    <tr>\n",
              "      <th>3</th>\n",
              "      <td>D</td>\n",
              "      <td>0.54</td>\n",
              "      <td>0.96</td>\n",
              "      <td>0.93</td>\n",
              "    </tr>\n",
              "    <tr>\n",
              "      <th>4</th>\n",
              "      <td>E</td>\n",
              "      <td>0.42</td>\n",
              "      <td>0.38</td>\n",
              "      <td>0.07</td>\n",
              "    </tr>\n",
              "  </tbody>\n",
              "</table>\n",
              "</div>"
            ],
            "text/plain": [
              "  C1    C2    C3    C4\n",
              "0  A  0.55  0.65  0.79\n",
              "1  B  0.72  0.44  0.53\n",
              "2  C   0.6  0.89  0.57\n",
              "3  D  0.54  0.96  0.93\n",
              "4  E  0.42  0.38  0.07"
            ]
          },
          "metadata": {
            "tags": []
          },
          "execution_count": 5
        }
      ]
    },
    {
      "cell_type": "code",
      "metadata": {
        "colab": {
          "base_uri": "https://localhost:8080/",
          "height": 235
        },
        "id": "ksiJPRZkQFA8",
        "outputId": "01485d40-7244-48b1-9919-6765605a6d00"
      },
      "source": [
        "df2 = df1.set_index('C1', inplace=False)\n",
        "df2"
      ],
      "execution_count": 9,
      "outputs": [
        {
          "output_type": "execute_result",
          "data": {
            "text/html": [
              "<div>\n",
              "<style scoped>\n",
              "    .dataframe tbody tr th:only-of-type {\n",
              "        vertical-align: middle;\n",
              "    }\n",
              "\n",
              "    .dataframe tbody tr th {\n",
              "        vertical-align: top;\n",
              "    }\n",
              "\n",
              "    .dataframe thead th {\n",
              "        text-align: right;\n",
              "    }\n",
              "</style>\n",
              "<table border=\"1\" class=\"dataframe\">\n",
              "  <thead>\n",
              "    <tr style=\"text-align: right;\">\n",
              "      <th></th>\n",
              "      <th>C2</th>\n",
              "      <th>C3</th>\n",
              "      <th>C4</th>\n",
              "    </tr>\n",
              "    <tr>\n",
              "      <th>C1</th>\n",
              "      <th></th>\n",
              "      <th></th>\n",
              "      <th></th>\n",
              "    </tr>\n",
              "  </thead>\n",
              "  <tbody>\n",
              "    <tr>\n",
              "      <th>A</th>\n",
              "      <td>0.55</td>\n",
              "      <td>0.65</td>\n",
              "      <td>0.79</td>\n",
              "    </tr>\n",
              "    <tr>\n",
              "      <th>B</th>\n",
              "      <td>0.72</td>\n",
              "      <td>0.44</td>\n",
              "      <td>0.53</td>\n",
              "    </tr>\n",
              "    <tr>\n",
              "      <th>C</th>\n",
              "      <td>0.6</td>\n",
              "      <td>0.89</td>\n",
              "      <td>0.57</td>\n",
              "    </tr>\n",
              "    <tr>\n",
              "      <th>D</th>\n",
              "      <td>0.54</td>\n",
              "      <td>0.96</td>\n",
              "      <td>0.93</td>\n",
              "    </tr>\n",
              "    <tr>\n",
              "      <th>E</th>\n",
              "      <td>0.42</td>\n",
              "      <td>0.38</td>\n",
              "      <td>0.07</td>\n",
              "    </tr>\n",
              "  </tbody>\n",
              "</table>\n",
              "</div>"
            ],
            "text/plain": [
              "      C2    C3    C4\n",
              "C1                  \n",
              "A   0.55  0.65  0.79\n",
              "B   0.72  0.44  0.53\n",
              "C    0.6  0.89  0.57\n",
              "D   0.54  0.96  0.93\n",
              "E   0.42  0.38  0.07"
            ]
          },
          "metadata": {
            "tags": []
          },
          "execution_count": 9
        }
      ]
    },
    {
      "cell_type": "code",
      "metadata": {
        "colab": {
          "base_uri": "https://localhost:8080/",
          "height": 204
        },
        "id": "GR73k0Z6QofN",
        "outputId": "931e41b0-2b0e-4b77-a366-48275dd6039f"
      },
      "source": [
        "df2.reset_index(drop=False, inplace=True)\n",
        "df2"
      ],
      "execution_count": 10,
      "outputs": [
        {
          "output_type": "execute_result",
          "data": {
            "text/html": [
              "<div>\n",
              "<style scoped>\n",
              "    .dataframe tbody tr th:only-of-type {\n",
              "        vertical-align: middle;\n",
              "    }\n",
              "\n",
              "    .dataframe tbody tr th {\n",
              "        vertical-align: top;\n",
              "    }\n",
              "\n",
              "    .dataframe thead th {\n",
              "        text-align: right;\n",
              "    }\n",
              "</style>\n",
              "<table border=\"1\" class=\"dataframe\">\n",
              "  <thead>\n",
              "    <tr style=\"text-align: right;\">\n",
              "      <th></th>\n",
              "      <th>C1</th>\n",
              "      <th>C2</th>\n",
              "      <th>C3</th>\n",
              "      <th>C4</th>\n",
              "    </tr>\n",
              "  </thead>\n",
              "  <tbody>\n",
              "    <tr>\n",
              "      <th>0</th>\n",
              "      <td>A</td>\n",
              "      <td>0.55</td>\n",
              "      <td>0.65</td>\n",
              "      <td>0.79</td>\n",
              "    </tr>\n",
              "    <tr>\n",
              "      <th>1</th>\n",
              "      <td>B</td>\n",
              "      <td>0.72</td>\n",
              "      <td>0.44</td>\n",
              "      <td>0.53</td>\n",
              "    </tr>\n",
              "    <tr>\n",
              "      <th>2</th>\n",
              "      <td>C</td>\n",
              "      <td>0.6</td>\n",
              "      <td>0.89</td>\n",
              "      <td>0.57</td>\n",
              "    </tr>\n",
              "    <tr>\n",
              "      <th>3</th>\n",
              "      <td>D</td>\n",
              "      <td>0.54</td>\n",
              "      <td>0.96</td>\n",
              "      <td>0.93</td>\n",
              "    </tr>\n",
              "    <tr>\n",
              "      <th>4</th>\n",
              "      <td>E</td>\n",
              "      <td>0.42</td>\n",
              "      <td>0.38</td>\n",
              "      <td>0.07</td>\n",
              "    </tr>\n",
              "  </tbody>\n",
              "</table>\n",
              "</div>"
            ],
            "text/plain": [
              "  C1    C2    C3    C4\n",
              "0  A  0.55  0.65  0.79\n",
              "1  B  0.72  0.44  0.53\n",
              "2  C   0.6  0.89  0.57\n",
              "3  D  0.54  0.96  0.93\n",
              "4  E  0.42  0.38  0.07"
            ]
          },
          "metadata": {
            "tags": []
          },
          "execution_count": 10
        }
      ]
    },
    {
      "cell_type": "markdown",
      "metadata": {
        "id": "Y0Tkww_xRNnv"
      },
      "source": [
        "5명의 학생의 국어, 영어, 수학 점수를 나타내는 데이터프레임을 다음과 같이 만든다.\n",
        "\n",
        "학생 이름을 나타내는 열을 포함시키지 않고 데이터프레임 df_score1 을 생성한 후, df_score1.index 속성에 학생 이름을 나타내는 열을 지정하여 인덱스를 지정한다. reset_index 명령으로 이 인덱스 열을 명령으로 일반 데이터열로 바꾸여 데이터프레임 df_score2을 만든다.\n",
        "\n",
        "학생 이름을 나타내는 열이 일반 데이터 열을 포함하는 데이터프레임 df_score2에 set_index 명령을 적용하여 다시 학생 이름을 나타내는 열을 인덱스로 변경한다."
      ]
    },
    {
      "cell_type": "code",
      "metadata": {
        "colab": {
          "base_uri": "https://localhost:8080/",
          "height": 204
        },
        "id": "4XGOx8WYQ-WE",
        "outputId": "1518b34b-cd35-42b2-cb5e-9a05e5b64d46"
      },
      "source": [
        "np.random.seed(2021)\n",
        "data = np.random.randint(low=40, high=100, size=(5, 3))\n",
        "df_score1 = pd.DataFrame(data=data, columns=['국어','영어','수학'])\n",
        "df_score1"
      ],
      "execution_count": 11,
      "outputs": [
        {
          "output_type": "execute_result",
          "data": {
            "text/html": [
              "<div>\n",
              "<style scoped>\n",
              "    .dataframe tbody tr th:only-of-type {\n",
              "        vertical-align: middle;\n",
              "    }\n",
              "\n",
              "    .dataframe tbody tr th {\n",
              "        vertical-align: top;\n",
              "    }\n",
              "\n",
              "    .dataframe thead th {\n",
              "        text-align: right;\n",
              "    }\n",
              "</style>\n",
              "<table border=\"1\" class=\"dataframe\">\n",
              "  <thead>\n",
              "    <tr style=\"text-align: right;\">\n",
              "      <th></th>\n",
              "      <th>국어</th>\n",
              "      <th>영어</th>\n",
              "      <th>수학</th>\n",
              "    </tr>\n",
              "  </thead>\n",
              "  <tbody>\n",
              "    <tr>\n",
              "      <th>0</th>\n",
              "      <td>92</td>\n",
              "      <td>61</td>\n",
              "      <td>97</td>\n",
              "    </tr>\n",
              "    <tr>\n",
              "      <th>1</th>\n",
              "      <td>40</td>\n",
              "      <td>85</td>\n",
              "      <td>70</td>\n",
              "    </tr>\n",
              "    <tr>\n",
              "      <th>2</th>\n",
              "      <td>62</td>\n",
              "      <td>84</td>\n",
              "      <td>67</td>\n",
              "    </tr>\n",
              "    <tr>\n",
              "      <th>3</th>\n",
              "      <td>69</td>\n",
              "      <td>61</td>\n",
              "      <td>69</td>\n",
              "    </tr>\n",
              "    <tr>\n",
              "      <th>4</th>\n",
              "      <td>64</td>\n",
              "      <td>52</td>\n",
              "      <td>94</td>\n",
              "    </tr>\n",
              "  </tbody>\n",
              "</table>\n",
              "</div>"
            ],
            "text/plain": [
              "   국어  영어  수학\n",
              "0  92  61  97\n",
              "1  40  85  70\n",
              "2  62  84  67\n",
              "3  69  61  69\n",
              "4  64  52  94"
            ]
          },
          "metadata": {
            "tags": []
          },
          "execution_count": 11
        }
      ]
    },
    {
      "cell_type": "code",
      "metadata": {
        "colab": {
          "base_uri": "https://localhost:8080/",
          "height": 204
        },
        "id": "pbbUVgBJRxce",
        "outputId": "0ea2eb0e-fbb3-4ab8-8da0-9bef43ad55a3"
      },
      "source": [
        "df_score1.index = ['Ailee', 'Elizabeth', 'James', 'Maria', 'Bryan']\n",
        "df_score1"
      ],
      "execution_count": 12,
      "outputs": [
        {
          "output_type": "execute_result",
          "data": {
            "text/html": [
              "<div>\n",
              "<style scoped>\n",
              "    .dataframe tbody tr th:only-of-type {\n",
              "        vertical-align: middle;\n",
              "    }\n",
              "\n",
              "    .dataframe tbody tr th {\n",
              "        vertical-align: top;\n",
              "    }\n",
              "\n",
              "    .dataframe thead th {\n",
              "        text-align: right;\n",
              "    }\n",
              "</style>\n",
              "<table border=\"1\" class=\"dataframe\">\n",
              "  <thead>\n",
              "    <tr style=\"text-align: right;\">\n",
              "      <th></th>\n",
              "      <th>국어</th>\n",
              "      <th>영어</th>\n",
              "      <th>수학</th>\n",
              "    </tr>\n",
              "  </thead>\n",
              "  <tbody>\n",
              "    <tr>\n",
              "      <th>Ailee</th>\n",
              "      <td>92</td>\n",
              "      <td>61</td>\n",
              "      <td>97</td>\n",
              "    </tr>\n",
              "    <tr>\n",
              "      <th>Elizabeth</th>\n",
              "      <td>40</td>\n",
              "      <td>85</td>\n",
              "      <td>70</td>\n",
              "    </tr>\n",
              "    <tr>\n",
              "      <th>James</th>\n",
              "      <td>62</td>\n",
              "      <td>84</td>\n",
              "      <td>67</td>\n",
              "    </tr>\n",
              "    <tr>\n",
              "      <th>Maria</th>\n",
              "      <td>69</td>\n",
              "      <td>61</td>\n",
              "      <td>69</td>\n",
              "    </tr>\n",
              "    <tr>\n",
              "      <th>Bryan</th>\n",
              "      <td>64</td>\n",
              "      <td>52</td>\n",
              "      <td>94</td>\n",
              "    </tr>\n",
              "  </tbody>\n",
              "</table>\n",
              "</div>"
            ],
            "text/plain": [
              "           국어  영어  수학\n",
              "Ailee      92  61  97\n",
              "Elizabeth  40  85  70\n",
              "James      62  84  67\n",
              "Maria      69  61  69\n",
              "Bryan      64  52  94"
            ]
          },
          "metadata": {
            "tags": []
          },
          "execution_count": 12
        }
      ]
    },
    {
      "cell_type": "code",
      "metadata": {
        "colab": {
          "base_uri": "https://localhost:8080/",
          "height": 204
        },
        "id": "9F2RVRT8SKjm",
        "outputId": "79067cf6-0b31-4c71-f70d-0659a5a35c43"
      },
      "source": [
        "df_score2 = df_score1.reset_index().rename(columns={'index':'이름'})\n",
        "df_score2"
      ],
      "execution_count": 14,
      "outputs": [
        {
          "output_type": "execute_result",
          "data": {
            "text/html": [
              "<div>\n",
              "<style scoped>\n",
              "    .dataframe tbody tr th:only-of-type {\n",
              "        vertical-align: middle;\n",
              "    }\n",
              "\n",
              "    .dataframe tbody tr th {\n",
              "        vertical-align: top;\n",
              "    }\n",
              "\n",
              "    .dataframe thead th {\n",
              "        text-align: right;\n",
              "    }\n",
              "</style>\n",
              "<table border=\"1\" class=\"dataframe\">\n",
              "  <thead>\n",
              "    <tr style=\"text-align: right;\">\n",
              "      <th></th>\n",
              "      <th>이름</th>\n",
              "      <th>국어</th>\n",
              "      <th>영어</th>\n",
              "      <th>수학</th>\n",
              "    </tr>\n",
              "  </thead>\n",
              "  <tbody>\n",
              "    <tr>\n",
              "      <th>0</th>\n",
              "      <td>Ailee</td>\n",
              "      <td>92</td>\n",
              "      <td>61</td>\n",
              "      <td>97</td>\n",
              "    </tr>\n",
              "    <tr>\n",
              "      <th>1</th>\n",
              "      <td>Elizabeth</td>\n",
              "      <td>40</td>\n",
              "      <td>85</td>\n",
              "      <td>70</td>\n",
              "    </tr>\n",
              "    <tr>\n",
              "      <th>2</th>\n",
              "      <td>James</td>\n",
              "      <td>62</td>\n",
              "      <td>84</td>\n",
              "      <td>67</td>\n",
              "    </tr>\n",
              "    <tr>\n",
              "      <th>3</th>\n",
              "      <td>Maria</td>\n",
              "      <td>69</td>\n",
              "      <td>61</td>\n",
              "      <td>69</td>\n",
              "    </tr>\n",
              "    <tr>\n",
              "      <th>4</th>\n",
              "      <td>Bryan</td>\n",
              "      <td>64</td>\n",
              "      <td>52</td>\n",
              "      <td>94</td>\n",
              "    </tr>\n",
              "  </tbody>\n",
              "</table>\n",
              "</div>"
            ],
            "text/plain": [
              "          이름  국어  영어  수학\n",
              "0      Ailee  92  61  97\n",
              "1  Elizabeth  40  85  70\n",
              "2      James  62  84  67\n",
              "3      Maria  69  61  69\n",
              "4      Bryan  64  52  94"
            ]
          },
          "metadata": {
            "tags": []
          },
          "execution_count": 14
        }
      ]
    },
    {
      "cell_type": "code",
      "metadata": {
        "colab": {
          "base_uri": "https://localhost:8080/",
          "height": 235
        },
        "id": "o4AffxujSWyk",
        "outputId": "d1f9d97c-dfcc-40f0-bf32-51c9bf4aae90"
      },
      "source": [
        "df_score2.set_index('이름', inplace=True)\n",
        "df_score2"
      ],
      "execution_count": 15,
      "outputs": [
        {
          "output_type": "execute_result",
          "data": {
            "text/html": [
              "<div>\n",
              "<style scoped>\n",
              "    .dataframe tbody tr th:only-of-type {\n",
              "        vertical-align: middle;\n",
              "    }\n",
              "\n",
              "    .dataframe tbody tr th {\n",
              "        vertical-align: top;\n",
              "    }\n",
              "\n",
              "    .dataframe thead th {\n",
              "        text-align: right;\n",
              "    }\n",
              "</style>\n",
              "<table border=\"1\" class=\"dataframe\">\n",
              "  <thead>\n",
              "    <tr style=\"text-align: right;\">\n",
              "      <th></th>\n",
              "      <th>국어</th>\n",
              "      <th>영어</th>\n",
              "      <th>수학</th>\n",
              "    </tr>\n",
              "    <tr>\n",
              "      <th>이름</th>\n",
              "      <th></th>\n",
              "      <th></th>\n",
              "      <th></th>\n",
              "    </tr>\n",
              "  </thead>\n",
              "  <tbody>\n",
              "    <tr>\n",
              "      <th>Ailee</th>\n",
              "      <td>92</td>\n",
              "      <td>61</td>\n",
              "      <td>97</td>\n",
              "    </tr>\n",
              "    <tr>\n",
              "      <th>Elizabeth</th>\n",
              "      <td>40</td>\n",
              "      <td>85</td>\n",
              "      <td>70</td>\n",
              "    </tr>\n",
              "    <tr>\n",
              "      <th>James</th>\n",
              "      <td>62</td>\n",
              "      <td>84</td>\n",
              "      <td>67</td>\n",
              "    </tr>\n",
              "    <tr>\n",
              "      <th>Maria</th>\n",
              "      <td>69</td>\n",
              "      <td>61</td>\n",
              "      <td>69</td>\n",
              "    </tr>\n",
              "    <tr>\n",
              "      <th>Bryan</th>\n",
              "      <td>64</td>\n",
              "      <td>52</td>\n",
              "      <td>94</td>\n",
              "    </tr>\n",
              "  </tbody>\n",
              "</table>\n",
              "</div>"
            ],
            "text/plain": [
              "           국어  영어  수학\n",
              "이름                   \n",
              "Ailee      92  61  97\n",
              "Elizabeth  40  85  70\n",
              "James      62  84  67\n",
              "Maria      69  61  69\n",
              "Bryan      64  52  94"
            ]
          },
          "metadata": {
            "tags": []
          },
          "execution_count": 15
        }
      ]
    },
    {
      "cell_type": "markdown",
      "metadata": {
        "id": "AJkILNbGTHDM"
      },
      "source": [
        "## 다중 인덱스"
      ]
    },
    {
      "cell_type": "code",
      "metadata": {
        "colab": {
          "base_uri": "https://localhost:8080/",
          "height": 297
        },
        "id": "ngkuE5vuS01Y",
        "outputId": "a9893e37-2e8a-47e6-bec6-e4290fb802d0"
      },
      "source": [
        "np.random.seed(0)\n",
        "df4 = pd.DataFrame(np.round(np.random.randn(6, 4), 2),\n",
        "                   columns=[[\"A\", \"A\", \"B\", \"B\"],\n",
        "                            [\"C\", \"D\", \"C\", \"D\"]],\n",
        "                   index=[[\"M\", \"M\", \"M\", \"F\", \"F\", \"F\"],\n",
        "                          [\"id_\" + str(i + 1) for i in range(3)] * 2])\n",
        "df4.columns.names = [\"Cidx1\", \"Cidx2\"]\n",
        "df4.index.names = [\"Ridx1\", \"Ridx2\"]\n",
        "df4"
      ],
      "execution_count": 17,
      "outputs": [
        {
          "output_type": "execute_result",
          "data": {
            "text/html": [
              "<div>\n",
              "<style scoped>\n",
              "    .dataframe tbody tr th:only-of-type {\n",
              "        vertical-align: middle;\n",
              "    }\n",
              "\n",
              "    .dataframe tbody tr th {\n",
              "        vertical-align: top;\n",
              "    }\n",
              "\n",
              "    .dataframe thead tr th {\n",
              "        text-align: left;\n",
              "    }\n",
              "\n",
              "    .dataframe thead tr:last-of-type th {\n",
              "        text-align: right;\n",
              "    }\n",
              "</style>\n",
              "<table border=\"1\" class=\"dataframe\">\n",
              "  <thead>\n",
              "    <tr>\n",
              "      <th></th>\n",
              "      <th>Cidx1</th>\n",
              "      <th colspan=\"2\" halign=\"left\">A</th>\n",
              "      <th colspan=\"2\" halign=\"left\">B</th>\n",
              "    </tr>\n",
              "    <tr>\n",
              "      <th></th>\n",
              "      <th>Cidx2</th>\n",
              "      <th>C</th>\n",
              "      <th>D</th>\n",
              "      <th>C</th>\n",
              "      <th>D</th>\n",
              "    </tr>\n",
              "    <tr>\n",
              "      <th>Ridx1</th>\n",
              "      <th>Ridx2</th>\n",
              "      <th></th>\n",
              "      <th></th>\n",
              "      <th></th>\n",
              "      <th></th>\n",
              "    </tr>\n",
              "  </thead>\n",
              "  <tbody>\n",
              "    <tr>\n",
              "      <th rowspan=\"3\" valign=\"top\">M</th>\n",
              "      <th>id_1</th>\n",
              "      <td>1.76</td>\n",
              "      <td>0.40</td>\n",
              "      <td>0.98</td>\n",
              "      <td>2.24</td>\n",
              "    </tr>\n",
              "    <tr>\n",
              "      <th>id_2</th>\n",
              "      <td>1.87</td>\n",
              "      <td>-0.98</td>\n",
              "      <td>0.95</td>\n",
              "      <td>-0.15</td>\n",
              "    </tr>\n",
              "    <tr>\n",
              "      <th>id_3</th>\n",
              "      <td>-0.10</td>\n",
              "      <td>0.41</td>\n",
              "      <td>0.14</td>\n",
              "      <td>1.45</td>\n",
              "    </tr>\n",
              "    <tr>\n",
              "      <th rowspan=\"3\" valign=\"top\">F</th>\n",
              "      <th>id_1</th>\n",
              "      <td>0.76</td>\n",
              "      <td>0.12</td>\n",
              "      <td>0.44</td>\n",
              "      <td>0.33</td>\n",
              "    </tr>\n",
              "    <tr>\n",
              "      <th>id_2</th>\n",
              "      <td>1.49</td>\n",
              "      <td>-0.21</td>\n",
              "      <td>0.31</td>\n",
              "      <td>-0.85</td>\n",
              "    </tr>\n",
              "    <tr>\n",
              "      <th>id_3</th>\n",
              "      <td>-2.55</td>\n",
              "      <td>0.65</td>\n",
              "      <td>0.86</td>\n",
              "      <td>-0.74</td>\n",
              "    </tr>\n",
              "  </tbody>\n",
              "</table>\n",
              "</div>"
            ],
            "text/plain": [
              "Cidx1           A           B      \n",
              "Cidx2           C     D     C     D\n",
              "Ridx1 Ridx2                        \n",
              "M     id_1   1.76  0.40  0.98  2.24\n",
              "      id_2   1.87 -0.98  0.95 -0.15\n",
              "      id_3  -0.10  0.41  0.14  1.45\n",
              "F     id_1   0.76  0.12  0.44  0.33\n",
              "      id_2   1.49 -0.21  0.31 -0.85\n",
              "      id_3  -2.55  0.65  0.86 -0.74"
            ]
          },
          "metadata": {
            "tags": []
          },
          "execution_count": 17
        }
      ]
    }
  ]
}