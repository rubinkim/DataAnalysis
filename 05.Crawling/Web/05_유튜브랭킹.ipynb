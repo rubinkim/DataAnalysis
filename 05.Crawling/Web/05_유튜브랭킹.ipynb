{
  "nbformat": 4,
  "nbformat_minor": 0,
  "metadata": {
    "colab": {
      "name": "05_유튜브랭킹.ipynb",
      "provenance": [],
      "collapsed_sections": []
    },
    "kernelspec": {
      "name": "python3",
      "display_name": "Python 3"
    },
    "language_info": {
      "name": "python"
    }
  },
  "cells": [
    {
      "cell_type": "markdown",
      "metadata": {
        "id": "Gl9ry9p8A2Y4"
      },
      "source": [
        "# 유튜브 랭킹 데이터 수집해서 시각화하기"
      ]
    },
    {
      "cell_type": "code",
      "metadata": {
        "colab": {
          "base_uri": "https://localhost:8080/"
        },
        "id": "SIaA0m2JAvtW",
        "outputId": "fd23a047-630b-4a9f-ac68-c10559fcd3f2"
      },
      "source": [
        "!sudo apt-get install -y fonts-nanum > /dev/null\n",
        "!sudo fc-cache -fv > /dev/null\n",
        "!rm ~/.cache/matplotlib -rf > /dev/null"
      ],
      "execution_count": 1,
      "outputs": [
        {
          "output_type": "stream",
          "text": [
            "debconf: unable to initialize frontend: Dialog\n",
            "debconf: (No usable dialog-like program is installed, so the dialog based frontend cannot be used. at /usr/share/perl5/Debconf/FrontEnd/Dialog.pm line 76, <> line 1.)\n",
            "debconf: falling back to frontend: Readline\n",
            "debconf: unable to initialize frontend: Readline\n",
            "debconf: (This frontend requires a controlling tty.)\n",
            "debconf: falling back to frontend: Teletype\n",
            "dpkg-preconfigure: unable to re-open stdin: \n"
          ],
          "name": "stdout"
        }
      ]
    },
    {
      "cell_type": "code",
      "metadata": {
        "colab": {
          "base_uri": "https://localhost:8080/"
        },
        "id": "yd31UCF-BDpT",
        "outputId": "a071c27c-7208-4925-a1fd-c054e8cc3153"
      },
      "source": [
        "!apt-get update > /dev/null\n",
        "!pip install selenium > /dev/null\n",
        "!apt install chromium-chromedriver > /dev/null"
      ],
      "execution_count": 2,
      "outputs": [
        {
          "output_type": "stream",
          "text": [
            "\n",
            "WARNING: apt does not have a stable CLI interface. Use with caution in scripts.\n",
            "\n"
          ],
          "name": "stdout"
        }
      ]
    },
    {
      "cell_type": "code",
      "metadata": {
        "id": "NtB5YKYeBj5K"
      },
      "source": [
        "from selenium import webdriver\n",
        "from bs4 import BeautifulSoup\n",
        "import time\n",
        "import pandas as pd"
      ],
      "execution_count": 3,
      "outputs": []
    },
    {
      "cell_type": "code",
      "metadata": {
        "id": "gIUIgwWBCZa3"
      },
      "source": [
        "options = webdriver.ChromeOptions()\n",
        "options.add_argument('--headless')   # 화면없이 실행\n",
        "options.add_argument('--no-sandbox')\n",
        "options.add_argument(\"--single-process\")\n",
        "options.add_argument(\"--disable-dev-shm-usage\")\n",
        "driver = webdriver.Chrome('chromedriver', options=options)"
      ],
      "execution_count": 7,
      "outputs": []
    },
    {
      "cell_type": "code",
      "metadata": {
        "id": "TYDs6NX5Chga"
      },
      "source": [
        "url = 'https://youtube-rank.com/board/bbs/board.php?bo_table=youtube&page=1'\n",
        "driver.get(url)\n",
        "# time.sleep(2)   # 로컬에서 이걸 안하면 .py에서 에러가 난다"
      ],
      "execution_count": 8,
      "outputs": []
    },
    {
      "cell_type": "code",
      "metadata": {
        "colab": {
          "base_uri": "https://localhost:8080/"
        },
        "id": "77KacoPCC44z",
        "outputId": "37025be5-d890-4b28-dfc5-b881cb70d3fd"
      },
      "source": [
        "trs = driver.find_elements_by_css_selector('.aos-init')\n",
        "len(trs)"
      ],
      "execution_count": 11,
      "outputs": [
        {
          "output_type": "execute_result",
          "data": {
            "text/plain": [
              "100"
            ]
          },
          "metadata": {
            "tags": []
          },
          "execution_count": 11
        }
      ]
    },
    {
      "cell_type": "code",
      "metadata": {
        "id": "Q1pwNYV0DWOD"
      },
      "source": [
        "html =  driver.page_source\n",
        "soup = BeautifulSoup(html, 'html.parser')"
      ],
      "execution_count": 12,
      "outputs": []
    },
    {
      "cell_type": "code",
      "metadata": {
        "colab": {
          "base_uri": "https://localhost:8080/"
        },
        "id": "gp4EefhjEIdb",
        "outputId": "5d36816b-0077-4096-b6d3-13f7e91c7e86"
      },
      "source": [
        "# soup.select('form > table > tbody > tr')\n",
        "channel_list = soup.select('tr.aos-init')\n",
        "len(channel_list)"
      ],
      "execution_count": 13,
      "outputs": [
        {
          "output_type": "execute_result",
          "data": {
            "text/plain": [
              "100"
            ]
          },
          "metadata": {
            "tags": []
          },
          "execution_count": 13
        }
      ]
    },
    {
      "cell_type": "code",
      "metadata": {
        "colab": {
          "base_uri": "https://localhost:8080/",
          "height": 35
        },
        "id": "qrokU15rERDW",
        "outputId": "00aa2a0b-eb6b-488d-cd23-4a897d4cc42c"
      },
      "source": [
        "channel = channel_list[0]\n",
        "category = channel.select_one('p.category').get_text().strip(' \\n[]')\n",
        "category"
      ],
      "execution_count": 23,
      "outputs": [
        {
          "output_type": "execute_result",
          "data": {
            "application/vnd.google.colaboratory.intrinsic+json": {
              "type": "string"
            },
            "text/plain": [
              "'음악/댄스/가수'"
            ]
          },
          "metadata": {
            "tags": []
          },
          "execution_count": 23
        }
      ]
    },
    {
      "cell_type": "code",
      "metadata": {
        "colab": {
          "base_uri": "https://localhost:8080/",
          "height": 35
        },
        "id": "5siQag4QFGH5",
        "outputId": "f9b27bf6-b3ed-469a-bc73-3de62a499832"
      },
      "source": [
        "name = channel.select_one('.subject a').text.strip()\n",
        "name"
      ],
      "execution_count": 22,
      "outputs": [
        {
          "output_type": "execute_result",
          "data": {
            "application/vnd.google.colaboratory.intrinsic+json": {
              "type": "string"
            },
            "text/plain": [
              "'BLACKPINK'"
            ]
          },
          "metadata": {
            "tags": []
          },
          "execution_count": 22
        }
      ]
    },
    {
      "cell_type": "code",
      "metadata": {
        "colab": {
          "base_uri": "https://localhost:8080/"
        },
        "id": "TOMRb0O_FqJ1",
        "outputId": "b94e404e-ce65-4961-d2ce-beb2d90858f5"
      },
      "source": [
        "subscriber = channel.select_one('.subscriber_cnt').text\n",
        "view = channel.select_one('.view_cnt').text\n",
        "video = channel.select_one('.video_cnt').text[:-1]\n",
        "subscriber, view, video"
      ],
      "execution_count": 25,
      "outputs": [
        {
          "output_type": "execute_result",
          "data": {
            "text/plain": [
              "('6400만', '190억0381만', '371')"
            ]
          },
          "metadata": {
            "tags": []
          },
          "execution_count": 25
        }
      ]
    },
    {
      "cell_type": "code",
      "metadata": {
        "id": "RNrZY7XyHtk0"
      },
      "source": [
        "channels = []\n",
        "\n",
        "for channel in channel_list:\n",
        "    category = channel.select_one('p.category').get_text().strip(' \\n[]')\n",
        "    name = channel.select_one('.subject a').text.strip()\n",
        "    subscriber = channel.select_one('.subscriber_cnt').text\n",
        "    view = channel.select_one('.view_cnt').text\n",
        "    video = channel.select_one('.video_cnt').text[:-1]\n",
        "    channels.append([category, name, subscriber, view, video])"
      ],
      "execution_count": 27,
      "outputs": []
    },
    {
      "cell_type": "code",
      "metadata": {
        "colab": {
          "base_uri": "https://localhost:8080/",
          "height": 204
        },
        "id": "oD4rGL14IMaV",
        "outputId": "6ff3eba3-4bb6-43bb-cf64-6f61c56b9025"
      },
      "source": [
        "df = pd.DataFrame(channels, columns=['카테고리','채널명','구독자수','조회수','비디오수'])\n",
        "df.head()"
      ],
      "execution_count": 28,
      "outputs": [
        {
          "output_type": "execute_result",
          "data": {
            "text/html": [
              "<div>\n",
              "<style scoped>\n",
              "    .dataframe tbody tr th:only-of-type {\n",
              "        vertical-align: middle;\n",
              "    }\n",
              "\n",
              "    .dataframe tbody tr th {\n",
              "        vertical-align: top;\n",
              "    }\n",
              "\n",
              "    .dataframe thead th {\n",
              "        text-align: right;\n",
              "    }\n",
              "</style>\n",
              "<table border=\"1\" class=\"dataframe\">\n",
              "  <thead>\n",
              "    <tr style=\"text-align: right;\">\n",
              "      <th></th>\n",
              "      <th>카테고리</th>\n",
              "      <th>채널명</th>\n",
              "      <th>구독자수</th>\n",
              "      <th>조회수</th>\n",
              "      <th>비디오수</th>\n",
              "    </tr>\n",
              "  </thead>\n",
              "  <tbody>\n",
              "    <tr>\n",
              "      <th>0</th>\n",
              "      <td>음악/댄스/가수</td>\n",
              "      <td>BLACKPINK</td>\n",
              "      <td>6400만</td>\n",
              "      <td>190억0381만</td>\n",
              "      <td>371</td>\n",
              "    </tr>\n",
              "    <tr>\n",
              "      <th>1</th>\n",
              "      <td>음악/댄스/가수</td>\n",
              "      <td>HYBE LABELS</td>\n",
              "      <td>6030만</td>\n",
              "      <td>187억1305만</td>\n",
              "      <td>654</td>\n",
              "    </tr>\n",
              "    <tr>\n",
              "      <th>2</th>\n",
              "      <td>음악/댄스/가수</td>\n",
              "      <td>BANGTANTV</td>\n",
              "      <td>5640만</td>\n",
              "      <td>121억9496만</td>\n",
              "      <td>1,579</td>\n",
              "    </tr>\n",
              "    <tr>\n",
              "      <th>3</th>\n",
              "      <td>음악/댄스/가수</td>\n",
              "      <td>SMTOWN</td>\n",
              "      <td>2850만</td>\n",
              "      <td>218억7092만</td>\n",
              "      <td>3,729</td>\n",
              "    </tr>\n",
              "    <tr>\n",
              "      <th>4</th>\n",
              "      <td>키즈/어린이</td>\n",
              "      <td>Boram Tube Vlog [보람튜브 브이로그]</td>\n",
              "      <td>2650만</td>\n",
              "      <td>110억5288만</td>\n",
              "      <td>223</td>\n",
              "    </tr>\n",
              "  </tbody>\n",
              "</table>\n",
              "</div>"
            ],
            "text/plain": [
              "       카테고리                          채널명   구독자수        조회수   비디오수\n",
              "0  음악/댄스/가수                    BLACKPINK  6400만  190억0381만    371\n",
              "1  음악/댄스/가수                  HYBE LABELS  6030만  187억1305만    654\n",
              "2  음악/댄스/가수                    BANGTANTV  5640만  121억9496만  1,579\n",
              "3  음악/댄스/가수                       SMTOWN  2850만  218억7092만  3,729\n",
              "4    키즈/어린이  Boram Tube Vlog [보람튜브 브이로그]  2650만  110억5288만    223"
            ]
          },
          "metadata": {
            "tags": []
          },
          "execution_count": 28
        }
      ]
    },
    {
      "cell_type": "code",
      "metadata": {
        "colab": {
          "base_uri": "https://localhost:8080/",
          "height": 204
        },
        "id": "D4lDdfxpIeFP",
        "outputId": "f6cae32e-05a4-4ea2-9215-d47bfed1972d"
      },
      "source": [
        "df.tail()"
      ],
      "execution_count": 29,
      "outputs": [
        {
          "output_type": "execute_result",
          "data": {
            "text/html": [
              "<div>\n",
              "<style scoped>\n",
              "    .dataframe tbody tr th:only-of-type {\n",
              "        vertical-align: middle;\n",
              "    }\n",
              "\n",
              "    .dataframe tbody tr th {\n",
              "        vertical-align: top;\n",
              "    }\n",
              "\n",
              "    .dataframe thead th {\n",
              "        text-align: right;\n",
              "    }\n",
              "</style>\n",
              "<table border=\"1\" class=\"dataframe\">\n",
              "  <thead>\n",
              "    <tr style=\"text-align: right;\">\n",
              "      <th></th>\n",
              "      <th>카테고리</th>\n",
              "      <th>채널명</th>\n",
              "      <th>구독자수</th>\n",
              "      <th>조회수</th>\n",
              "      <th>비디오수</th>\n",
              "    </tr>\n",
              "  </thead>\n",
              "  <tbody>\n",
              "    <tr>\n",
              "      <th>95</th>\n",
              "      <td>음식/요리/레시피</td>\n",
              "      <td>까니짱 [ G-NI ]</td>\n",
              "      <td>408만</td>\n",
              "      <td>10억3471만</td>\n",
              "      <td>482</td>\n",
              "    </tr>\n",
              "    <tr>\n",
              "      <th>96</th>\n",
              "      <td>키즈/어린이</td>\n",
              "      <td>로미유 스토리[Romiyu Story]</td>\n",
              "      <td>408만</td>\n",
              "      <td>10억6557만</td>\n",
              "      <td>433</td>\n",
              "    </tr>\n",
              "    <tr>\n",
              "      <th>97</th>\n",
              "      <td>음악/댄스/가수</td>\n",
              "      <td>NCT DREAM</td>\n",
              "      <td>386만</td>\n",
              "      <td>3억7422만</td>\n",
              "      <td>228</td>\n",
              "    </tr>\n",
              "    <tr>\n",
              "      <th>98</th>\n",
              "      <td>BJ/인물/연예인</td>\n",
              "      <td>허팝Heopop</td>\n",
              "      <td>381만</td>\n",
              "      <td>31억3892만</td>\n",
              "      <td>1,847</td>\n",
              "    </tr>\n",
              "    <tr>\n",
              "      <th>99</th>\n",
              "      <td>애완/반려동물</td>\n",
              "      <td>크림히어로즈</td>\n",
              "      <td>381만</td>\n",
              "      <td>13억7401만</td>\n",
              "      <td>939</td>\n",
              "    </tr>\n",
              "  </tbody>\n",
              "</table>\n",
              "</div>"
            ],
            "text/plain": [
              "         카테고리                    채널명  구독자수       조회수   비디오수\n",
              "95  음식/요리/레시피           까니짱 [ G-NI ]  408만  10억3471만    482\n",
              "96     키즈/어린이  로미유 스토리[Romiyu Story]  408만  10억6557만    433\n",
              "97   음악/댄스/가수              NCT DREAM  386만   3억7422만    228\n",
              "98  BJ/인물/연예인               허팝Heopop  381만  31억3892만  1,847\n",
              "99    애완/반려동물                 크림히어로즈  381만  13억7401만    939"
            ]
          },
          "metadata": {
            "tags": []
          },
          "execution_count": 29
        }
      ]
    },
    {
      "cell_type": "code",
      "metadata": {
        "id": "Ogxq7ZeBI9iS"
      },
      "source": [
        "def convert_unit(s):\n",
        "    if s.find('억'):\n",
        "        s= s.replace('억','').replace('만', '0000')\n",
        "        return s\n",
        "    return s\n",
        "    "
      ],
      "execution_count": 37,
      "outputs": []
    },
    {
      "cell_type": "code",
      "metadata": {
        "colab": {
          "base_uri": "https://localhost:8080/",
          "height": 307
        },
        "id": "aCsHgaVOJmBW",
        "outputId": "7e032874-12c3-4b32-ee45-3e4f665c9f27"
      },
      "source": [
        "df['조회수'] = df['조회수'].apply(lambda x : convert_unit(x)).astype(int).apply(lambda x : f'{x:,}')\n",
        "df.head()"
      ],
      "execution_count": 36,
      "outputs": [
        {
          "output_type": "execute_result",
          "data": {
            "text/html": [
              "<div>\n",
              "<style scoped>\n",
              "    .dataframe tbody tr th:only-of-type {\n",
              "        vertical-align: middle;\n",
              "    }\n",
              "\n",
              "    .dataframe tbody tr th {\n",
              "        vertical-align: top;\n",
              "    }\n",
              "\n",
              "    .dataframe thead th {\n",
              "        text-align: right;\n",
              "    }\n",
              "</style>\n",
              "<table border=\"1\" class=\"dataframe\">\n",
              "  <thead>\n",
              "    <tr style=\"text-align: right;\">\n",
              "      <th></th>\n",
              "      <th>카테고리</th>\n",
              "      <th>채널명</th>\n",
              "      <th>구독자수</th>\n",
              "      <th>조회수</th>\n",
              "      <th>비디오수</th>\n",
              "    </tr>\n",
              "  </thead>\n",
              "  <tbody>\n",
              "    <tr>\n",
              "      <th>0</th>\n",
              "      <td>음악/댄스/가수</td>\n",
              "      <td>BLACKPINK</td>\n",
              "      <td>6400만</td>\n",
              "      <td>19,003,810,000</td>\n",
              "      <td>371</td>\n",
              "    </tr>\n",
              "    <tr>\n",
              "      <th>1</th>\n",
              "      <td>음악/댄스/가수</td>\n",
              "      <td>HYBE LABELS</td>\n",
              "      <td>6030만</td>\n",
              "      <td>18,713,050,000</td>\n",
              "      <td>654</td>\n",
              "    </tr>\n",
              "    <tr>\n",
              "      <th>2</th>\n",
              "      <td>음악/댄스/가수</td>\n",
              "      <td>BANGTANTV</td>\n",
              "      <td>5640만</td>\n",
              "      <td>12,194,960,000</td>\n",
              "      <td>1,579</td>\n",
              "    </tr>\n",
              "    <tr>\n",
              "      <th>3</th>\n",
              "      <td>음악/댄스/가수</td>\n",
              "      <td>SMTOWN</td>\n",
              "      <td>2850만</td>\n",
              "      <td>21,870,920,000</td>\n",
              "      <td>3,729</td>\n",
              "    </tr>\n",
              "    <tr>\n",
              "      <th>4</th>\n",
              "      <td>키즈/어린이</td>\n",
              "      <td>Boram Tube Vlog [보람튜브 브이로그]</td>\n",
              "      <td>2650만</td>\n",
              "      <td>11,052,880,000</td>\n",
              "      <td>223</td>\n",
              "    </tr>\n",
              "  </tbody>\n",
              "</table>\n",
              "</div>"
            ],
            "text/plain": [
              "       카테고리                          채널명   구독자수             조회수   비디오수\n",
              "0  음악/댄스/가수                    BLACKPINK  6400만  19,003,810,000    371\n",
              "1  음악/댄스/가수                  HYBE LABELS  6030만  18,713,050,000    654\n",
              "2  음악/댄스/가수                    BANGTANTV  5640만  12,194,960,000  1,579\n",
              "3  음악/댄스/가수                       SMTOWN  2850만  21,870,920,000  3,729\n",
              "4    키즈/어린이  Boram Tube Vlog [보람튜브 브이로그]  2650만  11,052,880,000    223"
            ]
          },
          "metadata": {
            "tags": []
          },
          "execution_count": 36
        }
      ]
    },
    {
      "cell_type": "markdown",
      "metadata": {
        "id": "g8Zr9gnedBuN"
      },
      "source": [
        "- 두번째 페이지 -XPath로 찾아 Click()하여 이용하기"
      ]
    },
    {
      "cell_type": "code",
      "metadata": {
        "id": "klczDam8b04V"
      },
      "source": [
        "driver.find_element_by_xpath('//*[@id=\"list-skin\"]/nav/span/a[1]').click()"
      ],
      "execution_count": 42,
      "outputs": []
    },
    {
      "cell_type": "code",
      "metadata": {
        "id": "xtuQUbA6cLug"
      },
      "source": [
        "html =  driver.page_source\n",
        "soup = BeautifulSoup(html, 'html.parser')"
      ],
      "execution_count": 43,
      "outputs": []
    },
    {
      "cell_type": "code",
      "metadata": {
        "id": "jyuYYsNuJpzt"
      },
      "source": [
        "channel_list = soup.select('tr.aos-init')"
      ],
      "execution_count": 44,
      "outputs": []
    },
    {
      "cell_type": "code",
      "metadata": {
        "id": "kuezpMjvcVXW"
      },
      "source": [
        "results = []\n",
        "\n",
        "for channel in channel_list:\n",
        "    category = channel.select_one('p.category').get_text().strip(' \\n[]')\n",
        "    name = channel.select_one('.subject a').text.strip()\n",
        "    subscriber = channel.select_one('.subscriber_cnt').text\n",
        "    view = channel.select_one('.view_cnt').text\n",
        "    video = channel.select_one('.video_cnt').text\n",
        "    results.append([category, name, subscriber, view, video])"
      ],
      "execution_count": 47,
      "outputs": []
    },
    {
      "cell_type": "code",
      "metadata": {
        "colab": {
          "base_uri": "https://localhost:8080/",
          "height": 204
        },
        "id": "5KHA4Cwbcbw2",
        "outputId": "2d7dde85-5ff2-4c68-b60b-41df6a31768c"
      },
      "source": [
        "df = pd.DataFrame(results, columns=['카테고리','채널명','구독자수','조회수','비디오수'])\n",
        "df.head()"
      ],
      "execution_count": 48,
      "outputs": [
        {
          "output_type": "execute_result",
          "data": {
            "text/html": [
              "<div>\n",
              "<style scoped>\n",
              "    .dataframe tbody tr th:only-of-type {\n",
              "        vertical-align: middle;\n",
              "    }\n",
              "\n",
              "    .dataframe tbody tr th {\n",
              "        vertical-align: top;\n",
              "    }\n",
              "\n",
              "    .dataframe thead th {\n",
              "        text-align: right;\n",
              "    }\n",
              "</style>\n",
              "<table border=\"1\" class=\"dataframe\">\n",
              "  <thead>\n",
              "    <tr style=\"text-align: right;\">\n",
              "      <th></th>\n",
              "      <th>카테고리</th>\n",
              "      <th>채널명</th>\n",
              "      <th>구독자수</th>\n",
              "      <th>조회수</th>\n",
              "      <th>비디오수</th>\n",
              "    </tr>\n",
              "  </thead>\n",
              "  <tbody>\n",
              "    <tr>\n",
              "      <th>0</th>\n",
              "      <td>애완/반려동물</td>\n",
              "      <td>크림히어로즈</td>\n",
              "      <td>380만</td>\n",
              "      <td>13억7477만</td>\n",
              "      <td>940개</td>\n",
              "    </tr>\n",
              "    <tr>\n",
              "      <th>1</th>\n",
              "      <td>BJ/인물/연예인</td>\n",
              "      <td>워크맨-Workman</td>\n",
              "      <td>378만</td>\n",
              "      <td>6억7937만</td>\n",
              "      <td>141개</td>\n",
              "    </tr>\n",
              "    <tr>\n",
              "      <th>2</th>\n",
              "      <td>BJ/인물/연예인</td>\n",
              "      <td>waveya 2011</td>\n",
              "      <td>373만</td>\n",
              "      <td>13억4628만</td>\n",
              "      <td>702개</td>\n",
              "    </tr>\n",
              "    <tr>\n",
              "      <th>3</th>\n",
              "      <td>키즈/어린이</td>\n",
              "      <td>Lime Tube[라임튜브]</td>\n",
              "      <td>373만</td>\n",
              "      <td>25억9542만</td>\n",
              "      <td>1,723개</td>\n",
              "    </tr>\n",
              "    <tr>\n",
              "      <th>4</th>\n",
              "      <td>음악/댄스/가수</td>\n",
              "      <td>WINNER</td>\n",
              "      <td>373만</td>\n",
              "      <td>11억7126만</td>\n",
              "      <td>428개</td>\n",
              "    </tr>\n",
              "  </tbody>\n",
              "</table>\n",
              "</div>"
            ],
            "text/plain": [
              "        카테고리              채널명  구독자수       조회수    비디오수\n",
              "0    애완/반려동물           크림히어로즈  380만  13억7477만    940개\n",
              "1  BJ/인물/연예인      워크맨-Workman  378만   6억7937만    141개\n",
              "2  BJ/인물/연예인      waveya 2011  373만  13억4628만    702개\n",
              "3     키즈/어린이  Lime Tube[라임튜브]  373만  25억9542만  1,723개\n",
              "4   음악/댄스/가수           WINNER  373만  11억7126만    428개"
            ]
          },
          "metadata": {
            "tags": []
          },
          "execution_count": 48
        }
      ]
    },
    {
      "cell_type": "markdown",
      "metadata": {
        "id": "zMyDTeKve9Tt"
      },
      "source": [
        "### page 1에서 10까지 클롤링하기"
      ]
    },
    {
      "cell_type": "code",
      "metadata": {
        "id": "T5X5tOYKef-g"
      },
      "source": [
        "results = []\n",
        "\n",
        "for page in range(1,11):\n",
        "    url = 'https://youtube-rank.com/board/bbs/board.php?bo_table=youtube&page='+str(page)\n",
        "    driver.get(url)\n",
        "    time.sleep(2)\n",
        "    html =  driver.page_source\n",
        "    soup = BeautifulSoup(html, 'html.parser')\n",
        "    channel_list = soup.select('tr.aos-init')\n",
        "\n",
        "    for channel in channel_list:\n",
        "        category = channel.select_one('p.category').get_text().strip(' \\n[]')\n",
        "        name = channel.select_one('.subject a').text.strip()\n",
        "        subscriber = channel.select_one('.subscriber_cnt').text\n",
        "        view = channel.select_one('.view_cnt').text\n",
        "        video = channel.select_one('.video_cnt').text\n",
        "        results.append([category, name, subscriber, view, video])"
      ],
      "execution_count": 49,
      "outputs": []
    },
    {
      "cell_type": "code",
      "metadata": {
        "colab": {
          "base_uri": "https://localhost:8080/"
        },
        "id": "CyiYUwlrgDuk",
        "outputId": "3ddc218a-7735-4914-a88c-4b0a3f9e02e7"
      },
      "source": [
        "df = pd.DataFrame(data=results, columns=['카테고리','채널명','구독자수','조회수','비디오수'])\n",
        "df.info()"
      ],
      "execution_count": 50,
      "outputs": [
        {
          "output_type": "stream",
          "text": [
            "<class 'pandas.core.frame.DataFrame'>\n",
            "RangeIndex: 1000 entries, 0 to 999\n",
            "Data columns (total 5 columns):\n",
            " #   Column  Non-Null Count  Dtype \n",
            "---  ------  --------------  ----- \n",
            " 0   카테고리    1000 non-null   object\n",
            " 1   채널명     1000 non-null   object\n",
            " 2   구독자수    1000 non-null   object\n",
            " 3   조회수     1000 non-null   object\n",
            " 4   비디오수    1000 non-null   object\n",
            "dtypes: object(5)\n",
            "memory usage: 39.2+ KB\n"
          ],
          "name": "stdout"
        }
      ]
    },
    {
      "cell_type": "code",
      "metadata": {
        "colab": {
          "base_uri": "https://localhost:8080/",
          "height": 204
        },
        "id": "yhZX1XXNgRbX",
        "outputId": "26054067-b690-4d2d-cbc7-3834a3bf8b04"
      },
      "source": [
        "df.tail()"
      ],
      "execution_count": 51,
      "outputs": [
        {
          "output_type": "execute_result",
          "data": {
            "text/html": [
              "<div>\n",
              "<style scoped>\n",
              "    .dataframe tbody tr th:only-of-type {\n",
              "        vertical-align: middle;\n",
              "    }\n",
              "\n",
              "    .dataframe tbody tr th {\n",
              "        vertical-align: top;\n",
              "    }\n",
              "\n",
              "    .dataframe thead th {\n",
              "        text-align: right;\n",
              "    }\n",
              "</style>\n",
              "<table border=\"1\" class=\"dataframe\">\n",
              "  <thead>\n",
              "    <tr style=\"text-align: right;\">\n",
              "      <th></th>\n",
              "      <th>카테고리</th>\n",
              "      <th>채널명</th>\n",
              "      <th>구독자수</th>\n",
              "      <th>조회수</th>\n",
              "      <th>비디오수</th>\n",
              "    </tr>\n",
              "  </thead>\n",
              "  <tbody>\n",
              "    <tr>\n",
              "      <th>995</th>\n",
              "      <td>게임</td>\n",
              "      <td>미소</td>\n",
              "      <td>51만</td>\n",
              "      <td>2억1077만</td>\n",
              "      <td>3,084개</td>\n",
              "    </tr>\n",
              "    <tr>\n",
              "      <th>996</th>\n",
              "      <td>미분류</td>\n",
              "      <td>밉지않은 관종언니</td>\n",
              "      <td>51만</td>\n",
              "      <td>6774만</td>\n",
              "      <td>170개</td>\n",
              "    </tr>\n",
              "    <tr>\n",
              "      <th>997</th>\n",
              "      <td>미분류</td>\n",
              "      <td>복지마블TV [Welfare Marble]</td>\n",
              "      <td>51만</td>\n",
              "      <td>4996만</td>\n",
              "      <td>240개</td>\n",
              "    </tr>\n",
              "    <tr>\n",
              "      <th>998</th>\n",
              "      <td>음식/요리/레시피</td>\n",
              "      <td>Muggo</td>\n",
              "      <td>51만</td>\n",
              "      <td>1억8372만</td>\n",
              "      <td>1,388개</td>\n",
              "    </tr>\n",
              "    <tr>\n",
              "      <th>999</th>\n",
              "      <td>게임</td>\n",
              "      <td>임선비</td>\n",
              "      <td>51만</td>\n",
              "      <td>2억3429만</td>\n",
              "      <td>1,134개</td>\n",
              "    </tr>\n",
              "  </tbody>\n",
              "</table>\n",
              "</div>"
            ],
            "text/plain": [
              "          카테고리                      채널명 구독자수      조회수    비디오수\n",
              "995         게임                       미소  51만  2억1077만  3,084개\n",
              "996        미분류                밉지않은 관종언니  51만    6774만    170개\n",
              "997        미분류  복지마블TV [Welfare Marble]  51만    4996만    240개\n",
              "998  음식/요리/레시피                    Muggo  51만  1억8372만  1,388개\n",
              "999         게임                      임선비  51만  2억3429만  1,134개"
            ]
          },
          "metadata": {
            "tags": []
          },
          "execution_count": 51
        }
      ]
    },
    {
      "cell_type": "code",
      "metadata": {
        "colab": {
          "base_uri": "https://localhost:8080/"
        },
        "id": "ySWQ7ZMrgVE1",
        "outputId": "86f5be2e-a131-43a3-cf40-6d6f79755a1a"
      },
      "source": [
        "import  numpy as np\n",
        "df[df['채널명'].str.contains('희밥')].index"
      ],
      "execution_count": 60,
      "outputs": [
        {
          "output_type": "execute_result",
          "data": {
            "text/plain": [
              "Int64Index([], dtype='int64')"
            ]
          },
          "metadata": {
            "tags": []
          },
          "execution_count": 60
        }
      ]
    },
    {
      "cell_type": "code",
      "metadata": {
        "id": "DXCXUnDhgjZB"
      },
      "source": [
        "df.to_csv('유튜브_순위csv', index=False)"
      ],
      "execution_count": 55,
      "outputs": []
    },
    {
      "cell_type": "code",
      "metadata": {
        "id": "HBK_uSt8gztp"
      },
      "source": [
        "driver.close()"
      ],
      "execution_count": 58,
      "outputs": []
    }
  ]
}