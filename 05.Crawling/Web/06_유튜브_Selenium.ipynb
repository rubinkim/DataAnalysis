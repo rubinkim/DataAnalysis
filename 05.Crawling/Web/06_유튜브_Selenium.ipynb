{
  "nbformat": 4,
  "nbformat_minor": 0,
  "metadata": {
    "colab": {
      "name": "06_유튜브_Selenium.ipynb",
      "provenance": [],
      "collapsed_sections": []
    },
    "kernelspec": {
      "name": "python3",
      "display_name": "Python 3"
    },
    "language_info": {
      "name": "python"
    }
  },
  "cells": [
    {
      "cell_type": "code",
      "metadata": {
        "colab": {
          "base_uri": "https://localhost:8080/"
        },
        "id": "pCCmB8CjkNvV",
        "outputId": "33f130bd-34c3-4976-b41f-2119bbb21a2b"
      },
      "source": [
        "!apt-get update > /dev/null\n",
        "!pip install selenium > /dev/null\n",
        "!apt install chromium-chromedriver > /dev/null"
      ],
      "execution_count": 27,
      "outputs": [
        {
          "output_type": "stream",
          "text": [
            "\n",
            "WARNING: apt does not have a stable CLI interface. Use with caution in scripts.\n",
            "\n"
          ],
          "name": "stdout"
        }
      ]
    },
    {
      "cell_type": "code",
      "metadata": {
        "id": "2i8IPV41kBZj"
      },
      "source": [
        "from selenium import webdriver\n",
        "import time\n",
        "import pandas as pd"
      ],
      "execution_count": 28,
      "outputs": []
    },
    {
      "cell_type": "code",
      "metadata": {
        "id": "dD0b-1dYkVyw"
      },
      "source": [
        "options = webdriver.ChromeOptions()\n",
        "options.add_argument('--headless')   # 화면없이 실행\n",
        "options.add_argument('--no-sandbox')\n",
        "options.add_argument(\"--single-process\")\n",
        "options.add_argument(\"--disable-dev-shm-usage\")\n",
        "driver = webdriver.Chrome('chromedriver', options=options)"
      ],
      "execution_count": 29,
      "outputs": []
    },
    {
      "cell_type": "code",
      "metadata": {
        "id": "lRCd6VWykn-E"
      },
      "source": [
        "url = 'https://youtube-rank.com/board/bbs/board.php?bo_table=youtube&page=1'\n",
        "driver.get(url)\n",
        "# time.sleep(2)   # 로컬에서 이걸 안하면 .py에서 에러가 난다"
      ],
      "execution_count": 37,
      "outputs": []
    },
    {
      "cell_type": "code",
      "metadata": {
        "colab": {
          "base_uri": "https://localhost:8080/"
        },
        "id": "MRYMqH5orEyd",
        "outputId": "9821016f-4ce1-4702-fa08-dc0cfb69208f"
      },
      "source": [
        "driver.window_handles, len(driver.window_handles)"
      ],
      "execution_count": 38,
      "outputs": [
        {
          "output_type": "execute_result",
          "data": {
            "text/plain": [
              "(['CDwindow-27058FF23754D951B463E4B50149521A'], 1)"
            ]
          },
          "metadata": {
            "tags": []
          },
          "execution_count": 38
        }
      ]
    },
    {
      "cell_type": "code",
      "metadata": {
        "colab": {
          "base_uri": "https://localhost:8080/"
        },
        "id": "OZqLFKG-r4t5",
        "outputId": "59416e62-5fa3-4887-9326-9a7e0b232a67"
      },
      "source": [
        "window_len = len(driver.window_handles)\n",
        "if window_len == 2:\n",
        "    driver.switch_to_window(driver_handles[1])\n",
        "    driver.close()    \n",
        "driver.switch_to_window(driver.window_handles[0])"
      ],
      "execution_count": 39,
      "outputs": [
        {
          "output_type": "stream",
          "text": [
            "/usr/local/lib/python3.7/dist-packages/ipykernel_launcher.py:7: DeprecationWarning: use driver.switch_to.window instead\n",
            "  import sys\n"
          ],
          "name": "stderr"
        }
      ]
    },
    {
      "cell_type": "code",
      "metadata": {
        "colab": {
          "base_uri": "https://localhost:8080/"
        },
        "id": "dlA8AwMnkFka",
        "outputId": "82d9f52d-b013-4b1e-fa70-5d70d4ab6cfa"
      },
      "source": [
        "trs = driver.find_elements_by_css_selector('.aos-init')\n",
        "len(trs)"
      ],
      "execution_count": 40,
      "outputs": [
        {
          "output_type": "execute_result",
          "data": {
            "text/plain": [
              "100"
            ]
          },
          "metadata": {
            "tags": []
          },
          "execution_count": 40
        }
      ]
    },
    {
      "cell_type": "code",
      "metadata": {
        "id": "EfyZDYavkinU"
      },
      "source": [
        "channel_list = driver.find_elements_by_css_selector('tr.aos-init')"
      ],
      "execution_count": 22,
      "outputs": []
    },
    {
      "cell_type": "code",
      "metadata": {
        "colab": {
          "base_uri": "https://localhost:8080/",
          "height": 35
        },
        "id": "AkTCKQOAlJaS",
        "outputId": "bd1f8dec-8c93-4b58-cb1f-fa4ff8bc9678"
      },
      "source": [
        "channel = channel_list[0]\n",
        "category = channel.find_element_by_css_selector('p.category').text.strip(' \\n[]')\n",
        "category"
      ],
      "execution_count": 58,
      "outputs": [
        {
          "output_type": "execute_result",
          "data": {
            "application/vnd.google.colaboratory.intrinsic+json": {
              "type": "string"
            },
            "text/plain": [
              "'음악/댄스/가수'"
            ]
          },
          "metadata": {
            "tags": []
          },
          "execution_count": 58
        }
      ]
    },
    {
      "cell_type": "code",
      "metadata": {
        "colab": {
          "base_uri": "https://localhost:8080/",
          "height": 35
        },
        "id": "LDBfpzlRlwXt",
        "outputId": "93b14db0-86d0-4b1f-dcef-c6b3dd4c2541"
      },
      "source": [
        "name = channel.find_element_by_css_selector('.subject a').text.strip()\n",
        "name"
      ],
      "execution_count": 25,
      "outputs": [
        {
          "output_type": "execute_result",
          "data": {
            "application/vnd.google.colaboratory.intrinsic+json": {
              "type": "string"
            },
            "text/plain": [
              "'BLACKPINK'"
            ]
          },
          "metadata": {
            "tags": []
          },
          "execution_count": 25
        }
      ]
    },
    {
      "cell_type": "code",
      "metadata": {
        "colab": {
          "base_uri": "https://localhost:8080/"
        },
        "id": "GjIAYVaDlwh6",
        "outputId": "9ce81d87-d250-46f6-86b4-8d2bbd18ab4a"
      },
      "source": [
        "subscriber = channel.find_element_by_css_selector('.subscriber_cnt').text\n",
        "view = channel.find_element_by_css_selector('.view_cnt').text\n",
        "video = channel.find_element_by_css_selector('.video_cnt').text[:-1]\n",
        "subscriber, view, video"
      ],
      "execution_count": 26,
      "outputs": [
        {
          "output_type": "execute_result",
          "data": {
            "text/plain": [
              "('6400만', '190억0381만', '371')"
            ]
          },
          "metadata": {
            "tags": []
          },
          "execution_count": 26
        }
      ]
    },
    {
      "cell_type": "code",
      "metadata": {
        "colab": {
          "base_uri": "https://localhost:8080/",
          "height": 35
        },
        "id": "OJ7gOEGbuVdO",
        "outputId": "375b27eb-81b0-46f4-f287-0efd42b3880f"
      },
      "source": [
        "tr = trs[0]\n",
        "subscriber = tr.find_element_by_css_selector('.subscriber_cnt').text\n",
        "subscriber"
      ],
      "execution_count": 45,
      "outputs": [
        {
          "output_type": "execute_result",
          "data": {
            "application/vnd.google.colaboratory.intrinsic+json": {
              "type": "string"
            },
            "text/plain": [
              "'57만'"
            ]
          },
          "metadata": {
            "tags": []
          },
          "execution_count": 45
        }
      ]
    },
    {
      "cell_type": "code",
      "metadata": {
        "id": "PQ-dijq3mJuV"
      },
      "source": [
        "results = []\n",
        "\n",
        "for page in range(1,3):\n",
        "    url = 'https://youtube-rank.com/board/bbs/board.php?bo_table=youtube&page='+str(page)\n",
        "    driver.get(url)\n",
        "    time.sleep(2)\n",
        "    trs = driver.find_elements_by_css_selector('tr.aos-init')    \n",
        "\n",
        "    for tr in channel_list:\n",
        "        category = tr.find_element_by_css_selector('p.category').text.strip(' \\n[]')\n",
        "        name = tr.find_element_by_css_selector('.subject a').text.strip()\n",
        "        subscriber = tr.find_element_by_css_selector('.subscriber_cnt').text\n",
        "        view = tr.find_element_by_css_selector('.view_cnt').text\n",
        "        video = tr.find_element_by_css_selector('.video_cnt').text\n",
        "        results.append([category, name, subscriber, view, video])"
      ],
      "execution_count": 54,
      "outputs": []
    },
    {
      "cell_type": "code",
      "metadata": {
        "colab": {
          "base_uri": "https://localhost:8080/"
        },
        "id": "Pv7PEUhWmvq8",
        "outputId": "7a607342-4c4e-407e-e16f-7611c21b67ac"
      },
      "source": [
        "df = pd.DataFrame(data=results, columns=['카테고리','채널명','구독자수','조회수','비디오수'])\n",
        "df.info()"
      ],
      "execution_count": 55,
      "outputs": [
        {
          "output_type": "stream",
          "text": [
            "<class 'pandas.core.frame.DataFrame'>\n",
            "RangeIndex: 200 entries, 0 to 199\n",
            "Data columns (total 5 columns):\n",
            " #   Column  Non-Null Count  Dtype \n",
            "---  ------  --------------  ----- \n",
            " 0   카테고리    200 non-null    object\n",
            " 1   채널명     200 non-null    object\n",
            " 2   구독자수    200 non-null    object\n",
            " 3   조회수     200 non-null    object\n",
            " 4   비디오수    200 non-null    object\n",
            "dtypes: object(5)\n",
            "memory usage: 7.9+ KB\n"
          ],
          "name": "stdout"
        }
      ]
    },
    {
      "cell_type": "code",
      "metadata": {
        "colab": {
          "base_uri": "https://localhost:8080/",
          "height": 204
        },
        "id": "Dl8swRxenlg7",
        "outputId": "acad4f95-68ac-4578-a045-f460767714f9"
      },
      "source": [
        "df.head()"
      ],
      "execution_count": 56,
      "outputs": [
        {
          "output_type": "execute_result",
          "data": {
            "text/html": [
              "<div>\n",
              "<style scoped>\n",
              "    .dataframe tbody tr th:only-of-type {\n",
              "        vertical-align: middle;\n",
              "    }\n",
              "\n",
              "    .dataframe tbody tr th {\n",
              "        vertical-align: top;\n",
              "    }\n",
              "\n",
              "    .dataframe thead th {\n",
              "        text-align: right;\n",
              "    }\n",
              "</style>\n",
              "<table border=\"1\" class=\"dataframe\">\n",
              "  <thead>\n",
              "    <tr style=\"text-align: right;\">\n",
              "      <th></th>\n",
              "      <th>카테고리</th>\n",
              "      <th>채널명</th>\n",
              "      <th>구독자수</th>\n",
              "      <th>조회수</th>\n",
              "      <th>비디오수</th>\n",
              "    </tr>\n",
              "  </thead>\n",
              "  <tbody>\n",
              "    <tr>\n",
              "      <th>0</th>\n",
              "      <td>음악/댄스/가수</td>\n",
              "      <td>BLACKPINK</td>\n",
              "      <td>6400만</td>\n",
              "      <td>190억0381만</td>\n",
              "      <td>371개</td>\n",
              "    </tr>\n",
              "    <tr>\n",
              "      <th>1</th>\n",
              "      <td>음악/댄스/가수</td>\n",
              "      <td>HYBE LABELS</td>\n",
              "      <td>6030만</td>\n",
              "      <td>187억1305만</td>\n",
              "      <td>654개</td>\n",
              "    </tr>\n",
              "    <tr>\n",
              "      <th>2</th>\n",
              "      <td></td>\n",
              "      <td></td>\n",
              "      <td></td>\n",
              "      <td></td>\n",
              "      <td></td>\n",
              "    </tr>\n",
              "    <tr>\n",
              "      <th>3</th>\n",
              "      <td></td>\n",
              "      <td></td>\n",
              "      <td></td>\n",
              "      <td></td>\n",
              "      <td></td>\n",
              "    </tr>\n",
              "    <tr>\n",
              "      <th>4</th>\n",
              "      <td></td>\n",
              "      <td></td>\n",
              "      <td></td>\n",
              "      <td></td>\n",
              "      <td></td>\n",
              "    </tr>\n",
              "  </tbody>\n",
              "</table>\n",
              "</div>"
            ],
            "text/plain": [
              "       카테고리          채널명   구독자수        조회수  비디오수\n",
              "0  음악/댄스/가수    BLACKPINK  6400만  190억0381만  371개\n",
              "1  음악/댄스/가수  HYBE LABELS  6030만  187억1305만  654개\n",
              "2                                               \n",
              "3                                               \n",
              "4                                               "
            ]
          },
          "metadata": {
            "tags": []
          },
          "execution_count": 56
        }
      ]
    },
    {
      "cell_type": "code",
      "metadata": {
        "id": "oimtuhhvwHlL"
      },
      "source": [
        ""
      ],
      "execution_count": null,
      "outputs": []
    }
  ]
}