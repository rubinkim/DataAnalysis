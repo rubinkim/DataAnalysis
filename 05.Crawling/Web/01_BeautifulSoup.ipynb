{
  "nbformat": 4,
  "nbformat_minor": 0,
  "metadata": {
    "colab": {
      "name": "01_BeautifulSoup.ipynb",
      "provenance": [],
      "collapsed_sections": []
    },
    "kernelspec": {
      "name": "python3",
      "display_name": "Python 3"
    },
    "language_info": {
      "name": "python"
    }
  },
  "cells": [
    {
      "cell_type": "markdown",
      "metadata": {
        "id": "aLG6E6SHPOJy"
      },
      "source": [
        "# BeautifulSoup 사용법"
      ]
    },
    {
      "cell_type": "markdown",
      "metadata": {
        "id": "QyKVU_TcT0fx"
      },
      "source": [
        "## Local HTML 파일 열기"
      ]
    },
    {
      "cell_type": "code",
      "metadata": {
        "id": "80gsddwyPPKU"
      },
      "source": [
        "import requests\n",
        "import urllib.request\n",
        "from bs4 import BeautifulSoup"
      ],
      "execution_count": 5,
      "outputs": []
    },
    {
      "cell_type": "code",
      "metadata": {
        "id": "t_WMDLLdPC1D"
      },
      "source": [
        "with open('00_Example.html') as fp:\n",
        "    soup = BeautifulSoup(fp, 'html.parser')"
      ],
      "execution_count": 17,
      "outputs": []
    },
    {
      "cell_type": "code",
      "metadata": {
        "colab": {
          "base_uri": "https://localhost:8080/"
        },
        "id": "6JU-VtwITfuD",
        "outputId": "6b149543-ebf1-48ec-ec65-728488b99dae"
      },
      "source": [
        "soup"
      ],
      "execution_count": 18,
      "outputs": [
        {
          "output_type": "execute_result",
          "data": {
            "text/plain": [
              "<!DOCTYPE html>\n",
              "\n",
              "<html lang=\"en\">\n",
              "<head>\n",
              "<meta charset=\"utf-8\"/>\n",
              "<meta content=\"width=device-width, initial-scale=1.0\" name=\"viewport\"/>\n",
              "<title>Web Crawling Example</title>\n",
              "</head>\n",
              "<body>\n",
              "<div>\n",
              "<p>a</p><p>b</p><p>c</p>\n",
              "</div>\n",
              "<div class=\"ex_class sample\">\n",
              "<p>1</p><p>2</p><p>3</p>\n",
              "</div>\n",
              "<div id=\"ex_id\">\n",
              "<p>X</p><p>Y</p><p>Z</p>\n",
              "</div>\n",
              "<h1>This is a heading.</h1>\n",
              "<p>This is a paragraph.</p>\n",
              "<p>This is another paragraph.</p>\n",
              "<a class=\"a sample\" href=\"www.naver.com\">Naver</a>\n",
              "</body>\n",
              "</html>"
            ]
          },
          "metadata": {
            "tags": []
          },
          "execution_count": 18
        }
      ]
    },
    {
      "cell_type": "markdown",
      "metadata": {
        "id": "9TptYowAU6in"
      },
      "source": [
        "- find - 한 개만 찾는 메서드"
      ]
    },
    {
      "cell_type": "code",
      "metadata": {
        "colab": {
          "base_uri": "https://localhost:8080/"
        },
        "id": "t5LAQYmaTg5J",
        "outputId": "ffe3d6b4-dfdb-4b54-c0bd-235760c89432"
      },
      "source": [
        "first_div = soup.find('div')    # find - 한 개만 찾는 메서드\n",
        "first_div"
      ],
      "execution_count": 19,
      "outputs": [
        {
          "output_type": "execute_result",
          "data": {
            "text/plain": [
              "<div>\n",
              "<p>a</p><p>b</p><p>c</p>\n",
              "</div>"
            ]
          },
          "metadata": {
            "tags": []
          },
          "execution_count": 19
        }
      ]
    },
    {
      "cell_type": "markdown",
      "metadata": {
        "id": "jvhjVRZlVC5O"
      },
      "source": [
        "- find_all - 모두를 찾는 메서드"
      ]
    },
    {
      "cell_type": "code",
      "metadata": {
        "colab": {
          "base_uri": "https://localhost:8080/"
        },
        "id": "bsS20TRwUOyN",
        "outputId": "e2996236-65a0-4f21-e090-c7a36b74dd9b"
      },
      "source": [
        "all_divs = soup.find_all('div')   # find_all - 모두를 찾는 메서드\n",
        "all_divs"
      ],
      "execution_count": 20,
      "outputs": [
        {
          "output_type": "execute_result",
          "data": {
            "text/plain": [
              "[<div>\n",
              " <p>a</p><p>b</p><p>c</p>\n",
              " </div>, <div class=\"ex_class sample\">\n",
              " <p>1</p><p>2</p><p>3</p>\n",
              " </div>, <div id=\"ex_id\">\n",
              " <p>X</p><p>Y</p><p>Z</p>\n",
              " </div>]"
            ]
          },
          "metadata": {
            "tags": []
          },
          "execution_count": 20
        }
      ]
    },
    {
      "cell_type": "code",
      "metadata": {
        "colab": {
          "base_uri": "https://localhost:8080/"
        },
        "id": "HIr_4AgWUafW",
        "outputId": "524a6b71-8e16-402a-e944-7e366f55b9e3"
      },
      "source": [
        "len(all_divs)    # 리스트"
      ],
      "execution_count": 21,
      "outputs": [
        {
          "output_type": "execute_result",
          "data": {
            "text/plain": [
              "3"
            ]
          },
          "metadata": {
            "tags": []
          },
          "execution_count": 21
        }
      ]
    },
    {
      "cell_type": "code",
      "metadata": {
        "colab": {
          "base_uri": "https://localhost:8080/"
        },
        "id": "J1wBmzT5UpSk",
        "outputId": "56d5aeb0-5394-4ddb-bc9d-dd42cdb38fc7"
      },
      "source": [
        "for div in all_divs:\n",
        "    print(div)"
      ],
      "execution_count": 22,
      "outputs": [
        {
          "output_type": "stream",
          "text": [
            "<div>\n",
            "<p>a</p><p>b</p><p>c</p>\n",
            "</div>\n",
            "<div class=\"ex_class sample\">\n",
            "<p>1</p><p>2</p><p>3</p>\n",
            "</div>\n",
            "<div id=\"ex_id\">\n",
            "<p>X</p><p>Y</p><p>Z</p>\n",
            "</div>\n"
          ],
          "name": "stdout"
        }
      ]
    },
    {
      "cell_type": "code",
      "metadata": {
        "colab": {
          "base_uri": "https://localhost:8080/"
        },
        "id": "Emg-zW1NUz7Y",
        "outputId": "1171e5f0-7946-4ac3-f630-ce4059ce8544"
      },
      "source": [
        "all_ps = soup.find_all('p')\n",
        "len(all_ps)"
      ],
      "execution_count": 23,
      "outputs": [
        {
          "output_type": "execute_result",
          "data": {
            "text/plain": [
              "11"
            ]
          },
          "metadata": {
            "tags": []
          },
          "execution_count": 23
        }
      ]
    },
    {
      "cell_type": "code",
      "metadata": {
        "colab": {
          "base_uri": "https://localhost:8080/"
        },
        "id": "bYGAlxDkVI9h",
        "outputId": "c92d9dd6-6650-4165-dfa5-ce47e14c160d"
      },
      "source": [
        "soup"
      ],
      "execution_count": 24,
      "outputs": [
        {
          "output_type": "execute_result",
          "data": {
            "text/plain": [
              "<!DOCTYPE html>\n",
              "\n",
              "<html lang=\"en\">\n",
              "<head>\n",
              "<meta charset=\"utf-8\"/>\n",
              "<meta content=\"width=device-width, initial-scale=1.0\" name=\"viewport\"/>\n",
              "<title>Web Crawling Example</title>\n",
              "</head>\n",
              "<body>\n",
              "<div>\n",
              "<p>a</p><p>b</p><p>c</p>\n",
              "</div>\n",
              "<div class=\"ex_class sample\">\n",
              "<p>1</p><p>2</p><p>3</p>\n",
              "</div>\n",
              "<div id=\"ex_id\">\n",
              "<p>X</p><p>Y</p><p>Z</p>\n",
              "</div>\n",
              "<h1>This is a heading.</h1>\n",
              "<p>This is a paragraph.</p>\n",
              "<p>This is another paragraph.</p>\n",
              "<a class=\"a sample\" href=\"www.naver.com\">Naver</a>\n",
              "</body>\n",
              "</html>"
            ]
          },
          "metadata": {
            "tags": []
          },
          "execution_count": 24
        }
      ]
    },
    {
      "cell_type": "markdown",
      "metadata": {
        "id": "XUvixfHNVeEE"
      },
      "source": [
        "- select_one - CSS Selector로 하나만 찾기"
      ]
    },
    {
      "cell_type": "code",
      "metadata": {
        "colab": {
          "base_uri": "https://localhost:8080/"
        },
        "id": "dvqAoyYZVczY",
        "outputId": "73fc0095-276e-45ad-b45d-e9fa762b1bc8"
      },
      "source": [
        "ex_id_div = soup.select_one('#ex_id')  # id\n",
        "ex_id_div"
      ],
      "execution_count": 25,
      "outputs": [
        {
          "output_type": "execute_result",
          "data": {
            "text/plain": [
              "<div id=\"ex_id\">\n",
              "<p>X</p><p>Y</p><p>Z</p>\n",
              "</div>"
            ]
          },
          "metadata": {
            "tags": []
          },
          "execution_count": 25
        }
      ]
    },
    {
      "cell_type": "code",
      "metadata": {
        "colab": {
          "base_uri": "https://localhost:8080/"
        },
        "id": "_S5BkvUJXLMt",
        "outputId": "2572e301-6808-4069-e650-5a9546b006e7"
      },
      "source": [
        "ex_sample_div = soup.select_one('.ex_class.sample')       # class\n",
        "ex_sample_div"
      ],
      "execution_count": 30,
      "outputs": [
        {
          "output_type": "execute_result",
          "data": {
            "text/plain": [
              "<div class=\"ex_class sample\">\n",
              "<p>1</p><p>2</p><p>3</p>\n",
              "</div>"
            ]
          },
          "metadata": {
            "tags": []
          },
          "execution_count": 30
        }
      ]
    },
    {
      "cell_type": "code",
      "metadata": {
        "colab": {
          "base_uri": "https://localhost:8080/"
        },
        "id": "qVAA_oWnWH88",
        "outputId": "a1327885-8f7e-403f-f7a5-1d0176c5384b"
      },
      "source": [
        "ex_id_divs = soup.select('#ex_id')     # 결과는 리스트\n",
        "ex_id_divs"
      ],
      "execution_count": 26,
      "outputs": [
        {
          "output_type": "execute_result",
          "data": {
            "text/plain": [
              "[<div id=\"ex_id\">\n",
              " <p>X</p><p>Y</p><p>Z</p>\n",
              " </div>]"
            ]
          },
          "metadata": {
            "tags": []
          },
          "execution_count": 26
        }
      ]
    },
    {
      "cell_type": "code",
      "metadata": {
        "colab": {
          "base_uri": "https://localhost:8080/"
        },
        "id": "0-d4k5_hXILN",
        "outputId": "3811d730-679f-485f-a8b8-fbe526402c52"
      },
      "source": [
        "sample_divs = soup.select('.sample')\n",
        "sample_divs"
      ],
      "execution_count": 27,
      "outputs": [
        {
          "output_type": "execute_result",
          "data": {
            "text/plain": [
              "[<div class=\"ex_class sample\">\n",
              " <p>1</p><p>2</p><p>3</p>\n",
              " </div>, <a class=\"a sample\" href=\"www.naver.com\">Naver</a>]"
            ]
          },
          "metadata": {
            "tags": []
          },
          "execution_count": 27
        }
      ]
    },
    {
      "cell_type": "markdown",
      "metadata": {
        "id": "dkSP05sDYBTy"
      },
      "source": [
        "###  결과 가져오기\n"
      ]
    },
    {
      "cell_type": "code",
      "metadata": {
        "colab": {
          "base_uri": "https://localhost:8080/",
          "height": 35
        },
        "id": "5qmmc4-HXVW_",
        "outputId": "586df567-3a85-437b-bed8-07f94a7f98a9"
      },
      "source": [
        "# <a class=\"a sample\" href=\"www.naver.com\">Naver</a>\n",
        "result = soup.select_one('.a.sample').get_text()\n",
        "result"
      ],
      "execution_count": 31,
      "outputs": [
        {
          "output_type": "execute_result",
          "data": {
            "application/vnd.google.colaboratory.intrinsic+json": {
              "type": "string"
            },
            "text/plain": [
              "'Naver'"
            ]
          },
          "metadata": {
            "tags": []
          },
          "execution_count": 31
        }
      ]
    },
    {
      "cell_type": "code",
      "metadata": {
        "colab": {
          "base_uri": "https://localhost:8080/",
          "height": 35
        },
        "id": "x_hlkKQhX_Ul",
        "outputId": "92856c7b-00fa-4aeb-a0c5-d3c799b39469"
      },
      "source": [
        "result = soup.select_one('.a.sample').string\n",
        "result"
      ],
      "execution_count": 33,
      "outputs": [
        {
          "output_type": "execute_result",
          "data": {
            "application/vnd.google.colaboratory.intrinsic+json": {
              "type": "string"
            },
            "text/plain": [
              "'Naver'"
            ]
          },
          "metadata": {
            "tags": []
          },
          "execution_count": 33
        }
      ]
    },
    {
      "cell_type": "code",
      "metadata": {
        "colab": {
          "base_uri": "https://localhost:8080/",
          "height": 35
        },
        "id": "eXHSuLOeYGwz",
        "outputId": "87f15847-5fec-499b-aa97-f53be0422a49"
      },
      "source": [
        "# 속성 값\n",
        "href = soup.select_one('.a.sample')['href']\n",
        "href"
      ],
      "execution_count": 36,
      "outputs": [
        {
          "output_type": "execute_result",
          "data": {
            "application/vnd.google.colaboratory.intrinsic+json": {
              "type": "string"
            },
            "text/plain": [
              "'www.naver.com'"
            ]
          },
          "metadata": {
            "tags": []
          },
          "execution_count": 36
        }
      ]
    },
    {
      "cell_type": "code",
      "metadata": {
        "colab": {
          "base_uri": "https://localhost:8080/"
        },
        "id": "SbMRGD_9Yjj4",
        "outputId": "95be39d4-16df-4a24-fe43-372a46fe15ea"
      },
      "source": [
        "ex_id_div = soup.select_one('#ex_id')\n",
        "all_ps = ex_id_div.select('p')\n",
        "\n",
        "[i.string for i in all_ps]"
      ],
      "execution_count": 44,
      "outputs": [
        {
          "output_type": "execute_result",
          "data": {
            "text/plain": [
              "['X', 'Y', 'Z']"
            ]
          },
          "metadata": {
            "tags": []
          },
          "execution_count": 44
        }
      ]
    },
    {
      "cell_type": "code",
      "metadata": {
        "colab": {
          "base_uri": "https://localhost:8080/"
        },
        "id": "MqbVOe8uY1Cn",
        "outputId": "e24921e6-dd90-43b0-9710-318c5c652de1"
      },
      "source": [
        "all_ps = soup.select_one('#ex_id').select('p')\n",
        "\n",
        "for p in all_ps:\n",
        "    print(p.get_text())"
      ],
      "execution_count": 41,
      "outputs": [
        {
          "output_type": "stream",
          "text": [
            "X\n",
            "Y\n",
            "Z\n"
          ],
          "name": "stdout"
        }
      ]
    },
    {
      "cell_type": "code",
      "metadata": {
        "id": "B6HN_ayrZdCu"
      },
      "source": [
        ""
      ],
      "execution_count": null,
      "outputs": []
    }
  ]
}