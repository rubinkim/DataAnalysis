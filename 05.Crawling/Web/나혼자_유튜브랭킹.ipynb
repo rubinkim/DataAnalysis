{
 "cells": [
  {
   "cell_type": "code",
   "execution_count": 6,
   "source": [
    "from selenium import webdriver\r\n",
    "from selenium.webdriver.common.keys import Keys\r\n",
    "import time\r\n",
    "import pandas as pd"
   ],
   "outputs": [],
   "metadata": {}
  },
  {
   "cell_type": "code",
   "execution_count": 8,
   "source": [
    "options = webdriver.ChromeOptions()\r\n",
    "options.add_argument('--headless')   # 화면없이 실행\r\n",
    "options.add_argument('--no-sandbox')\r\n",
    "options.add_argument(\"--single-process\")\r\n",
    "options.add_argument(\"--disable-dev-shm-usage\")\r\n",
    "driver = webdriver.Chrome('chromedriver', options=options)"
   ],
   "outputs": [],
   "metadata": {}
  },
  {
   "cell_type": "code",
   "execution_count": 21,
   "source": [
    "# 다운받은 웹드라이버를 통해 크롬을 켜겠다.\r\n",
    "driver = webdriver.Chrome(\"./chromedriver\")\r\n",
    "\r\n",
    "# 유튜브 랭킹 사이트에 접속하겠다.\r\n",
    "driver.get(\"https://youtube-rank.com/board/bbs/board.php?bo_table=youtube&page=1\")"
   ],
   "outputs": [],
   "metadata": {}
  },
  {
   "cell_type": "code",
   "execution_count": 22,
   "source": [
    "# pop-up 창이 있으면, pop-up 창을 닫고 메인 윈도우로 되돌아 옴\r\n",
    "window_len = len(driver.window_handles)\r\n",
    "if window_len == 2:\r\n",
    "    driver.switch_to.window(driver.window_handles[1])\r\n",
    "    driver.close()\r\n",
    "\r\n",
    "# 화면의 끝까지 PageDown으로 내려보냄\r\n",
    "driver.switch_to.window(driver.window_handles[0])\r\n",
    "body = driver.find_element_by_css_selector('body')\r\n",
    "for i in range(30):\r\n",
    "    body.send_keys(Keys.PAGE_DOWN)\r\n",
    "    time.sleep(1)"
   ],
   "outputs": [],
   "metadata": {}
  },
  {
   "cell_type": "code",
   "execution_count": 23,
   "source": [
    "trs = driver.find_elements_by_css_selector('.aos-init')\r\n",
    "len(trs)"
   ],
   "outputs": [
    {
     "output_type": "execute_result",
     "data": {
      "text/plain": [
       "100"
      ]
     },
     "metadata": {},
     "execution_count": 23
    }
   ],
   "metadata": {}
  },
  {
   "cell_type": "code",
   "execution_count": 25,
   "source": [
    "trs[99].text"
   ],
   "outputs": [
    {
     "output_type": "execute_result",
     "data": {
      "text/plain": [
       "'101\\n[취미/라이프]\\nJaeYeol ASMR 재열 0\\n먹방 asmr mukbang \"jaeyeol asmr\" 재열 MUKBANG \"ASMR MUKBANG\"\\n380만 10억1154만 970개'"
      ]
     },
     "metadata": {},
     "execution_count": 25
    }
   ],
   "metadata": {}
  },
  {
   "cell_type": "code",
   "execution_count": 26,
   "source": [
    "def convert_unit(s):\r\n",
    "    s = s.replace('억', '').replace('개', '').replace(',', '')\r\n",
    "    s = s.replace('만', '0000')\r\n",
    "    return f'{int(s):,d}'"
   ],
   "outputs": [],
   "metadata": {}
  },
  {
   "cell_type": "code",
   "execution_count": 29,
   "source": [
    "tr = trs[99]\r\n",
    "category = tr.find_element_by_css_selector('p.category').text.strip(' \\n[]')\r\n",
    "category\r\n"
   ],
   "outputs": [
    {
     "output_type": "execute_result",
     "data": {
      "text/plain": [
       "'취미/라이프'"
      ]
     },
     "metadata": {},
     "execution_count": 29
    }
   ],
   "metadata": {}
  },
  {
   "cell_type": "code",
   "execution_count": 34,
   "source": [
    "name = tr.find_element_by_css_selector('.subject a').text.strip()\r\n",
    "name"
   ],
   "outputs": [
    {
     "output_type": "execute_result",
     "data": {
      "text/plain": [
       "'JaeYeol ASMR 재열'"
      ]
     },
     "metadata": {},
     "execution_count": 34
    }
   ],
   "metadata": {}
  },
  {
   "cell_type": "code",
   "execution_count": 37,
   "source": [
    "subscriber = convert_unit(tr.find_element_by_css_selector('.subscriber_cnt').text)\r\n",
    "subscriber"
   ],
   "outputs": [
    {
     "output_type": "execute_result",
     "data": {
      "text/plain": [
       "'3,800,000'"
      ]
     },
     "metadata": {},
     "execution_count": 37
    }
   ],
   "metadata": {}
  },
  {
   "cell_type": "code",
   "execution_count": 38,
   "source": [
    "view = convert_unit(tr.find_element_by_css_selector('.view_cnt').text)\r\n",
    "view"
   ],
   "outputs": [
    {
     "output_type": "execute_result",
     "data": {
      "text/plain": [
       "'1,011,540,000'"
      ]
     },
     "metadata": {},
     "execution_count": 38
    }
   ],
   "metadata": {}
  },
  {
   "cell_type": "code",
   "execution_count": 41,
   "source": [
    "video = convert_unit(tr.find_element_by_css_selector('.video_cnt').text)\r\n",
    "video"
   ],
   "outputs": [
    {
     "output_type": "execute_result",
     "data": {
      "text/plain": [
       "'970'"
      ]
     },
     "metadata": {},
     "execution_count": 41
    }
   ],
   "metadata": {}
  },
  {
   "cell_type": "code",
   "execution_count": 42,
   "source": [
    "category, name, subscriber, view, video"
   ],
   "outputs": [
    {
     "output_type": "execute_result",
     "data": {
      "text/plain": [
       "('취미/라이프', 'JaeYeol ASMR 재열', '3,800,000', '1,011,540,000', '970')"
      ]
     },
     "metadata": {},
     "execution_count": 42
    }
   ],
   "metadata": {}
  },
  {
   "cell_type": "code",
   "execution_count": 40,
   "source": [
    "from tqdm.notebook import tqdm"
   ],
   "outputs": [],
   "metadata": {}
  },
  {
   "cell_type": "code",
   "execution_count": 43,
   "source": [
    "results = []\r\n",
    "for page in tqdm(range(1, 11)):\r\n",
    "    url = 'https://youtube-rank.com/board/bbs/board.php?bo_table=youtube&page=' + str(page)\r\n",
    "    driver.get(url)\r\n",
    "    time.sleep(2)\r\n",
    "\r\n",
    "    window_len = len(driver.window_handles)\r\n",
    "    if window_len == 2:\r\n",
    "        driver.switch_to.window(driver.window_handles[1])\r\n",
    "        driver.close()\r\n",
    "    driver.switch_to.window(driver.window_handles[0])\r\n",
    "    body = driver.find_element_by_css_selector('body')\r\n",
    "    for i in range(30):\r\n",
    "        body.send_keys(Keys.PAGE_DOWN)\r\n",
    "        time.sleep(1)\r\n",
    "\r\n",
    "    trs = driver.find_elements_by_css_selector('.aos-init')\r\n",
    "\r\n",
    "    for tr in trs:\r\n",
    "        category = tr.find_element_by_css_selector('p.category').text.strip(' \\n[]')\r\n",
    "        name = tr.find_element_by_css_selector('.subject a').text.strip()\r\n",
    "        subscriber = convert_unit(tr.find_element_by_css_selector('.subscriber_cnt').text)\r\n",
    "        view = convert_unit(tr.find_element_by_css_selector('.view_cnt').text)\r\n",
    "        video = convert_unit(tr.find_element_by_css_selector('.video_cnt').text)\r\n",
    "\r\n",
    "        results.append([category, name, subscriber, view, video])"
   ],
   "outputs": [
    {
     "output_type": "display_data",
     "data": {
      "text/plain": [
       "  0%|          | 0/10 [00:00<?, ?it/s]"
      ],
      "application/vnd.jupyter.widget-view+json": {
       "version_major": 2,
       "version_minor": 0,
       "model_id": "90ebd05d75da46b6b534505f11d82c8d"
      }
     },
     "metadata": {}
    }
   ],
   "metadata": {}
  },
  {
   "cell_type": "code",
   "execution_count": 44,
   "source": [
    "df = pd.DataFrame(data=results, columns=['카테고리','채널명','구독자수','조회수','비디오수'])\r\n",
    "df.head()"
   ],
   "outputs": [
    {
     "output_type": "execute_result",
     "data": {
      "text/plain": [
       "       카테고리                          채널명        구독자수             조회수   비디오수\n",
       "0  음악/댄스/가수                    BLACKPINK  64,100,000  19,018,090,000    371\n",
       "1  음악/댄스/가수                  HYBE LABELS  60,400,000  18,735,840,000    654\n",
       "2  음악/댄스/가수                    BANGTANTV  56,500,000  12,212,970,000  1,579\n",
       "3  음악/댄스/가수                       SMTOWN  28,500,000  21,895,380,000  3,729\n",
       "4    키즈/어린이  Boram Tube Vlog [보람튜브 브이로그]  26,500,000  11,052,880,000    223"
      ],
      "text/html": [
       "<div>\n",
       "<style scoped>\n",
       "    .dataframe tbody tr th:only-of-type {\n",
       "        vertical-align: middle;\n",
       "    }\n",
       "\n",
       "    .dataframe tbody tr th {\n",
       "        vertical-align: top;\n",
       "    }\n",
       "\n",
       "    .dataframe thead th {\n",
       "        text-align: right;\n",
       "    }\n",
       "</style>\n",
       "<table border=\"1\" class=\"dataframe\">\n",
       "  <thead>\n",
       "    <tr style=\"text-align: right;\">\n",
       "      <th></th>\n",
       "      <th>카테고리</th>\n",
       "      <th>채널명</th>\n",
       "      <th>구독자수</th>\n",
       "      <th>조회수</th>\n",
       "      <th>비디오수</th>\n",
       "    </tr>\n",
       "  </thead>\n",
       "  <tbody>\n",
       "    <tr>\n",
       "      <th>0</th>\n",
       "      <td>음악/댄스/가수</td>\n",
       "      <td>BLACKPINK</td>\n",
       "      <td>64,100,000</td>\n",
       "      <td>19,018,090,000</td>\n",
       "      <td>371</td>\n",
       "    </tr>\n",
       "    <tr>\n",
       "      <th>1</th>\n",
       "      <td>음악/댄스/가수</td>\n",
       "      <td>HYBE LABELS</td>\n",
       "      <td>60,400,000</td>\n",
       "      <td>18,735,840,000</td>\n",
       "      <td>654</td>\n",
       "    </tr>\n",
       "    <tr>\n",
       "      <th>2</th>\n",
       "      <td>음악/댄스/가수</td>\n",
       "      <td>BANGTANTV</td>\n",
       "      <td>56,500,000</td>\n",
       "      <td>12,212,970,000</td>\n",
       "      <td>1,579</td>\n",
       "    </tr>\n",
       "    <tr>\n",
       "      <th>3</th>\n",
       "      <td>음악/댄스/가수</td>\n",
       "      <td>SMTOWN</td>\n",
       "      <td>28,500,000</td>\n",
       "      <td>21,895,380,000</td>\n",
       "      <td>3,729</td>\n",
       "    </tr>\n",
       "    <tr>\n",
       "      <th>4</th>\n",
       "      <td>키즈/어린이</td>\n",
       "      <td>Boram Tube Vlog [보람튜브 브이로그]</td>\n",
       "      <td>26,500,000</td>\n",
       "      <td>11,052,880,000</td>\n",
       "      <td>223</td>\n",
       "    </tr>\n",
       "  </tbody>\n",
       "</table>\n",
       "</div>"
      ]
     },
     "metadata": {},
     "execution_count": 44
    }
   ],
   "metadata": {}
  },
  {
   "cell_type": "code",
   "execution_count": 45,
   "source": [
    "df.tail()"
   ],
   "outputs": [
    {
     "output_type": "execute_result",
     "data": {
      "text/plain": [
       "          카테고리        채널명     구독자수          조회수    비디오수\n",
       "995         게임        OGN  510,000  608,880,000  27,433\n",
       "996        미분류  밉지않은 관종언니  510,000   67,950,000     170\n",
       "997         게임         미소  510,000  210,780,000   3,084\n",
       "998  음식/요리/레시피      Muggo  510,000  183,720,000   1,388\n",
       "999         게임        임선비  510,000  234,290,000   1,134"
      ],
      "text/html": [
       "<div>\n",
       "<style scoped>\n",
       "    .dataframe tbody tr th:only-of-type {\n",
       "        vertical-align: middle;\n",
       "    }\n",
       "\n",
       "    .dataframe tbody tr th {\n",
       "        vertical-align: top;\n",
       "    }\n",
       "\n",
       "    .dataframe thead th {\n",
       "        text-align: right;\n",
       "    }\n",
       "</style>\n",
       "<table border=\"1\" class=\"dataframe\">\n",
       "  <thead>\n",
       "    <tr style=\"text-align: right;\">\n",
       "      <th></th>\n",
       "      <th>카테고리</th>\n",
       "      <th>채널명</th>\n",
       "      <th>구독자수</th>\n",
       "      <th>조회수</th>\n",
       "      <th>비디오수</th>\n",
       "    </tr>\n",
       "  </thead>\n",
       "  <tbody>\n",
       "    <tr>\n",
       "      <th>995</th>\n",
       "      <td>게임</td>\n",
       "      <td>OGN</td>\n",
       "      <td>510,000</td>\n",
       "      <td>608,880,000</td>\n",
       "      <td>27,433</td>\n",
       "    </tr>\n",
       "    <tr>\n",
       "      <th>996</th>\n",
       "      <td>미분류</td>\n",
       "      <td>밉지않은 관종언니</td>\n",
       "      <td>510,000</td>\n",
       "      <td>67,950,000</td>\n",
       "      <td>170</td>\n",
       "    </tr>\n",
       "    <tr>\n",
       "      <th>997</th>\n",
       "      <td>게임</td>\n",
       "      <td>미소</td>\n",
       "      <td>510,000</td>\n",
       "      <td>210,780,000</td>\n",
       "      <td>3,084</td>\n",
       "    </tr>\n",
       "    <tr>\n",
       "      <th>998</th>\n",
       "      <td>음식/요리/레시피</td>\n",
       "      <td>Muggo</td>\n",
       "      <td>510,000</td>\n",
       "      <td>183,720,000</td>\n",
       "      <td>1,388</td>\n",
       "    </tr>\n",
       "    <tr>\n",
       "      <th>999</th>\n",
       "      <td>게임</td>\n",
       "      <td>임선비</td>\n",
       "      <td>510,000</td>\n",
       "      <td>234,290,000</td>\n",
       "      <td>1,134</td>\n",
       "    </tr>\n",
       "  </tbody>\n",
       "</table>\n",
       "</div>"
      ]
     },
     "metadata": {},
     "execution_count": 45
    }
   ],
   "metadata": {}
  },
  {
   "cell_type": "code",
   "execution_count": null,
   "source": [],
   "outputs": [],
   "metadata": {}
  }
 ],
 "metadata": {
  "orig_nbformat": 4,
  "language_info": {
   "name": "python",
   "version": "3.8.10",
   "mimetype": "text/x-python",
   "codemirror_mode": {
    "name": "ipython",
    "version": 3
   },
   "pygments_lexer": "ipython3",
   "nbconvert_exporter": "python",
   "file_extension": ".py"
  },
  "kernelspec": {
   "name": "python3",
   "display_name": "Python 3.8.10 64-bit ('base': conda)"
  },
  "interpreter": {
   "hash": "4905652b14e4b7eb92899b78ac499a22c488804455b27940a322fd82aaf71031"
  }
 },
 "nbformat": 4,
 "nbformat_minor": 2
}